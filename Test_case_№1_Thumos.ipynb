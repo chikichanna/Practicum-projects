{
  "cells": [
    {
      "cell_type": "markdown",
      "metadata": {
        "id": "view-in-github",
        "colab_type": "text"
      },
      "source": [
        "<a href=\"https://colab.research.google.com/github/chikichanna/Practicum-projects/blob/main/Test_case_%E2%84%961_Thumos.ipynb\" target=\"_parent\"><img src=\"https://colab.research.google.com/assets/colab-badge.svg\" alt=\"Open In Colab\"/></a>"
      ]
    },
    {
      "cell_type": "markdown",
      "id": "6f64d352",
      "metadata": {
        "id": "6f64d352"
      },
      "source": [
        "# Test case №1:"
      ]
    },
    {
      "cell_type": "markdown",
      "id": "ab32459b",
      "metadata": {
        "toc": true,
        "id": "ab32459b"
      },
      "source": [
        "<h1>Table of Contents<span class=\"tocSkip\"></span></h1>\n",
        "<div class=\"toc\"><ul class=\"toc-item\"><li><span><a href=\"#Method-№1\" data-toc-modified-id=\"Method-№1-1\"><span class=\"toc-item-num\">1&nbsp;&nbsp;</span>Method №1</a></span></li><li><span><a href=\"#Method-№2\" data-toc-modified-id=\"Method-№2-2\"><span class=\"toc-item-num\">2&nbsp;&nbsp;</span>Method №2</a></span></li></ul></div>"
      ]
    },
    {
      "cell_type": "code",
      "execution_count": null,
      "id": "d459b3bc",
      "metadata": {
        "id": "d459b3bc"
      },
      "outputs": [],
      "source": [
        "import pandas as pd"
      ]
    },
    {
      "cell_type": "markdown",
      "id": "8df66de1",
      "metadata": {
        "id": "8df66de1"
      },
      "source": [
        "### Method №1"
      ]
    },
    {
      "cell_type": "code",
      "execution_count": null,
      "id": "c8e5284f",
      "metadata": {
        "scrolled": false,
        "id": "c8e5284f"
      },
      "outputs": [],
      "source": [
        "# Get a list of all CSV files\n",
        "csv_files = []\n",
        "for i in range (1,110):\n",
        "    if i<10:\n",
        "        csv_files.append(\"data_00000000000\" + str(i) + \".csv\")\n",
        "    elif i<100:\n",
        "        csv_files.append(\"data_0000000000\" + str(i) + \".csv\")\n",
        "    elif i>=100:\n",
        "        csv_files.append(\"data_000000000\" + str(i) + \".csv\")\n",
        "\n",
        "# Create an empty dataframe to store the combined data\n",
        "combined_df = pd.DataFrame()\n",
        "\n",
        "# Loop through each CSV file and append its contents to the combined dataframe\n",
        "for csv_file in csv_files:\n",
        "    df = pd.read_csv(csv_file)\n",
        "    combined_df = pd.concat([combined_df, df])\n",
        "\n",
        "# Print the combined dataframe\n",
        "print(combined_df)"
      ]
    },
    {
      "cell_type": "markdown",
      "id": "0ae212e1",
      "metadata": {
        "id": "0ae212e1"
      },
      "source": [
        "### Method №2"
      ]
    },
    {
      "cell_type": "markdown",
      "id": "dc8d4dea",
      "metadata": {
        "id": "dc8d4dea"
      },
      "source": [
        "There is another way. To use it we'll need another library. It will help us to get a list of the files in the directory.\n",
        "For that to work we have to save all our files in one directory and nothing else."
      ]
    },
    {
      "cell_type": "code",
      "execution_count": null,
      "id": "81deb0f9",
      "metadata": {
        "id": "81deb0f9"
      },
      "outputs": [],
      "source": [
        "import glob\n",
        "\n",
        "# Get a list of all CSV files in a directory (for example \"datasets\")\n",
        "csv_files = glob.glob('datasets/*.csv')\n",
        "\n",
        "# Create an empty dataframe to store the combined data\n",
        "combined_df = pd.DataFrame()\n",
        "\n",
        "# Loop through each CSV file and append its contents to the combined dataframe\n",
        "for csv_file in csv_files:\n",
        "    df = pd.read_csv(csv_file)\n",
        "    combined_df = pd.concat([combined_df, df])\n",
        "\n",
        "# Print the combined dataframe\n",
        "print(combined_df)"
      ]
    }
  ],
  "metadata": {
    "kernelspec": {
      "display_name": "Python 3 (ipykernel)",
      "language": "python",
      "name": "python3"
    },
    "language_info": {
      "codemirror_mode": {
        "name": "ipython",
        "version": 3
      },
      "file_extension": ".py",
      "mimetype": "text/x-python",
      "name": "python",
      "nbconvert_exporter": "python",
      "pygments_lexer": "ipython3",
      "version": "3.9.13"
    },
    "toc": {
      "base_numbering": 1,
      "nav_menu": {},
      "number_sections": true,
      "sideBar": true,
      "skip_h1_title": true,
      "title_cell": "Table of Contents",
      "title_sidebar": "Contents",
      "toc_cell": true,
      "toc_position": {},
      "toc_section_display": true,
      "toc_window_display": false
    },
    "colab": {
      "provenance": [],
      "include_colab_link": true
    }
  },
  "nbformat": 4,
  "nbformat_minor": 5
}