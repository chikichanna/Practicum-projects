{
 "cells": [
  {
   "cell_type": "markdown",
   "metadata": {},
   "source": [
    "# Анализ крупного интернет-магазина. Проверка гипотез для увеличения выручки."
   ]
  },
  {
   "cell_type": "markdown",
   "metadata": {},
   "source": [
    "Исследование с точки зрения аналитика крупного интернет-магазина.   \n",
    "Вместе с отделом маркетинга мы подготовили список гипотез для увеличения выручки.  \n",
    "Наша задача — приоритизировать гипотезы, запустить A/B-тест и проанализировать результаты. "
   ]
  },
  {
   "cell_type": "markdown",
   "metadata": {},
   "source": [
    "<b>Часть 1. Приоритизация гипотез </b>  \n",
    "В файле /datasets/hypothesis.csv 9 гипотез по увеличению выручки интернет-магазина с указанными параметрами Reach, Impact, Confidence, Effort.  \n",
    "<b>Задача:</b>\n",
    "- Применить фреймворк ICE для приоритизации гипотез. Отсортировать их по убыванию приоритета.\n",
    "- Применить фреймворк RICE для приоритизации гипотез. Отсортировать их по убыванию приоритета.\n",
    "- Указать, как изменилась приоритизация гипотез при применении RICE вместо ICE. Объяснить, почему так произошло.\n",
    "\n",
    "\n",
    "<b>Часть 2. Анализ A/B-теста</b>  \n",
    "Мы провели A/B-тест и получили результаты, которые описаны в файлах /datasets/orders.csv и /datasets/visitors.csv.  \n",
    "<b>Задача:</b>  \n",
    "Проанализировать A/B-тест:\n",
    "1. Построить график кумулятивной выручки по группам. Сделать выводы и предположения.\n",
    "2. Построить график кумулятивного среднего чека по группам. Сделать выводы и предположения.\n",
    "3. Построить график относительного изменения кумулятивного среднего чека группы B к группе A. Сделать выводы и предположения.\n",
    "4. Построить график кумулятивного среднего количества заказов на посетителя по группам. Сделать выводы и предположения.\n",
    "5. Построить график относительного изменения кумулятивного среднего количества заказов на посетителя группы B к группе A. Сделать выводы и предположения.\n",
    "6. Построить точечный график количества заказов по пользователям. Сделать выводы и предположения.\n",
    "7. Посчитать 95-й и 99-й перцентили количества заказов на пользователя. Выбрать границу для определения аномальных пользователей.\n",
    "8. Построить точечный график стоимостей заказов. Сделать выводы и предположения.\n",
    "9. Посчитать 95-й и 99-й перцентили стоимости заказов. Выбрать границу для определения аномальных заказов.\n",
    "10. Посчитать статистическую значимость различий в среднем количестве заказов на посетителя между группами по «сырым» данным. Сделать выводы и предположения.\n",
    "11. Посчитать статистическую значимость различий в среднем чеке заказа между группами по «сырым» данным. Сделать выводы и предположения.\n",
    "12. Посчитать статистическую значимость различий в среднем количестве заказов на посетителя между группами по «очищенным» данным. Сделать выводы и предположения.\n",
    "13. Посчитать статистическую значимость различий в среднем чеке заказа между группами по «очищенным» данным. Сделать выводы и предположения.\n",
    "14. Принять решение по результатам теста и объяснить его. Варианты решений:\n",
    "    1. Остановить тест, зафиксировать победу одной из групп.\n",
    "    2. Остановить тест, зафиксировать отсутствие различий между группами.\n",
    "    3. Продолжить тест."
   ]
  },
  {
   "cell_type": "markdown",
   "metadata": {},
   "source": [
    "### Загрузим данные и подготовим их к анализу"
   ]
  },
  {
   "cell_type": "code",
   "execution_count": 37,
   "metadata": {},
   "outputs": [],
   "source": [
    "import pandas as pd\n",
    "import numpy as np\n",
    "from datetime import datetime, timedelta\n",
    "from matplotlib import pyplot as plt\n",
    "import seaborn as sns\n",
    "import scipy.stats as stats"
   ]
  },
  {
   "cell_type": "code",
   "execution_count": 38,
   "metadata": {},
   "outputs": [],
   "source": [
    "hypothesis = pd.read_csv('/datasets/hypothesis.csv')\n",
    "orders = pd.read_csv('/datasets/orders.csv')\n",
    "visitors = pd.read_csv('/datasets/visitors.csv')"
   ]
  },
  {
   "cell_type": "code",
   "execution_count": 39,
   "metadata": {},
   "outputs": [],
   "source": [
    "#переименуем столбцы на змеиным регистром\n",
    "hypothesis.columns = hypothesis.columns.str.lower()\n",
    "orders= orders.rename(columns={'transactionId':'transaction_id','visitorId':'visitor_id'})"
   ]
  },
  {
   "cell_type": "markdown",
   "metadata": {},
   "source": [
    "## Часть 1. Приоритизация гипотез."
   ]
  },
  {
   "cell_type": "code",
   "execution_count": 40,
   "metadata": {
    "scrolled": false
   },
   "outputs": [
    {
     "data": {
      "text/html": [
       "<div>\n",
       "<style scoped>\n",
       "    .dataframe tbody tr th:only-of-type {\n",
       "        vertical-align: middle;\n",
       "    }\n",
       "\n",
       "    .dataframe tbody tr th {\n",
       "        vertical-align: top;\n",
       "    }\n",
       "\n",
       "    .dataframe thead th {\n",
       "        text-align: right;\n",
       "    }\n",
       "</style>\n",
       "<table border=\"1\" class=\"dataframe\">\n",
       "  <thead>\n",
       "    <tr style=\"text-align: right;\">\n",
       "      <th></th>\n",
       "      <th>hypothesis</th>\n",
       "      <th>reach</th>\n",
       "      <th>impact</th>\n",
       "      <th>confidence</th>\n",
       "      <th>efforts</th>\n",
       "    </tr>\n",
       "  </thead>\n",
       "  <tbody>\n",
       "    <tr>\n",
       "      <th>0</th>\n",
       "      <td>Добавить два новых канала привлечения трафика,...</td>\n",
       "      <td>3</td>\n",
       "      <td>10</td>\n",
       "      <td>8</td>\n",
       "      <td>6</td>\n",
       "    </tr>\n",
       "    <tr>\n",
       "      <th>1</th>\n",
       "      <td>Запустить собственную службу доставки, что сок...</td>\n",
       "      <td>2</td>\n",
       "      <td>5</td>\n",
       "      <td>4</td>\n",
       "      <td>10</td>\n",
       "    </tr>\n",
       "    <tr>\n",
       "      <th>2</th>\n",
       "      <td>Добавить блоки рекомендаций товаров на сайт ин...</td>\n",
       "      <td>8</td>\n",
       "      <td>3</td>\n",
       "      <td>7</td>\n",
       "      <td>3</td>\n",
       "    </tr>\n",
       "    <tr>\n",
       "      <th>3</th>\n",
       "      <td>Изменить структура категорий, что увеличит кон...</td>\n",
       "      <td>8</td>\n",
       "      <td>3</td>\n",
       "      <td>3</td>\n",
       "      <td>8</td>\n",
       "    </tr>\n",
       "    <tr>\n",
       "      <th>4</th>\n",
       "      <td>Изменить цвет фона главной страницы, чтобы уве...</td>\n",
       "      <td>3</td>\n",
       "      <td>1</td>\n",
       "      <td>1</td>\n",
       "      <td>1</td>\n",
       "    </tr>\n",
       "    <tr>\n",
       "      <th>5</th>\n",
       "      <td>Добавить страницу отзывов клиентов о магазине,...</td>\n",
       "      <td>3</td>\n",
       "      <td>2</td>\n",
       "      <td>2</td>\n",
       "      <td>3</td>\n",
       "    </tr>\n",
       "    <tr>\n",
       "      <th>6</th>\n",
       "      <td>Показать на главной странице баннеры с актуаль...</td>\n",
       "      <td>5</td>\n",
       "      <td>3</td>\n",
       "      <td>8</td>\n",
       "      <td>3</td>\n",
       "    </tr>\n",
       "    <tr>\n",
       "      <th>7</th>\n",
       "      <td>Добавить форму подписки на все основные страни...</td>\n",
       "      <td>10</td>\n",
       "      <td>7</td>\n",
       "      <td>8</td>\n",
       "      <td>5</td>\n",
       "    </tr>\n",
       "    <tr>\n",
       "      <th>8</th>\n",
       "      <td>Запустить акцию, дающую скидку на товар в день...</td>\n",
       "      <td>1</td>\n",
       "      <td>9</td>\n",
       "      <td>9</td>\n",
       "      <td>5</td>\n",
       "    </tr>\n",
       "  </tbody>\n",
       "</table>\n",
       "</div>"
      ],
      "text/plain": [
       "                                          hypothesis  reach  impact  \\\n",
       "0  Добавить два новых канала привлечения трафика,...      3      10   \n",
       "1  Запустить собственную службу доставки, что сок...      2       5   \n",
       "2  Добавить блоки рекомендаций товаров на сайт ин...      8       3   \n",
       "3  Изменить структура категорий, что увеличит кон...      8       3   \n",
       "4  Изменить цвет фона главной страницы, чтобы уве...      3       1   \n",
       "5  Добавить страницу отзывов клиентов о магазине,...      3       2   \n",
       "6  Показать на главной странице баннеры с актуаль...      5       3   \n",
       "7  Добавить форму подписки на все основные страни...     10       7   \n",
       "8  Запустить акцию, дающую скидку на товар в день...      1       9   \n",
       "\n",
       "   confidence  efforts  \n",
       "0           8        6  \n",
       "1           4       10  \n",
       "2           7        3  \n",
       "3           3        8  \n",
       "4           1        1  \n",
       "5           2        3  \n",
       "6           8        3  \n",
       "7           8        5  \n",
       "8           9        5  "
      ]
     },
     "metadata": {},
     "output_type": "display_data"
    }
   ],
   "source": [
    "# рассмотрим данные\n",
    "display(hypothesis) "
   ]
  },
  {
   "cell_type": "markdown",
   "metadata": {},
   "source": [
    "$$ICE = \\frac{Impact * Confidence}{Efforts}$$\n",
    "\n",
    "$$RICE = \\frac{Rearch * Impact * Confidence}{Efforts}$$"
   ]
  },
  {
   "cell_type": "code",
   "execution_count": 41,
   "metadata": {
    "scrolled": true
   },
   "outputs": [
    {
     "name": "stdout",
     "output_type": "stream",
     "text": [
      "                                          hypothesis        ICE\n",
      "8  Запустить акцию, дающую скидку на товар в день...  16.200000\n",
      "0  Добавить два новых канала привлечения трафика,...  13.333333\n",
      "7  Добавить форму подписки на все основные страни...  11.200000\n",
      "6  Показать на главной странице баннеры с актуаль...   8.000000\n",
      "2  Добавить блоки рекомендаций товаров на сайт ин...   7.000000\n",
      "1  Запустить собственную службу доставки, что сок...   2.000000\n",
      "5  Добавить страницу отзывов клиентов о магазине,...   1.333333\n",
      "3  Изменить структура категорий, что увеличит кон...   1.125000\n",
      "4  Изменить цвет фона главной страницы, чтобы уве...   1.000000\n"
     ]
    }
   ],
   "source": [
    "hypothesis['ICE'] = hypothesis['impact'] * hypothesis['confidence'] / hypothesis['efforts']\n",
    "\n",
    "print(hypothesis[['hypothesis','ICE']].sort_values(by='ICE', ascending=False))"
   ]
  },
  {
   "cell_type": "markdown",
   "metadata": {},
   "source": [
    "Наиболее перспективные гипотезы по ICE: 8, 0, 7, 6"
   ]
  },
  {
   "cell_type": "code",
   "execution_count": 42,
   "metadata": {
    "scrolled": true
   },
   "outputs": [
    {
     "data": {
      "text/html": [
       "<div>\n",
       "<style scoped>\n",
       "    .dataframe tbody tr th:only-of-type {\n",
       "        vertical-align: middle;\n",
       "    }\n",
       "\n",
       "    .dataframe tbody tr th {\n",
       "        vertical-align: top;\n",
       "    }\n",
       "\n",
       "    .dataframe thead th {\n",
       "        text-align: right;\n",
       "    }\n",
       "</style>\n",
       "<table border=\"1\" class=\"dataframe\">\n",
       "  <thead>\n",
       "    <tr style=\"text-align: right;\">\n",
       "      <th></th>\n",
       "      <th>hypothesis</th>\n",
       "      <th>RICE</th>\n",
       "    </tr>\n",
       "  </thead>\n",
       "  <tbody>\n",
       "    <tr>\n",
       "      <th>7</th>\n",
       "      <td>Добавить форму подписки на все основные страни...</td>\n",
       "      <td>112.0</td>\n",
       "    </tr>\n",
       "    <tr>\n",
       "      <th>2</th>\n",
       "      <td>Добавить блоки рекомендаций товаров на сайт ин...</td>\n",
       "      <td>56.0</td>\n",
       "    </tr>\n",
       "    <tr>\n",
       "      <th>0</th>\n",
       "      <td>Добавить два новых канала привлечения трафика,...</td>\n",
       "      <td>40.0</td>\n",
       "    </tr>\n",
       "    <tr>\n",
       "      <th>6</th>\n",
       "      <td>Показать на главной странице баннеры с актуаль...</td>\n",
       "      <td>40.0</td>\n",
       "    </tr>\n",
       "    <tr>\n",
       "      <th>8</th>\n",
       "      <td>Запустить акцию, дающую скидку на товар в день...</td>\n",
       "      <td>16.2</td>\n",
       "    </tr>\n",
       "    <tr>\n",
       "      <th>3</th>\n",
       "      <td>Изменить структура категорий, что увеличит кон...</td>\n",
       "      <td>9.0</td>\n",
       "    </tr>\n",
       "    <tr>\n",
       "      <th>1</th>\n",
       "      <td>Запустить собственную службу доставки, что сок...</td>\n",
       "      <td>4.0</td>\n",
       "    </tr>\n",
       "    <tr>\n",
       "      <th>5</th>\n",
       "      <td>Добавить страницу отзывов клиентов о магазине,...</td>\n",
       "      <td>4.0</td>\n",
       "    </tr>\n",
       "    <tr>\n",
       "      <th>4</th>\n",
       "      <td>Изменить цвет фона главной страницы, чтобы уве...</td>\n",
       "      <td>3.0</td>\n",
       "    </tr>\n",
       "  </tbody>\n",
       "</table>\n",
       "</div>"
      ],
      "text/plain": [
       "                                          hypothesis   RICE\n",
       "7  Добавить форму подписки на все основные страни...  112.0\n",
       "2  Добавить блоки рекомендаций товаров на сайт ин...   56.0\n",
       "0  Добавить два новых канала привлечения трафика,...   40.0\n",
       "6  Показать на главной странице баннеры с актуаль...   40.0\n",
       "8  Запустить акцию, дающую скидку на товар в день...   16.2\n",
       "3  Изменить структура категорий, что увеличит кон...    9.0\n",
       "1  Запустить собственную службу доставки, что сок...    4.0\n",
       "5  Добавить страницу отзывов клиентов о магазине,...    4.0\n",
       "4  Изменить цвет фона главной страницы, чтобы уве...    3.0"
      ]
     },
     "metadata": {},
     "output_type": "display_data"
    }
   ],
   "source": [
    "hypothesis['RICE'] = hypothesis['reach'] * hypothesis['impact'] * hypothesis['confidence'] / hypothesis['efforts']\n",
    "\n",
    "display(hypothesis[['hypothesis','RICE']].sort_values(by='RICE', ascending=False))"
   ]
  },
  {
   "cell_type": "markdown",
   "metadata": {},
   "source": [
    "По RICE восьмая гипотеза спустилась на пятое место из-за минимального охвата, а место в четверке заняла вторая гипотеза. На же первом месте оказалась 7 гипотеза, так как ее охват получил максимальную оценку."
   ]
  },
  {
   "cell_type": "markdown",
   "metadata": {},
   "source": [
    "## Часть 2. Анализ A/B-теста"
   ]
  },
  {
   "cell_type": "markdown",
   "metadata": {},
   "source": [
    "###### Предобработка"
   ]
  },
  {
   "cell_type": "code",
   "execution_count": 43,
   "metadata": {},
   "outputs": [
    {
     "name": "stdout",
     "output_type": "stream",
     "text": [
      "<class 'pandas.core.frame.DataFrame'>\n",
      "RangeIndex: 1197 entries, 0 to 1196\n",
      "Data columns (total 5 columns):\n",
      " #   Column          Non-Null Count  Dtype \n",
      "---  ------          --------------  ----- \n",
      " 0   transaction_id  1197 non-null   int64 \n",
      " 1   visitor_id      1197 non-null   int64 \n",
      " 2   date            1197 non-null   object\n",
      " 3   revenue         1197 non-null   int64 \n",
      " 4   group           1197 non-null   object\n",
      "dtypes: int64(3), object(2)\n",
      "memory usage: 46.9+ KB\n"
     ]
    }
   ],
   "source": [
    "orders.info()"
   ]
  },
  {
   "cell_type": "code",
   "execution_count": 44,
   "metadata": {},
   "outputs": [
    {
     "name": "stdout",
     "output_type": "stream",
     "text": [
      "<class 'pandas.core.frame.DataFrame'>\n",
      "RangeIndex: 62 entries, 0 to 61\n",
      "Data columns (total 3 columns):\n",
      " #   Column    Non-Null Count  Dtype \n",
      "---  ------    --------------  ----- \n",
      " 0   date      62 non-null     object\n",
      " 1   group     62 non-null     object\n",
      " 2   visitors  62 non-null     int64 \n",
      "dtypes: int64(1), object(2)\n",
      "memory usage: 1.6+ KB\n"
     ]
    }
   ],
   "source": [
    "visitors.info()"
   ]
  },
  {
   "cell_type": "markdown",
   "metadata": {},
   "source": [
    "Пропусков в данных нет. У дат неправильный тип"
   ]
  },
  {
   "cell_type": "code",
   "execution_count": 45,
   "metadata": {},
   "outputs": [],
   "source": [
    "#исправим тип даты\n",
    "orders['date'] = pd.to_datetime(orders['date'])\n",
    "visitors['date'] = pd.to_datetime(visitors['date'])"
   ]
  },
  {
   "cell_type": "code",
   "execution_count": 46,
   "metadata": {},
   "outputs": [
    {
     "name": "stdout",
     "output_type": "stream",
     "text": [
      "0\n",
      "0\n"
     ]
    }
   ],
   "source": [
    "# проверяем наличие полных дубликатов\n",
    "print(orders.duplicated().sum())\n",
    "print(visitors.duplicated().sum())"
   ]
  },
  {
   "cell_type": "markdown",
   "metadata": {},
   "source": [
    "Дубликатов не обнаружено."
   ]
  },
  {
   "cell_type": "markdown",
   "metadata": {},
   "source": [
    "###### Рассмотрим данные повнимательнее"
   ]
  },
  {
   "cell_type": "code",
   "execution_count": 47,
   "metadata": {},
   "outputs": [
    {
     "data": {
      "text/plain": [
       "array(['B', 'A'], dtype=object)"
      ]
     },
     "execution_count": 47,
     "metadata": {},
     "output_type": "execute_result"
    }
   ],
   "source": [
    "orders['group'].unique() #проверим сколько групп"
   ]
  },
  {
   "cell_type": "code",
   "execution_count": 48,
   "metadata": {},
   "outputs": [
    {
     "name": "stdout",
     "output_type": "stream",
     "text": [
      "Дата начала теста: 2019-08-01 00:00:00\n",
      "Дата окончания теста: 2019-08-31 00:00:00\n"
     ]
    }
   ],
   "source": [
    "print('Дата начала теста:', orders['date'].min())\n",
    "print('Дата окончания теста:', orders['date'].max())"
   ]
  },
  {
   "cell_type": "code",
   "execution_count": 49,
   "metadata": {
    "scrolled": true
   },
   "outputs": [
    {
     "name": "stdout",
     "output_type": "stream",
     "text": [
      "Посетителей в группе А: 503\n",
      "Посетителей в группе B: 586\n",
      "Количество посетителей попавших в обе группы: 58\n",
      "Всего посетителей в тесте: 1031\n"
     ]
    }
   ],
   "source": [
    "gr_a = orders[orders['group'] == 'A']['visitor_id']\n",
    "gr_b = orders[orders['group'] == 'B']['visitor_id']\n",
    "orders_ab = orders.query('visitor_id in @gr_a and visitor_id in @gr_b')\n",
    "print('Посетителей в группе А:', gr_a.nunique())\n",
    "print('Посетителей в группе B:', gr_b.nunique())\n",
    "print('Количество посетителей попавших в обе группы:', orders_ab['visitor_id'].nunique())\n",
    "print('Всего посетителей в тесте:', orders['visitor_id'].nunique())"
   ]
  },
  {
   "cell_type": "markdown",
   "metadata": {},
   "source": [
    "Часть пользователей у нас попала в обе группы. Это около 5%, что может быть не критично, но и удалить мы их не можем, так как в датасете visitors у нас нет visitor_id и вычленить их из общего числа группы не получится. Постараемся учесть эту проблему в дальнейшем.\n",
    "\n",
    "Так же существует проблема того, что в группе А на 16% больше посетителей, это может сильно отразиться на результатах теста"
   ]
  },
  {
   "cell_type": "markdown",
   "metadata": {},
   "source": [
    "### График кумулятивной выручки по группам."
   ]
  },
  {
   "cell_type": "code",
   "execution_count": 50,
   "metadata": {},
   "outputs": [
    {
     "name": "stdout",
     "output_type": "stream",
     "text": [
      "        date group  orders  buyers  revenue  visitors\n",
      "0 2019-08-01     A      24      20   148579       719\n",
      "1 2019-08-01     B      21      20   101217       713\n",
      "2 2019-08-02     A      44      38   242401      1338\n",
      "3 2019-08-02     B      45      43   266748      1294\n",
      "4 2019-08-03     A      68      62   354874      1845\n"
     ]
    }
   ],
   "source": [
    "# создаем массив уникальных пар значений дат и групп теста\n",
    "datesGroups = orders[['date','group']].drop_duplicates()\n",
    "\n",
    "# получаем агрегированные кумулятивные по дням данные о заказах \n",
    "ordersAggregated = datesGroups.apply(lambda x: orders[np.logical_and(orders['date'] <= x['date'],orders['group'] == x['group'])]\n",
    "                                     .agg({'date' : 'max',\n",
    "                                           'group' : 'max',\n",
    "                                           'transaction_id' : 'nunique',\n",
    "                                           'visitor_id' : 'nunique',\n",
    "                                           'revenue' : 'sum'}),\n",
    "                                     axis=1).sort_values(by=['date','group'])\n",
    "\n",
    "# получаем агрегированные кумулятивные по дням данные о посетителях интернет-магазина \n",
    "visitorsAggregated = (datesGroups.apply(lambda x: visitors[np.logical_and(visitors['date'] <= x['date'],\n",
    "                                                                         visitors['group'] == x['group'])]\n",
    "                                       .agg({'date' : 'max', 'group' : 'max', 'visitors' : 'sum'}), axis=1)\n",
    "                      .sort_values(by=['date','group']))\n",
    "\n",
    "# объединяем кумулятивные данные в одной таблице и присваиваем ее столбцам понятные названия\n",
    "cumulativeData = ordersAggregated.merge(visitorsAggregated, left_on=['date', 'group'], right_on=['date', 'group'])\n",
    "cumulativeData.columns = ['date', 'group', 'orders', 'buyers', 'revenue', 'visitors']\n",
    "\n",
    "print(cumulativeData.head(5)) "
   ]
  },
  {
   "cell_type": "code",
   "execution_count": 51,
   "metadata": {},
   "outputs": [
    {
     "data": {
      "image/png": "[encoded data removed]",
      "text/plain": [
       "<Figure size 1000x500 with 1 Axes>"
      ]
     },
     "metadata": {},
     "output_type": "display_data"
    }
   ],
   "source": [
    "# датафрейм с кумулятивным количеством заказов и кумулятивной выручкой по дням в группе А\n",
    "cumulativeRevenueA = cumulativeData[cumulativeData['group']=='A'][['date','revenue', 'orders']]\n",
    "\n",
    "# датафрейм с кумулятивным количеством заказов и кумулятивной выручкой по дням в группе B\n",
    "cumulativeRevenueB = cumulativeData[cumulativeData['group']=='B'][['date','revenue', 'orders']]\n",
    "\n",
    "plt.figure(figsize=(10,5))\n",
    "# Строим график выручки группы А\n",
    "plt.plot(cumulativeRevenueA['date'], cumulativeRevenueA['revenue'], label='A')\n",
    "\n",
    "# Строим график выручки группы B\n",
    "plt.plot(cumulativeRevenueB['date'], cumulativeRevenueB['revenue'], label='B')\n",
    "\n",
    "plt.grid(True)\n",
    "plt.xlabel('Дата')\n",
    "plt.ylabel('Выручка')\n",
    "plt.title('Кумулятивная выручка по группам \\n', fontsize = 15)\n",
    "plt.legend()\n",
    "plt.xticks(rotation=20);"
   ]
  },
  {
   "cell_type": "markdown",
   "metadata": {},
   "source": [
    "Выручка группы А почти равномерно увеличивается в течение всего теста. \n",
    "Однако график выручки группы В в середине резко растет. Это может сигнализировать о всплеске числа заказов, либо о появлении очень дорогих заказов в выборке."
   ]
  },
  {
   "cell_type": "markdown",
   "metadata": {},
   "source": [
    "### График кумулятивного среднего чека по группам"
   ]
  },
  {
   "cell_type": "code",
   "execution_count": 52,
   "metadata": {},
   "outputs": [
    {
     "data": {
      "image/png": "[encoded data removed]",
      "text/plain": [
       "<Figure size 1000x500 with 1 Axes>"
      ]
     },
     "metadata": {},
     "output_type": "display_data"
    }
   ],
   "source": [
    "plt.figure(figsize=(10,5)) \n",
    "\n",
    "plt.plot(cumulativeRevenueA['date'], cumulativeRevenueA['revenue']/cumulativeRevenueA['orders'], label='A')\n",
    "plt.plot(cumulativeRevenueB['date'], cumulativeRevenueB['revenue']/cumulativeRevenueB['orders'], label='B')\n",
    "plt.legend() \n",
    "\n",
    "plt.grid(True)\n",
    "plt.xlabel('Дата')\n",
    "plt.ylabel('Средний чек')\n",
    "plt.title('Кумулятивный средний чек по группам \\n', fontsize = 15)\n",
    "plt.legend()\n",
    "plt.xticks(rotation=20);"
   ]
  },
  {
   "cell_type": "markdown",
   "metadata": {},
   "source": [
    "Судя по резкому увеличению среднего чека группы В именно он повлиял на скачок кумулятивной выручки. По среднему чеку группы А видно, что он становится более равномерным ближе к концу теста."
   ]
  },
  {
   "cell_type": "markdown",
   "metadata": {},
   "source": [
    "### График относительного изменения кумулятивного среднего чека группы B к группе A"
   ]
  },
  {
   "cell_type": "code",
   "execution_count": 53,
   "metadata": {},
   "outputs": [
    {
     "data": {
      "image/png": "[encoded data removed]",
      "text/plain": [
       "<Figure size 1000x500 with 1 Axes>"
      ]
     },
     "metadata": {},
     "output_type": "display_data"
    }
   ],
   "source": [
    "# собираем данные в одном датафрейме\n",
    "mergedCumulativeRevenue = cumulativeRevenueA.merge(\n",
    "    cumulativeRevenueB,\n",
    "    left_on='date',\n",
    "    right_on='date',\n",
    "    how='left',\n",
    "    suffixes=['A', 'B'])\n",
    "\n",
    "plt.figure(figsize=(10,5)) \n",
    "\n",
    "# cтроим отношение средних чеков\n",
    "plt.plot(mergedCumulativeRevenue['date'],\n",
    "         (mergedCumulativeRevenue['revenueB']/mergedCumulativeRevenue['ordersB'])\n",
    "         /(mergedCumulativeRevenue['revenueA']/mergedCumulativeRevenue['ordersA'])-1)\n",
    "\n",
    "# добавляем ось X\n",
    "plt.axhline(y=0, color='black', linestyle='--') \n",
    "plt.grid(True)\n",
    "plt.xlabel('Дата')\n",
    "plt.title('Относительное изменение кумулятивного среднего чека группы B к группе A \\n', fontsize = 15)\n",
    "plt.xticks(rotation=20);"
   ]
  },
  {
   "cell_type": "markdown",
   "metadata": {},
   "source": [
    "График в нескольких местах резко скачет, что может означать наличие выбросов"
   ]
  },
  {
   "cell_type": "markdown",
   "metadata": {},
   "source": [
    "### График кумулятивного среднего количества заказов на посетителя по группам"
   ]
  },
  {
   "cell_type": "code",
   "execution_count": 54,
   "metadata": {},
   "outputs": [
    {
     "data": {
      "image/png": "[encoded data removed]",
      "text/plain": [
       "<Figure size 1000x500 with 1 Axes>"
      ]
     },
     "metadata": {},
     "output_type": "display_data"
    }
   ],
   "source": [
    "# считаем кумулятивное среднего количества заказов \n",
    "cumulativeData['cum_avg'] = cumulativeData['orders']/cumulativeData['visitors']\n",
    "\n",
    "# отделяем данные по группе A\n",
    "cumulativeDataA = cumulativeData[cumulativeData['group']=='A']\n",
    "\n",
    "# отделяем данные по группе B\n",
    "cumulativeDataB = cumulativeData[cumulativeData['group']=='B']\n",
    "\n",
    "# строим графики\n",
    "plt.figure(figsize=(10,5)) \n",
    "plt.plot(cumulativeDataA['date'], cumulativeDataA['cum_avg'], label='A')\n",
    "plt.plot(cumulativeDataB['date'], cumulativeDataB['cum_avg'], label='B')\n",
    "plt.legend()\n",
    "plt.grid(True)\n",
    "plt.xlabel('Дата')\n",
    "plt.title('Кумулятивное среднее количество заказов на посетителя по группам \\n', fontsize = 15)\n",
    "plt.xticks(rotation=20);"
   ]
  },
  {
   "cell_type": "markdown",
   "metadata": {},
   "source": [
    "Группы колебались в противоположные стороны, но затем среднее количество заказов на посетителя группы В вырвалось вперёд и зафиксировалась, а среднее количество заказов на посетителя группы А просело и также зафиксировалось."
   ]
  },
  {
   "cell_type": "markdown",
   "metadata": {},
   "source": [
    "### График относительного изменения кумулятивного среднего количества заказов на посетителя группы B к группе A"
   ]
  },
  {
   "cell_type": "code",
   "execution_count": 55,
   "metadata": {},
   "outputs": [
    {
     "data": {
      "image/png": "[encoded data removed]",
      "text/plain": [
       "<Figure size 1000x500 with 1 Axes>"
      ]
     },
     "metadata": {},
     "output_type": "display_data"
    }
   ],
   "source": [
    "mergedCumulativeAvg = cumulativeDataA[['date','cum_avg']].merge(\n",
    "    cumulativeDataB[['date','cum_avg']], left_on='date', right_on='date', how='left', suffixes=['A', 'B'])\n",
    "\n",
    "plt.figure(figsize=(10,5))\n",
    "plt.plot(mergedCumulativeAvg['date'], mergedCumulativeAvg['cum_avgB']/mergedCumulativeAvg['cum_avgA']-1)\n",
    "\n",
    "plt.axhline(y=0, color='black', linestyle='--')\n",
    "plt.grid(True)\n",
    "plt.xlabel('Дата')\n",
    "plt.title('Относительное изменение кумулятивного среднего количества заказов на посетителя группы B к группе A \\n', \n",
    "          fontsize = 15)\n",
    "plt.xticks(rotation=20);"
   ]
  },
  {
   "cell_type": "markdown",
   "metadata": {},
   "source": [
    "В начале теста группа B значительно проигрывала группе A, затем вырвалась вперёд. Потом опять отстала и опять вырвалась и больше так сильно не отставала.\n",
    "В целом относительное изменение кумулятивного среднего количества заказов ещё не установилось, и сейчас делать какие-либо выводы по тесту нельзя. Впрочем, сперва стоит проанализировать аномалии, возможно, они изменят картину."
   ]
  },
  {
   "cell_type": "markdown",
   "metadata": {},
   "source": [
    "### Точечный график количества заказов по пользователям"
   ]
  },
  {
   "cell_type": "code",
   "execution_count": 56,
   "metadata": {},
   "outputs": [
    {
     "name": "stdout",
     "output_type": "stream",
     "text": [
      "      visitor_id  orders\n",
      "1023  4256040402      11\n",
      "591   2458001652      11\n",
      "569   2378935119       9\n",
      "487   2038680547       8\n",
      "44     199603092       5\n",
      "744   3062433592       5\n",
      "55     237748145       5\n",
      "917   3803269165       5\n",
      "299   1230306981       5\n",
      "897   3717692402       5\n"
     ]
    }
   ],
   "source": [
    "# Подсчитаем количество заказов по посетителям и посмотрим на результат:\n",
    "ordersByUsers = (\n",
    "    orders.groupby('visitor_id', as_index=False)\n",
    "    .agg({'transaction_id': 'nunique'})\n",
    ")\n",
    "\n",
    "ordersByUsers.columns = ['visitor_id', 'orders']\n",
    "\n",
    "print(ordersByUsers.sort_values(by='orders', ascending=False).head(10))"
   ]
  },
  {
   "cell_type": "code",
   "execution_count": 57,
   "metadata": {},
   "outputs": [
    {
     "data": {
      "image/png": "[encoded data removed]",
      "text/plain": [
       "<Figure size 1000x500 with 1 Axes>"
      ]
     },
     "metadata": {},
     "output_type": "display_data"
    }
   ],
   "source": [
    "x_values = pd.Series(range(0,len(ordersByUsers)))\n",
    "\n",
    "\n",
    "plt.figure(figsize=(10,5))\n",
    "plt.scatter(x_values, ordersByUsers['orders']) \n",
    "plt.grid(True)\n",
    "plt.ylabel('Количество заказов')\n",
    "plt.xlabel('Пользователь')\n",
    "plt.title('Количество заказов по пользователям \\n', fontsize = 15);"
   ]
  },
  {
   "cell_type": "markdown",
   "metadata": {},
   "source": [
    "Много пользователей с 2-4 заказами. Их точная доля не ясна — непонятно, считать их аномалиями или нет."
   ]
  },
  {
   "cell_type": "markdown",
   "metadata": {},
   "source": [
    "### 95-й и 99-й перцентили количества заказов на пользователя"
   ]
  },
  {
   "cell_type": "code",
   "execution_count": 58,
   "metadata": {},
   "outputs": [
    {
     "name": "stdout",
     "output_type": "stream",
     "text": [
      "[2. 4.]\n"
     ]
    }
   ],
   "source": [
    "print(np.percentile(ordersByUsers['orders'], [95, 99]))"
   ]
  },
  {
   "cell_type": "markdown",
   "metadata": {},
   "source": [
    "Не более 5% посетителей оформляли больше чем 2 заказа. И 1% посетителей заказывали более 4 раз.   \n",
    "Разумно выбрать 3 или 4 заказов на одного посетителя за верхнюю границу числа заказов, и отсеять аномальных посетителей по ней. "
   ]
  },
  {
   "cell_type": "markdown",
   "metadata": {},
   "source": [
    "### Точечный график стоимостей заказов"
   ]
  },
  {
   "cell_type": "code",
   "execution_count": 59,
   "metadata": {},
   "outputs": [
    {
     "data": {
      "image/png": "[encoded data removed]",
      "text/plain": [
       "<Figure size 1000x500 with 1 Axes>"
      ]
     },
     "metadata": {},
     "output_type": "display_data"
    }
   ],
   "source": [
    "x_values = pd.Series(range(0,len(orders['revenue'])))\n",
    "\n",
    "plt.figure(figsize=(10,5))\n",
    "plt.scatter(x_values, orders['revenue'])\n",
    "plt.grid(True)\n",
    "plt.ylabel('Стоимость заказов')\n",
    "plt.xlabel('Пользователь')\n",
    "plt.title('Стоимость заказов по пользователям \\n', fontsize = 15);"
   ]
  },
  {
   "cell_type": "code",
   "execution_count": 60,
   "metadata": {},
   "outputs": [
    {
     "data": {
      "text/plain": [
       "425     1294500\n",
       "1196     202740\n",
       "858       93940\n",
       "1136      92550\n",
       "744       86620\n",
       "Name: revenue, dtype: int64"
      ]
     },
     "execution_count": 60,
     "metadata": {},
     "output_type": "execute_result"
    }
   ],
   "source": [
    "orders['revenue'].sort_values(ascending=False).head(5)"
   ]
  },
  {
   "cell_type": "markdown",
   "metadata": {},
   "source": [
    "Присутсвуют два значения, которые мешают увидеть полную картину"
   ]
  },
  {
   "cell_type": "code",
   "execution_count": 61,
   "metadata": {},
   "outputs": [
    {
     "data": {
      "image/png": "[encoded data removed]",
      "text/plain": [
       "<Figure size 1000x500 with 1 Axes>"
      ]
     },
     "metadata": {},
     "output_type": "display_data"
    }
   ],
   "source": [
    "orderslimit = orders.query('revenue < 100000')\n",
    "x_values = pd.Series(range(0,len(orderslimit['revenue'])))\n",
    "\n",
    "plt.figure(figsize=(10,5))\n",
    "plt.scatter(x_values, orderslimit['revenue'])\n",
    "plt.grid(True)\n",
    "plt.ylabel('Стоимость заказов')\n",
    "plt.xlabel('Пользователь')\n",
    "plt.title('Стоимость заказов по пользователям \\n', fontsize = 15);"
   ]
  },
  {
   "cell_type": "markdown",
   "metadata": {},
   "source": [
    "Выглядит, что немногие заказы дороже 30 тысяч"
   ]
  },
  {
   "cell_type": "markdown",
   "metadata": {},
   "source": [
    "### 95-й и 99-й перцентили стоимости заказов"
   ]
  },
  {
   "cell_type": "code",
   "execution_count": 62,
   "metadata": {},
   "outputs": [
    {
     "name": "stdout",
     "output_type": "stream",
     "text": [
      "[28000.  58233.2]\n"
     ]
    }
   ],
   "source": [
    "print(np.percentile(orders['revenue'], [95, 99])) "
   ]
  },
  {
   "cell_type": "markdown",
   "metadata": {},
   "source": [
    "Как и показано на графике, менее 5% заказов на дороже чем 28 тысяч и не более 1% дороже 58 тысяч"
   ]
  },
  {
   "cell_type": "markdown",
   "metadata": {},
   "source": [
    "### Cтатистическая значимость различий в среднем количестве заказов на посетителя между группами по «сырым» данным"
   ]
  },
  {
   "cell_type": "markdown",
   "metadata": {},
   "source": [
    "Метод, который будем применять для A/B-тестирования, называется U-критерий Манна-Уитни.  \n",
    "\n",
    "Примем за достаточное пороговое значение уровня значимости p-value = 0.05\n",
    "\n",
    "Сформулируем гипотезы:\n",
    "- Нулевая: различий в среднем количестве заказов между группами нет. \n",
    "- Альтернативная: различия в среднем количестве заказов между группами есть."
   ]
  },
  {
   "cell_type": "code",
   "execution_count": 63,
   "metadata": {},
   "outputs": [
    {
     "name": "stdout",
     "output_type": "stream",
     "text": [
      "        date  ordersPerDateA  revenuePerDateA  ordersPerDateB  \\\n",
      "0 2019-08-01              24           148579              21   \n",
      "1 2019-08-02              20            93822              24   \n",
      "2 2019-08-03              24           112473              16   \n",
      "3 2019-08-04              16            70825              17   \n",
      "4 2019-08-05              25           124218              23   \n",
      "\n",
      "   revenuePerDateB  ordersCummulativeA  revenueCummulativeA  \\\n",
      "0           101217                  24               148579   \n",
      "1           165531                  44               242401   \n",
      "2           114248                  68               354874   \n",
      "3           108571                  84               425699   \n",
      "4            92428                 109               549917   \n",
      "\n",
      "   ordersCummulativeB  revenueCummulativeB  visitorsPerDateA  \\\n",
      "0                  21               101217               719   \n",
      "1                  45               266748               619   \n",
      "2                  61               380996               507   \n",
      "3                  78               489567               717   \n",
      "4                 101               581995               756   \n",
      "\n",
      "   visitorsPerDateB  visitorsCummulativeA  visitorsCummulativeB  \n",
      "0               713                   719                   713  \n",
      "1               581                  1338                  1294  \n",
      "2               509                  1845                  1803  \n",
      "3               770                  2562                  2573  \n",
      "4               707                  3318                  3280  \n"
     ]
    }
   ],
   "source": [
    "visitorsADaily = visitors[visitors['group'] == 'A'][['date', 'visitors']]\n",
    "visitorsADaily.columns = ['date', 'visitorsPerDateA']\n",
    "\n",
    "visitorsACummulative = visitorsADaily.apply(\n",
    "    lambda x: visitorsADaily[visitorsADaily['date'] <= x['date']].agg(\n",
    "        {'date': 'max', 'visitorsPerDateA': 'sum'}\n",
    "    ),\n",
    "    axis=1,\n",
    ")\n",
    "visitorsACummulative.columns = ['date', 'visitorsCummulativeA']\n",
    "\n",
    "visitorsBDaily = visitors[visitors['group'] == 'B'][['date', 'visitors']]\n",
    "visitorsBDaily.columns = ['date', 'visitorsPerDateB']\n",
    "\n",
    "visitorsBCummulative = visitorsBDaily.apply(\n",
    "    lambda x: visitorsBDaily[visitorsBDaily['date'] <= x['date']].agg(\n",
    "        {'date': 'max', 'visitorsPerDateB': 'sum'}\n",
    "    ),\n",
    "    axis=1,\n",
    ")\n",
    "visitorsBCummulative.columns = ['date', 'visitorsCummulativeB']\n",
    "\n",
    "ordersADaily = (\n",
    "    orders[orders['group'] == 'A'][['date', 'transaction_id', 'visitor_id', 'revenue']]\n",
    "    .groupby('date', as_index=False)\n",
    "    .agg({'transaction_id': pd.Series.nunique, 'revenue': 'sum'})\n",
    ")\n",
    "ordersADaily.columns = ['date', 'ordersPerDateA', 'revenuePerDateA']\n",
    "\n",
    "ordersACummulative = ordersADaily.apply(\n",
    "    lambda x: ordersADaily[ordersADaily['date'] <= x['date']].agg(\n",
    "        {'date': 'max', 'ordersPerDateA': 'sum', 'revenuePerDateA': 'sum'}\n",
    "    ),\n",
    "    axis=1,\n",
    ").sort_values(by=['date'])\n",
    "ordersACummulative.columns = [\n",
    "    'date',\n",
    "    'ordersCummulativeA',\n",
    "    'revenueCummulativeA',\n",
    "]\n",
    "\n",
    "ordersBDaily = (\n",
    "    orders[orders['group'] == 'B'][['date', 'transaction_id', 'visitor_id', 'revenue']]\n",
    "    .groupby('date', as_index=False)\n",
    "    .agg({'transaction_id': pd.Series.nunique, 'revenue': 'sum'})\n",
    ")\n",
    "ordersBDaily.columns = ['date', 'ordersPerDateB', 'revenuePerDateB']\n",
    "\n",
    "ordersBCummulative = ordersBDaily.apply(\n",
    "    lambda x: ordersBDaily[ordersBDaily['date'] <= x['date']].agg(\n",
    "        {'date': 'max', 'ordersPerDateB': 'sum', 'revenuePerDateB': 'sum'}\n",
    "    ),\n",
    "    axis=1,\n",
    ").sort_values(by=['date'])\n",
    "ordersBCummulative.columns = [\n",
    "    'date',\n",
    "    'ordersCummulativeB',\n",
    "    'revenueCummulativeB',\n",
    "]\n",
    "\n",
    "data = (\n",
    "    ordersADaily.merge(\n",
    "        ordersBDaily, left_on='date', right_on='date', how='left'\n",
    "    )\n",
    "    .merge(ordersACummulative, left_on='date', right_on='date', how='left')\n",
    "    .merge(ordersBCummulative, left_on='date', right_on='date', how='left')\n",
    "    .merge(visitorsADaily, left_on='date', right_on='date', how='left')\n",
    "    .merge(visitorsBDaily, left_on='date', right_on='date', how='left')\n",
    "    .merge(visitorsACummulative, left_on='date', right_on='date', how='left')\n",
    "    .merge(visitorsBCummulative, left_on='date', right_on='date', how='left')\n",
    ")\n",
    "\n",
    "print(data.head(5))"
   ]
  },
  {
   "cell_type": "code",
   "execution_count": 64,
   "metadata": {},
   "outputs": [
    {
     "data": {
      "text/html": [
       "<div>\n",
       "<style scoped>\n",
       "    .dataframe tbody tr th:only-of-type {\n",
       "        vertical-align: middle;\n",
       "    }\n",
       "\n",
       "    .dataframe tbody tr th {\n",
       "        vertical-align: top;\n",
       "    }\n",
       "\n",
       "    .dataframe thead th {\n",
       "        text-align: right;\n",
       "    }\n",
       "</style>\n",
       "<table border=\"1\" class=\"dataframe\">\n",
       "  <thead>\n",
       "    <tr style=\"text-align: right;\">\n",
       "      <th></th>\n",
       "      <th>transaction_id</th>\n",
       "      <th>visitor_id</th>\n",
       "      <th>date</th>\n",
       "      <th>revenue</th>\n",
       "      <th>group</th>\n",
       "    </tr>\n",
       "  </thead>\n",
       "  <tbody>\n",
       "    <tr>\n",
       "      <th>0</th>\n",
       "      <td>3667963787</td>\n",
       "      <td>3312258926</td>\n",
       "      <td>2019-08-15</td>\n",
       "      <td>1650</td>\n",
       "      <td>B</td>\n",
       "    </tr>\n",
       "    <tr>\n",
       "      <th>1</th>\n",
       "      <td>2804400009</td>\n",
       "      <td>3642806036</td>\n",
       "      <td>2019-08-15</td>\n",
       "      <td>730</td>\n",
       "      <td>B</td>\n",
       "    </tr>\n",
       "    <tr>\n",
       "      <th>2</th>\n",
       "      <td>2961555356</td>\n",
       "      <td>4069496402</td>\n",
       "      <td>2019-08-15</td>\n",
       "      <td>400</td>\n",
       "      <td>A</td>\n",
       "    </tr>\n",
       "    <tr>\n",
       "      <th>3</th>\n",
       "      <td>3797467345</td>\n",
       "      <td>1196621759</td>\n",
       "      <td>2019-08-15</td>\n",
       "      <td>9759</td>\n",
       "      <td>B</td>\n",
       "    </tr>\n",
       "    <tr>\n",
       "      <th>4</th>\n",
       "      <td>2282983706</td>\n",
       "      <td>2322279887</td>\n",
       "      <td>2019-08-15</td>\n",
       "      <td>2308</td>\n",
       "      <td>B</td>\n",
       "    </tr>\n",
       "    <tr>\n",
       "      <th>...</th>\n",
       "      <td>...</td>\n",
       "      <td>...</td>\n",
       "      <td>...</td>\n",
       "      <td>...</td>\n",
       "      <td>...</td>\n",
       "    </tr>\n",
       "    <tr>\n",
       "      <th>1192</th>\n",
       "      <td>2662137336</td>\n",
       "      <td>3733762160</td>\n",
       "      <td>2019-08-14</td>\n",
       "      <td>6490</td>\n",
       "      <td>B</td>\n",
       "    </tr>\n",
       "    <tr>\n",
       "      <th>1193</th>\n",
       "      <td>2203539145</td>\n",
       "      <td>370388673</td>\n",
       "      <td>2019-08-14</td>\n",
       "      <td>3190</td>\n",
       "      <td>A</td>\n",
       "    </tr>\n",
       "    <tr>\n",
       "      <th>1194</th>\n",
       "      <td>1807773912</td>\n",
       "      <td>573423106</td>\n",
       "      <td>2019-08-14</td>\n",
       "      <td>10550</td>\n",
       "      <td>A</td>\n",
       "    </tr>\n",
       "    <tr>\n",
       "      <th>1195</th>\n",
       "      <td>1947021204</td>\n",
       "      <td>1614305549</td>\n",
       "      <td>2019-08-14</td>\n",
       "      <td>100</td>\n",
       "      <td>A</td>\n",
       "    </tr>\n",
       "    <tr>\n",
       "      <th>1196</th>\n",
       "      <td>3936777065</td>\n",
       "      <td>2108080724</td>\n",
       "      <td>2019-08-15</td>\n",
       "      <td>202740</td>\n",
       "      <td>B</td>\n",
       "    </tr>\n",
       "  </tbody>\n",
       "</table>\n",
       "<p>1197 rows × 5 columns</p>\n",
       "</div>"
      ],
      "text/plain": [
       "      transaction_id  visitor_id       date  revenue group\n",
       "0         3667963787  3312258926 2019-08-15     1650     B\n",
       "1         2804400009  3642806036 2019-08-15      730     B\n",
       "2         2961555356  4069496402 2019-08-15      400     A\n",
       "3         3797467345  1196621759 2019-08-15     9759     B\n",
       "4         2282983706  2322279887 2019-08-15     2308     B\n",
       "...              ...         ...        ...      ...   ...\n",
       "1192      2662137336  3733762160 2019-08-14     6490     B\n",
       "1193      2203539145   370388673 2019-08-14     3190     A\n",
       "1194      1807773912   573423106 2019-08-14    10550     A\n",
       "1195      1947021204  1614305549 2019-08-14      100     A\n",
       "1196      3936777065  2108080724 2019-08-15   202740     B\n",
       "\n",
       "[1197 rows x 5 columns]"
      ]
     },
     "execution_count": 64,
     "metadata": {},
     "output_type": "execute_result"
    }
   ],
   "source": [
    "orders"
   ]
  },
  {
   "cell_type": "code",
   "execution_count": 65,
   "metadata": {},
   "outputs": [],
   "source": [
    "ordersByUsersA = (\n",
    "    orders[orders['group'] == 'A']\n",
    "    .groupby('visitor_id', as_index=False)\n",
    "    .agg({'transaction_id': pd.Series.nunique})\n",
    ")\n",
    "ordersByUsersA.columns = ['visitor_id', 'orders']\n",
    "\n",
    "ordersByUsersB = (\n",
    "    orders[orders['group'] == 'B']\n",
    "    .groupby('visitor_id', as_index=False)\n",
    "    .agg({'transaction_id': pd.Series.nunique})\n",
    ")\n",
    "ordersByUsersB.columns = ['visitor_id', 'orders'] "
   ]
  },
  {
   "cell_type": "code",
   "execution_count": 66,
   "metadata": {},
   "outputs": [],
   "source": [
    "sampleA = pd.concat([ordersByUsersA['orders'],\n",
    "                     pd.Series(0, index=np.arange(data['visitorsPerDateA'].sum() - len(ordersByUsersA['orders'])),\n",
    "                               name='orders')], axis=0)\n",
    "\n",
    "sampleB = pd.concat([ordersByUsersB['orders'],\n",
    "                     pd.Series(0, index=np.arange(data['visitorsPerDateB'].sum() - len(ordersByUsersB['orders'])),\n",
    "                               name='orders')], axis=0)"
   ]
  },
  {
   "cell_type": "code",
   "execution_count": 67,
   "metadata": {},
   "outputs": [
    {
     "name": "stdout",
     "output_type": "stream",
     "text": [
      "p-value критерий Манна-Уитни: 0.017\n",
      "Относительный выигрыш группы B: 0.138\n"
     ]
    }
   ],
   "source": [
    "print('p-value критерий Манна-Уитни:',\"{0:.3f}\".format(stats.mannwhitneyu(sampleA, sampleB)[1]))\n",
    "\n",
    "print('Относительный выигрыш группы B:',\"{0:.3f}\".format(sampleB.mean() / sampleA.mean() - 1))"
   ]
  },
  {
   "cell_type": "markdown",
   "metadata": {},
   "source": [
    "Первое число — p-value = 0.017 меньше 0.05. Значит, нулевую гипотезу о том, что статистически значимых различий в среднем числе заказов между группами нет отвергаем. Однако относительный выигрыш группы B равен 13.8% — второе число в выводе.\n",
    "\n",
    "Вывод: По «сырым» данным различия в среднем числе заказов групп A и B есть. "
   ]
  },
  {
   "cell_type": "markdown",
   "metadata": {},
   "source": [
    "### Статистическая значимость различий в среднем чеке заказа между группами по «сырым» данным"
   ]
  },
  {
   "cell_type": "markdown",
   "metadata": {},
   "source": [
    "Сформулируем гипотезы:\n",
    "- Нулевая: различий в среднем чеке между группами нет. \n",
    "- Альтернативная: различия в среднем чеке между группами есть."
   ]
  },
  {
   "cell_type": "code",
   "execution_count": 68,
   "metadata": {},
   "outputs": [
    {
     "name": "stdout",
     "output_type": "stream",
     "text": [
      "p-value критерий Манна-Уитни: 0.729\n",
      "Относительный выигрыш группы B: 0.259\n"
     ]
    }
   ],
   "source": [
    "print('p-value критерий Манна-Уитни:','{0:.3f}'.format(stats.mannwhitneyu(orders[orders['group']=='A']['revenue'], orders[orders['group']=='B']['revenue'])[1]))\n",
    "print('Относительный выигрыш группы B:','{0:.3f}'.format(orders[orders['group']=='B']['revenue'].mean()/orders[orders['group']=='A']['revenue'].mean()-1)) "
   ]
  },
  {
   "cell_type": "markdown",
   "metadata": {},
   "source": [
    "P-value значительно больше 0.05. Значит, причин отвергать нулевую гипотезу и считать, что в среднем чеке есть различия, нет. Впрочем, средний чек группы B значительно выше среднего чека группы A."
   ]
  },
  {
   "cell_type": "markdown",
   "metadata": {},
   "source": [
    "### Статистическая значимость различий в среднем количестве заказов на посетителя между группами по «очищенным» данным"
   ]
  },
  {
   "cell_type": "markdown",
   "metadata": {},
   "source": [
    "Примем за аномальных посетителей тех, кто совершил от 4 заказов или совершил заказ дороже 28 000 рублей. Так мы уберём 1% посетителей с наибольшим числом заказов и около 5% посетителей с дорогими заказами. "
   ]
  },
  {
   "cell_type": "code",
   "execution_count": 69,
   "metadata": {},
   "outputs": [
    {
     "name": "stdout",
     "output_type": "stream",
     "text": [
      "Пороговое значение выручки: 28000\n",
      "Пороговое значение количества заказов 4.0\n",
      "Таблица с аномальными посетителями: \n",
      " 1099    148427295\n",
      "928     204675465\n",
      "684     358944393\n",
      "648     382846391\n",
      "1189    393266494\n",
      "Name: visitor_id, dtype: int64\n",
      "Количество аномальных посетителей: 59\n"
     ]
    }
   ],
   "source": [
    "revenue_threshold = orders['revenue'].quantile(0.95)\n",
    "orders_threshold = ordersByUsers['orders'].quantile(0.99)\n",
    "\n",
    "usersWithManyOrders = pd.concat(\n",
    "    [\n",
    "        ordersByUsersA[ordersByUsersA['orders'] > orders_threshold]['visitor_id'],\n",
    "        ordersByUsersB[ordersByUsersB['orders'] > orders_threshold]['visitor_id'],\n",
    "    ],\n",
    "    axis=0,\n",
    ")\n",
    "usersWithExpensiveOrders = orders[orders['revenue'] > revenue_threshold]['visitor_id']\n",
    "abnormalUsers = (\n",
    "    pd.concat([usersWithManyOrders, usersWithExpensiveOrders], axis=0)\n",
    "    .drop_duplicates()\n",
    "    .sort_values()\n",
    ")\n",
    "print('Пороговое значение выручки:',round(revenue_threshold))\n",
    "print('Пороговое значение количества заказов',orders_threshold)\n",
    "print('Таблица с аномальными посетителями: \\n', abnormalUsers.head(5))\n",
    "print('Количество аномальных посетителей:', abnormalUsers.shape[0])"
   ]
  },
  {
   "cell_type": "markdown",
   "metadata": {},
   "source": [
    "Всего 59 аномальных посетителей. Учитывая что всего посетителей в тесте 1031, это около 5,7%"
   ]
  },
  {
   "cell_type": "code",
   "execution_count": 70,
   "metadata": {},
   "outputs": [],
   "source": [
    "sampleAFiltered = pd.concat(\n",
    "    [\n",
    "        ordersByUsersA[\n",
    "            np.logical_not(ordersByUsersA['visitor_id'].isin(abnormalUsers))\n",
    "        ]['orders'],\n",
    "        pd.Series(\n",
    "            0,\n",
    "            index=np.arange(\n",
    "                data['visitorsPerDateA'].sum() - len(ordersByUsersA['orders'])\n",
    "            ),\n",
    "            name='orders',\n",
    "        ),\n",
    "    ],\n",
    "    axis=0,\n",
    ")\n",
    "\n",
    "sampleBFiltered = pd.concat(\n",
    "    [\n",
    "        ordersByUsersB[\n",
    "            np.logical_not(ordersByUsersB['visitor_id'].isin(abnormalUsers))\n",
    "        ]['orders'],\n",
    "        pd.Series(\n",
    "            0,\n",
    "            index=np.arange(\n",
    "                data['visitorsPerDateB'].sum() - len(ordersByUsersB['orders'])\n",
    "            ),\n",
    "            name='orders',\n",
    "        ),\n",
    "    ],\n",
    "    axis=0,\n",
    ") "
   ]
  },
  {
   "cell_type": "code",
   "execution_count": 71,
   "metadata": {},
   "outputs": [
    {
     "name": "stdout",
     "output_type": "stream",
     "text": [
      "p-value критерий Манна-Уитни: 0.018\n",
      "Относительный выигрыш группы B: 0.145\n"
     ]
    }
   ],
   "source": [
    "print('p-value критерий Манна-Уитни:','{0:.3f}'.format(stats.mannwhitneyu(sampleAFiltered, sampleBFiltered)[1]))\n",
    "print('Относительный выигрыш группы B:','{0:.3f}'.format(sampleBFiltered.mean()/sampleAFiltered.mean()-1))"
   ]
  },
  {
   "cell_type": "markdown",
   "metadata": {},
   "source": [
    "Результаты по среднему количеству заказов практически не изменились. "
   ]
  },
  {
   "cell_type": "markdown",
   "metadata": {},
   "source": [
    "### Cтатистическая значимость различий в среднем чеке заказа между группами по «очищенным» данным"
   ]
  },
  {
   "cell_type": "code",
   "execution_count": 72,
   "metadata": {},
   "outputs": [
    {
     "name": "stdout",
     "output_type": "stream",
     "text": [
      "p-value критерий Манна-Уитни: 0.961\n",
      "Относительный проигрыш группы B: -0.014\n"
     ]
    }
   ],
   "source": [
    "print('p-value критерий Манна-Уитни:',\n",
    "    '{0:.3f}'.format(\n",
    "        stats.mannwhitneyu(\n",
    "            orders[\n",
    "                np.logical_and(\n",
    "                    orders['group'] == 'A',\n",
    "                    np.logical_not(orders['visitor_id'].isin(abnormalUsers)),\n",
    "                )\n",
    "            ]['revenue'],\n",
    "            orders[\n",
    "                np.logical_and(\n",
    "                    orders['group'] == 'B',\n",
    "                    np.logical_not(orders['visitor_id'].isin(abnormalUsers)),\n",
    "                )\n",
    "            ]['revenue'],\n",
    "        )[1]\n",
    "    )\n",
    ")\n",
    "\n",
    "print('Относительный проигрыш группы B:',\n",
    "    \"{0:.3f}\".format(\n",
    "        orders[\n",
    "            np.logical_and(\n",
    "                orders['group'] == 'B',\n",
    "                np.logical_not(orders['visitor_id'].isin(abnormalUsers)),\n",
    "            )\n",
    "        ]['revenue'].mean()\n",
    "        / orders[\n",
    "            np.logical_and(\n",
    "                orders['group'] == 'A',\n",
    "                np.logical_not(orders['visitor_id'].isin(abnormalUsers)),\n",
    "            )\n",
    "        ]['revenue'].mean()\n",
    "        - 1\n",
    "    )\n",
    ")"
   ]
  },
  {
   "cell_type": "markdown",
   "metadata": {},
   "source": [
    "P-value еще увеличился, но средний чек группы В стал ниже группы А"
   ]
  },
  {
   "cell_type": "markdown",
   "metadata": {},
   "source": [
    "### Решение по результатам теста "
   ]
  },
  {
   "cell_type": "markdown",
   "metadata": {},
   "source": [
    "Имеющиеся факты:\n",
    "- Есть статистически значимое различие по среднему количеству заказов между группами и по «сырым», и по данным после фильтрации аномалий;\n",
    "- Нет статистически значимого различия по среднему чеку между группами ни по «сырым», ни по данным после фильтрации аномалий;\n",
    "- График различия среднего количества заказов между группами сообщает, что результаты группы B лучше группы A и нет значительной тенденции к ухудшению;\n",
    "- График различия среднего чека говорит о том, что результаты группы B заметно улучшились в середине эксперимента, но на это сильно повлияли выбросы;\n",
    "- Проблемы данных:\n",
    "    1. Неодинаковый размер групп\n",
    "    2. Часть посетителей попала в обе группы\n",
    "\n",
    "Исходя из обнаруженных фактов, если не обращать внимание на проблемы в данных, то тест следует остановить и признать его успешным. Продолжать смысла нет, потому как вероятность, что при имеющихся данных сегмент B на самом деле хуже сегмента A — практически нулевая. Но с другой строны мы не можем точно знать, что результаты теста не были координально испорчены неправильным подбором групп. \n",
    "\n",
    "С учетом успеха группы В имеет смысл распространить эту практику на всех посетителей, это приведет к увеличению количества заказов и соответственно увеличит выручку."
   ]
  }
 ],
 "metadata": {
  "ExecuteTimeLog": [
   {
    "duration": 1999,
    "start_time": "2023-04-28T16:17:19.230Z"
   },
   {
    "duration": 364,
    "start_time": "2023-04-28T16:17:22.360Z"
   },
   {
    "duration": 210,
    "start_time": "2023-04-28T16:18:11.495Z"
   },
   {
    "duration": 16,
    "start_time": "2023-04-28T16:18:16.830Z"
   },
   {
    "duration": 12,
    "start_time": "2023-04-28T16:19:54.875Z"
   },
   {
    "duration": 10,
    "start_time": "2023-04-28T16:21:01.545Z"
   },
   {
    "duration": 8,
    "start_time": "2023-04-28T16:21:08.146Z"
   },
   {
    "duration": 32,
    "start_time": "2023-04-28T16:26:36.032Z"
   },
   {
    "duration": 20,
    "start_time": "2023-04-28T16:27:39.672Z"
   },
   {
    "duration": 15,
    "start_time": "2023-04-28T16:34:38.420Z"
   },
   {
    "duration": 24,
    "start_time": "2023-04-28T16:36:39.122Z"
   },
   {
    "duration": 12,
    "start_time": "2023-04-28T16:36:46.251Z"
   },
   {
    "duration": 9,
    "start_time": "2023-04-28T16:39:42.969Z"
   },
   {
    "duration": 8,
    "start_time": "2023-04-28T16:51:54.079Z"
   },
   {
    "duration": 24,
    "start_time": "2023-04-28T19:17:56.923Z"
   },
   {
    "duration": 20,
    "start_time": "2023-04-28T19:18:06.537Z"
   },
   {
    "duration": 18,
    "start_time": "2023-04-28T19:18:14.271Z"
   },
   {
    "duration": 7,
    "start_time": "2023-04-28T19:18:21.760Z"
   },
   {
    "duration": 7,
    "start_time": "2023-04-28T19:18:25.620Z"
   },
   {
    "duration": 5,
    "start_time": "2023-04-28T19:18:29.880Z"
   },
   {
    "duration": 13,
    "start_time": "2023-04-28T19:18:37.552Z"
   },
   {
    "duration": 11,
    "start_time": "2023-04-28T19:18:41.828Z"
   },
   {
    "duration": 27,
    "start_time": "2023-04-28T19:19:53.791Z"
   },
   {
    "duration": 960,
    "start_time": "2023-04-28T19:22:10.426Z"
   },
   {
    "duration": 5,
    "start_time": "2023-04-28T19:22:15.928Z"
   },
   {
    "duration": 10,
    "start_time": "2023-04-28T19:22:54.997Z"
   },
   {
    "duration": 54,
    "start_time": "2023-04-28T19:24:43.721Z"
   },
   {
    "duration": 12,
    "start_time": "2023-04-28T19:24:51.367Z"
   },
   {
    "duration": 13,
    "start_time": "2023-04-28T19:25:13.479Z"
   },
   {
    "duration": 11,
    "start_time": "2023-04-28T19:25:29.851Z"
   },
   {
    "duration": 13,
    "start_time": "2023-04-28T19:25:45.424Z"
   },
   {
    "duration": 10,
    "start_time": "2023-04-28T19:33:42.738Z"
   },
   {
    "duration": 13,
    "start_time": "2023-04-28T19:38:57.028Z"
   },
   {
    "duration": 14,
    "start_time": "2023-04-28T19:39:15.272Z"
   },
   {
    "duration": 7,
    "start_time": "2023-04-28T19:41:31.335Z"
   },
   {
    "duration": 10,
    "start_time": "2023-04-28T19:41:33.945Z"
   },
   {
    "duration": 11,
    "start_time": "2023-04-28T19:41:41.514Z"
   },
   {
    "duration": 7,
    "start_time": "2023-04-28T19:42:44.710Z"
   },
   {
    "duration": 9,
    "start_time": "2023-04-28T19:43:07.376Z"
   },
   {
    "duration": 8,
    "start_time": "2023-04-28T19:43:22.863Z"
   },
   {
    "duration": 7,
    "start_time": "2023-04-28T19:43:32.133Z"
   },
   {
    "duration": 7,
    "start_time": "2023-04-28T19:43:52.437Z"
   },
   {
    "duration": 13,
    "start_time": "2023-04-28T19:49:59.942Z"
   },
   {
    "duration": 13,
    "start_time": "2023-04-28T19:52:42.461Z"
   },
   {
    "duration": 312,
    "start_time": "2023-04-28T19:54:08.410Z"
   },
   {
    "duration": 282,
    "start_time": "2023-04-28T19:55:09.989Z"
   },
   {
    "duration": 233,
    "start_time": "2023-04-28T19:55:59.281Z"
   },
   {
    "duration": 225,
    "start_time": "2023-04-28T19:56:09.582Z"
   },
   {
    "duration": 230,
    "start_time": "2023-04-28T19:56:16.159Z"
   },
   {
    "duration": 219,
    "start_time": "2023-04-28T20:01:56.507Z"
   },
   {
    "duration": 238,
    "start_time": "2023-04-28T20:02:01.942Z"
   },
   {
    "duration": 225,
    "start_time": "2023-04-28T20:02:34.252Z"
   },
   {
    "duration": 378,
    "start_time": "2023-04-28T20:02:44.954Z"
   },
   {
    "duration": 266,
    "start_time": "2023-04-28T20:03:16.514Z"
   },
   {
    "duration": 266,
    "start_time": "2023-04-28T20:03:22.469Z"
   },
   {
    "duration": 318,
    "start_time": "2023-04-28T20:04:00.082Z"
   },
   {
    "duration": 229,
    "start_time": "2023-04-28T20:04:05.059Z"
   },
   {
    "duration": 263,
    "start_time": "2023-04-28T20:05:05.267Z"
   },
   {
    "duration": 244,
    "start_time": "2023-04-28T20:06:29.386Z"
   },
   {
    "duration": 212,
    "start_time": "2023-04-28T20:06:44.066Z"
   },
   {
    "duration": 247,
    "start_time": "2023-04-28T20:07:05.310Z"
   },
   {
    "duration": 245,
    "start_time": "2023-04-28T20:07:17.339Z"
   },
   {
    "duration": 231,
    "start_time": "2023-04-28T20:07:36.459Z"
   },
   {
    "duration": 437,
    "start_time": "2023-04-28T20:14:36.282Z"
   },
   {
    "duration": 318,
    "start_time": "2023-04-28T20:23:07.708Z"
   },
   {
    "duration": 315,
    "start_time": "2023-04-28T20:23:26.620Z"
   },
   {
    "duration": 323,
    "start_time": "2023-04-28T20:23:33.847Z"
   },
   {
    "duration": 384,
    "start_time": "2023-04-28T20:23:40.265Z"
   },
   {
    "duration": 366,
    "start_time": "2023-04-28T20:24:46.146Z"
   },
   {
    "duration": 325,
    "start_time": "2023-04-28T20:25:12.407Z"
   },
   {
    "duration": 278,
    "start_time": "2023-04-28T20:25:20.028Z"
   },
   {
    "duration": 52,
    "start_time": "2023-04-28T20:27:24.298Z"
   },
   {
    "duration": 366,
    "start_time": "2023-04-28T20:27:29.974Z"
   },
   {
    "duration": 238,
    "start_time": "2023-04-28T20:29:39.946Z"
   },
   {
    "duration": 200,
    "start_time": "2023-04-28T20:30:23.807Z"
   },
   {
    "duration": 207,
    "start_time": "2023-04-28T20:30:39.840Z"
   },
   {
    "duration": 287,
    "start_time": "2023-04-28T20:31:22.637Z"
   },
   {
    "duration": 225,
    "start_time": "2023-04-28T20:31:37.116Z"
   },
   {
    "duration": 218,
    "start_time": "2023-04-28T20:31:57.634Z"
   },
   {
    "duration": 56,
    "start_time": "2023-04-29T12:10:13.025Z"
   },
   {
    "duration": 1521,
    "start_time": "2023-04-29T12:10:20.014Z"
   },
   {
    "duration": 203,
    "start_time": "2023-04-29T12:10:21.538Z"
   },
   {
    "duration": 3,
    "start_time": "2023-04-29T12:10:21.743Z"
   },
   {
    "duration": 15,
    "start_time": "2023-04-29T12:10:21.747Z"
   },
   {
    "duration": 13,
    "start_time": "2023-04-29T12:10:21.764Z"
   },
   {
    "duration": 10,
    "start_time": "2023-04-29T12:10:21.778Z"
   },
   {
    "duration": 23,
    "start_time": "2023-04-29T12:10:21.789Z"
   },
   {
    "duration": 19,
    "start_time": "2023-04-29T12:10:21.814Z"
   },
   {
    "duration": 6,
    "start_time": "2023-04-29T12:10:21.836Z"
   },
   {
    "duration": 15,
    "start_time": "2023-04-29T12:10:21.845Z"
   },
   {
    "duration": 14,
    "start_time": "2023-04-29T12:10:21.861Z"
   },
   {
    "duration": 11,
    "start_time": "2023-04-29T12:10:21.878Z"
   },
   {
    "duration": 14,
    "start_time": "2023-04-29T12:10:21.891Z"
   },
   {
    "duration": 342,
    "start_time": "2023-04-29T12:10:21.908Z"
   },
   {
    "duration": 329,
    "start_time": "2023-04-29T12:10:22.252Z"
   },
   {
    "duration": 236,
    "start_time": "2023-04-29T12:10:22.583Z"
   },
   {
    "duration": 409,
    "start_time": "2023-04-29T12:10:22.821Z"
   },
   {
    "duration": 255,
    "start_time": "2023-04-29T12:10:23.232Z"
   },
   {
    "duration": 317,
    "start_time": "2023-04-29T12:10:23.489Z"
   },
   {
    "duration": 305,
    "start_time": "2023-04-29T12:10:39.149Z"
   },
   {
    "duration": 266,
    "start_time": "2023-04-29T12:10:59.116Z"
   },
   {
    "duration": 308,
    "start_time": "2023-04-29T12:11:37.985Z"
   },
   {
    "duration": 189,
    "start_time": "2023-04-29T12:12:31.317Z"
   },
   {
    "duration": 1659,
    "start_time": "2023-04-29T12:14:44.934Z"
   },
   {
    "duration": 14,
    "start_time": "2023-04-29T12:16:01.985Z"
   },
   {
    "duration": 2020,
    "start_time": "2023-04-29T12:16:43.209Z"
   },
   {
    "duration": 281,
    "start_time": "2023-04-29T12:17:38.008Z"
   },
   {
    "duration": 318,
    "start_time": "2023-04-29T12:18:00.319Z"
   },
   {
    "duration": 288,
    "start_time": "2023-04-29T12:18:13.228Z"
   },
   {
    "duration": 285,
    "start_time": "2023-04-29T12:18:58.300Z"
   },
   {
    "duration": 11,
    "start_time": "2023-04-29T12:26:49.667Z"
   },
   {
    "duration": 9,
    "start_time": "2023-04-29T12:27:23.799Z"
   },
   {
    "duration": 110,
    "start_time": "2023-04-29T12:28:36.147Z"
   },
   {
    "duration": 111,
    "start_time": "2023-04-29T12:28:51.425Z"
   },
   {
    "duration": 154,
    "start_time": "2023-04-29T12:33:57.977Z"
   },
   {
    "duration": 121,
    "start_time": "2023-04-29T12:35:12.606Z"
   },
   {
    "duration": 124,
    "start_time": "2023-04-29T12:35:35.587Z"
   },
   {
    "duration": 5,
    "start_time": "2023-04-29T12:37:32.995Z"
   },
   {
    "duration": 5,
    "start_time": "2023-04-29T12:39:21.235Z"
   },
   {
    "duration": 9,
    "start_time": "2023-04-29T12:40:28.631Z"
   },
   {
    "duration": 12,
    "start_time": "2023-04-29T12:41:07.750Z"
   },
   {
    "duration": 5,
    "start_time": "2023-04-29T12:42:23.167Z"
   },
   {
    "duration": 110,
    "start_time": "2023-04-29T12:48:54.679Z"
   },
   {
    "duration": 136,
    "start_time": "2023-04-29T12:49:53.518Z"
   },
   {
    "duration": 208,
    "start_time": "2023-04-29T12:50:29.129Z"
   },
   {
    "duration": 159,
    "start_time": "2023-04-29T12:51:17.127Z"
   },
   {
    "duration": 5,
    "start_time": "2023-04-29T12:52:47.503Z"
   },
   {
    "duration": 7,
    "start_time": "2023-04-29T12:52:54.910Z"
   },
   {
    "duration": 5,
    "start_time": "2023-04-29T12:53:05.429Z"
   },
   {
    "duration": 162,
    "start_time": "2023-04-29T12:53:21.498Z"
   },
   {
    "duration": 142,
    "start_time": "2023-04-29T12:53:25.834Z"
   },
   {
    "duration": 4,
    "start_time": "2023-04-29T12:53:31.439Z"
   },
   {
    "duration": 5,
    "start_time": "2023-04-29T12:53:35.288Z"
   },
   {
    "duration": 12,
    "start_time": "2023-04-29T12:57:16.361Z"
   },
   {
    "duration": 140,
    "start_time": "2023-04-29T12:57:33.773Z"
   },
   {
    "duration": 137,
    "start_time": "2023-04-29T12:57:48.031Z"
   },
   {
    "duration": 4,
    "start_time": "2023-04-29T13:00:17.677Z"
   },
   {
    "duration": 5,
    "start_time": "2023-04-29T13:00:21.687Z"
   },
   {
    "duration": 8,
    "start_time": "2023-04-29T13:14:01.512Z"
   },
   {
    "duration": 13,
    "start_time": "2023-04-29T13:14:04.241Z"
   },
   {
    "duration": 114,
    "start_time": "2023-04-29T13:17:06.209Z"
   },
   {
    "duration": 10,
    "start_time": "2023-04-29T13:20:47.837Z"
   },
   {
    "duration": 9,
    "start_time": "2023-04-29T13:20:50.407Z"
   },
   {
    "duration": 1270,
    "start_time": "2023-04-29T18:47:17.450Z"
   },
   {
    "duration": 219,
    "start_time": "2023-04-29T18:47:18.722Z"
   },
   {
    "duration": 3,
    "start_time": "2023-04-29T18:47:18.943Z"
   },
   {
    "duration": 8,
    "start_time": "2023-04-29T18:47:18.949Z"
   },
   {
    "duration": 10,
    "start_time": "2023-04-29T18:47:18.958Z"
   },
   {
    "duration": 8,
    "start_time": "2023-04-29T18:47:18.969Z"
   },
   {
    "duration": 15,
    "start_time": "2023-04-29T18:47:18.979Z"
   },
   {
    "duration": 12,
    "start_time": "2023-04-29T18:47:18.995Z"
   },
   {
    "duration": 8,
    "start_time": "2023-04-29T18:47:19.008Z"
   },
   {
    "duration": 8,
    "start_time": "2023-04-29T18:47:19.020Z"
   },
   {
    "duration": 7,
    "start_time": "2023-04-29T18:47:19.030Z"
   },
   {
    "duration": 5,
    "start_time": "2023-04-29T18:47:19.039Z"
   },
   {
    "duration": 12,
    "start_time": "2023-04-29T18:47:19.046Z"
   },
   {
    "duration": 355,
    "start_time": "2023-04-29T18:47:19.059Z"
   },
   {
    "duration": 310,
    "start_time": "2023-04-29T18:47:19.416Z"
   },
   {
    "duration": 224,
    "start_time": "2023-04-29T18:47:19.728Z"
   },
   {
    "duration": 393,
    "start_time": "2023-04-29T18:47:19.954Z"
   },
   {
    "duration": 242,
    "start_time": "2023-04-29T18:47:20.348Z"
   },
   {
    "duration": 330,
    "start_time": "2023-04-29T18:47:20.593Z"
   },
   {
    "duration": 10,
    "start_time": "2023-04-29T18:47:20.924Z"
   },
   {
    "duration": 154,
    "start_time": "2023-04-29T18:47:20.935Z"
   },
   {
    "duration": 5,
    "start_time": "2023-04-29T18:47:21.090Z"
   },
   {
    "duration": 248,
    "start_time": "2023-04-29T18:47:21.097Z"
   },
   {
    "duration": 5,
    "start_time": "2023-04-29T18:47:21.347Z"
   },
   {
    "duration": 163,
    "start_time": "2023-04-29T18:47:21.353Z"
   },
   {
    "duration": 5,
    "start_time": "2023-04-29T18:47:21.517Z"
   },
   {
    "duration": 154,
    "start_time": "2023-04-29T18:47:21.523Z"
   },
   {
    "duration": 122,
    "start_time": "2023-04-29T18:47:21.680Z"
   },
   {
    "duration": 116,
    "start_time": "2023-04-29T18:50:09.985Z"
   },
   {
    "duration": 239,
    "start_time": "2023-04-29T18:51:54.577Z"
   },
   {
    "duration": 144,
    "start_time": "2023-04-29T18:51:59.550Z"
   },
   {
    "duration": 6,
    "start_time": "2023-04-29T18:52:03.965Z"
   },
   {
    "duration": 10,
    "start_time": "2023-04-29T18:53:11.012Z"
   },
   {
    "duration": 3,
    "start_time": "2023-04-29T18:54:02.976Z"
   },
   {
    "duration": 23,
    "start_time": "2023-04-29T18:54:09.473Z"
   },
   {
    "duration": 22,
    "start_time": "2023-04-29T18:55:16.187Z"
   },
   {
    "duration": 24,
    "start_time": "2023-04-29T18:56:18.162Z"
   },
   {
    "duration": 22,
    "start_time": "2023-04-29T18:56:39.081Z"
   },
   {
    "duration": 11,
    "start_time": "2023-04-29T19:00:04.307Z"
   },
   {
    "duration": 12,
    "start_time": "2023-04-29T19:00:29.770Z"
   },
   {
    "duration": 12,
    "start_time": "2023-04-29T19:05:04.496Z"
   },
   {
    "duration": 10,
    "start_time": "2023-04-29T19:05:09.858Z"
   },
   {
    "duration": 11,
    "start_time": "2023-04-29T19:05:22.086Z"
   },
   {
    "duration": 50,
    "start_time": "2023-04-29T19:08:54.010Z"
   },
   {
    "duration": 8,
    "start_time": "2023-04-29T19:09:04.315Z"
   },
   {
    "duration": 21,
    "start_time": "2023-04-29T19:09:17.501Z"
   },
   {
    "duration": 21,
    "start_time": "2023-04-29T19:09:48.767Z"
   },
   {
    "duration": 2,
    "start_time": "2023-04-29T19:10:34.416Z"
   },
   {
    "duration": 14,
    "start_time": "2023-04-29T19:12:14.590Z"
   },
   {
    "duration": 14,
    "start_time": "2023-04-29T19:14:28.724Z"
   },
   {
    "duration": 215,
    "start_time": "2023-04-29T19:20:22.700Z"
   },
   {
    "duration": 12,
    "start_time": "2023-04-29T19:36:25.761Z"
   },
   {
    "duration": 22,
    "start_time": "2023-04-29T19:52:54.290Z"
   },
   {
    "duration": 16,
    "start_time": "2023-04-29T19:53:09.893Z"
   },
   {
    "duration": 5,
    "start_time": "2023-04-29T19:53:32.606Z"
   },
   {
    "duration": 1277,
    "start_time": "2023-04-30T04:48:08.822Z"
   },
   {
    "duration": 184,
    "start_time": "2023-04-30T04:48:10.101Z"
   },
   {
    "duration": 3,
    "start_time": "2023-04-30T04:48:10.286Z"
   },
   {
    "duration": 8,
    "start_time": "2023-04-30T04:48:10.291Z"
   },
   {
    "duration": 9,
    "start_time": "2023-04-30T04:48:10.301Z"
   },
   {
    "duration": 8,
    "start_time": "2023-04-30T04:48:10.312Z"
   },
   {
    "duration": 12,
    "start_time": "2023-04-30T04:48:10.322Z"
   },
   {
    "duration": 51,
    "start_time": "2023-04-30T04:48:10.336Z"
   },
   {
    "duration": 6,
    "start_time": "2023-04-30T04:48:10.389Z"
   },
   {
    "duration": 7,
    "start_time": "2023-04-30T04:48:10.397Z"
   },
   {
    "duration": 5,
    "start_time": "2023-04-30T04:48:10.406Z"
   },
   {
    "duration": 5,
    "start_time": "2023-04-30T04:48:10.413Z"
   },
   {
    "duration": 13,
    "start_time": "2023-04-30T04:48:10.419Z"
   },
   {
    "duration": 320,
    "start_time": "2023-04-30T04:48:10.435Z"
   },
   {
    "duration": 289,
    "start_time": "2023-04-30T04:48:10.757Z"
   },
   {
    "duration": 227,
    "start_time": "2023-04-30T04:48:11.048Z"
   },
   {
    "duration": 365,
    "start_time": "2023-04-30T04:48:11.276Z"
   },
   {
    "duration": 239,
    "start_time": "2023-04-30T04:48:11.644Z"
   },
   {
    "duration": 342,
    "start_time": "2023-04-30T04:48:11.884Z"
   },
   {
    "duration": 9,
    "start_time": "2023-04-30T04:48:12.228Z"
   },
   {
    "duration": 148,
    "start_time": "2023-04-30T04:48:12.239Z"
   },
   {
    "duration": 4,
    "start_time": "2023-04-30T04:48:12.388Z"
   },
   {
    "duration": 245,
    "start_time": "2023-04-30T04:48:12.393Z"
   },
   {
    "duration": 6,
    "start_time": "2023-04-30T04:48:12.640Z"
   },
   {
    "duration": 164,
    "start_time": "2023-04-30T04:48:12.648Z"
   },
   {
    "duration": 5,
    "start_time": "2023-04-30T04:48:12.813Z"
   },
   {
    "duration": 244,
    "start_time": "2023-04-30T04:48:12.819Z"
   },
   {
    "duration": 138,
    "start_time": "2023-04-30T04:48:13.064Z"
   },
   {
    "duration": 6,
    "start_time": "2023-04-30T04:48:13.204Z"
   },
   {
    "duration": 23,
    "start_time": "2023-04-30T04:48:13.211Z"
   },
   {
    "duration": 11,
    "start_time": "2023-04-30T04:48:13.236Z"
   },
   {
    "duration": 9,
    "start_time": "2023-04-30T04:48:13.248Z"
   },
   {
    "duration": 9,
    "start_time": "2023-04-30T04:48:13.285Z"
   },
   {
    "duration": 25,
    "start_time": "2023-04-30T04:48:13.295Z"
   },
   {
    "duration": 15,
    "start_time": "2023-04-30T04:48:13.322Z"
   },
   {
    "duration": 84,
    "start_time": "2023-04-30T09:52:45.908Z"
   },
   {
    "duration": 1701,
    "start_time": "2023-04-30T09:52:52.506Z"
   },
   {
    "duration": 232,
    "start_time": "2023-04-30T09:52:54.209Z"
   },
   {
    "duration": 4,
    "start_time": "2023-04-30T09:52:54.444Z"
   },
   {
    "duration": 21,
    "start_time": "2023-04-30T09:52:54.450Z"
   },
   {
    "duration": 20,
    "start_time": "2023-04-30T09:52:54.474Z"
   },
   {
    "duration": 26,
    "start_time": "2023-04-30T09:52:54.500Z"
   },
   {
    "duration": 25,
    "start_time": "2023-04-30T09:52:54.529Z"
   },
   {
    "duration": 26,
    "start_time": "2023-04-30T09:52:54.556Z"
   },
   {
    "duration": 46,
    "start_time": "2023-04-30T09:52:54.584Z"
   },
   {
    "duration": 13,
    "start_time": "2023-04-30T09:52:54.633Z"
   },
   {
    "duration": 7,
    "start_time": "2023-04-30T09:52:54.650Z"
   },
   {
    "duration": 12,
    "start_time": "2023-04-30T09:52:54.660Z"
   },
   {
    "duration": 48,
    "start_time": "2023-04-30T09:52:54.674Z"
   },
   {
    "duration": 432,
    "start_time": "2023-04-30T09:52:54.727Z"
   },
   {
    "duration": 439,
    "start_time": "2023-04-30T09:52:55.163Z"
   },
   {
    "duration": 308,
    "start_time": "2023-04-30T09:52:55.607Z"
   },
   {
    "duration": 382,
    "start_time": "2023-04-30T09:52:55.923Z"
   },
   {
    "duration": 272,
    "start_time": "2023-04-30T09:52:56.315Z"
   },
   {
    "duration": 364,
    "start_time": "2023-04-30T09:52:56.594Z"
   },
   {
    "duration": 10,
    "start_time": "2023-04-30T09:52:56.960Z"
   },
   {
    "duration": 238,
    "start_time": "2023-04-30T09:52:56.972Z"
   },
   {
    "duration": 11,
    "start_time": "2023-04-30T09:52:57.214Z"
   },
   {
    "duration": 204,
    "start_time": "2023-04-30T09:52:57.228Z"
   },
   {
    "duration": 8,
    "start_time": "2023-04-30T09:52:57.434Z"
   },
   {
    "duration": 276,
    "start_time": "2023-04-30T09:52:57.444Z"
   },
   {
    "duration": 5,
    "start_time": "2023-04-30T09:52:57.721Z"
   },
   {
    "duration": 295,
    "start_time": "2023-04-30T09:52:57.728Z"
   },
   {
    "duration": 266,
    "start_time": "2023-04-30T09:52:58.035Z"
   },
   {
    "duration": 8,
    "start_time": "2023-04-30T09:52:58.308Z"
   },
   {
    "duration": 47,
    "start_time": "2023-04-30T09:52:58.318Z"
   },
   {
    "duration": 26,
    "start_time": "2023-04-30T09:52:58.367Z"
   },
   {
    "duration": 45,
    "start_time": "2023-04-30T09:52:58.394Z"
   },
   {
    "duration": 26,
    "start_time": "2023-04-30T09:52:58.442Z"
   },
   {
    "duration": 48,
    "start_time": "2023-04-30T09:52:58.470Z"
   },
   {
    "duration": 28,
    "start_time": "2023-04-30T09:52:58.520Z"
   },
   {
    "duration": 19,
    "start_time": "2023-04-30T09:54:09.649Z"
   },
   {
    "duration": 150,
    "start_time": "2023-04-30T09:54:18.870Z"
   },
   {
    "duration": 28,
    "start_time": "2023-04-30T09:54:23.856Z"
   },
   {
    "duration": 1283,
    "start_time": "2023-04-30T09:54:32.853Z"
   },
   {
    "duration": 91,
    "start_time": "2023-04-30T09:54:34.138Z"
   },
   {
    "duration": 26,
    "start_time": "2023-04-30T09:54:34.231Z"
   },
   {
    "duration": 4,
    "start_time": "2023-04-30T09:54:34.259Z"
   },
   {
    "duration": 51,
    "start_time": "2023-04-30T09:54:34.266Z"
   },
   {
    "duration": 21,
    "start_time": "2023-04-30T09:54:34.319Z"
   },
   {
    "duration": 14,
    "start_time": "2023-04-30T09:54:34.342Z"
   },
   {
    "duration": 31,
    "start_time": "2023-04-30T09:54:34.359Z"
   },
   {
    "duration": 55,
    "start_time": "2023-04-30T09:54:34.395Z"
   },
   {
    "duration": 16,
    "start_time": "2023-04-30T09:54:34.455Z"
   },
   {
    "duration": 40,
    "start_time": "2023-04-30T09:54:34.473Z"
   },
   {
    "duration": 11,
    "start_time": "2023-04-30T09:54:34.515Z"
   },
   {
    "duration": 28,
    "start_time": "2023-04-30T09:54:34.528Z"
   },
   {
    "duration": 32,
    "start_time": "2023-04-30T09:54:34.560Z"
   },
   {
    "duration": 443,
    "start_time": "2023-04-30T09:54:34.604Z"
   },
   {
    "duration": 389,
    "start_time": "2023-04-30T09:54:35.049Z"
   },
   {
    "duration": 257,
    "start_time": "2023-04-30T09:54:35.440Z"
   },
   {
    "duration": 323,
    "start_time": "2023-04-30T09:54:35.701Z"
   },
   {
    "duration": 280,
    "start_time": "2023-04-30T09:54:36.026Z"
   },
   {
    "duration": 329,
    "start_time": "2023-04-30T09:54:36.308Z"
   },
   {
    "duration": 13,
    "start_time": "2023-04-30T09:54:36.640Z"
   },
   {
    "duration": 182,
    "start_time": "2023-04-30T09:54:36.655Z"
   },
   {
    "duration": 6,
    "start_time": "2023-04-30T09:54:36.839Z"
   },
   {
    "duration": 222,
    "start_time": "2023-04-30T09:54:36.847Z"
   },
   {
    "duration": 21,
    "start_time": "2023-04-30T09:54:37.070Z"
   },
   {
    "duration": 314,
    "start_time": "2023-04-30T09:54:37.098Z"
   },
   {
    "duration": 6,
    "start_time": "2023-04-30T09:54:37.415Z"
   },
   {
    "duration": 297,
    "start_time": "2023-04-30T09:54:37.424Z"
   },
   {
    "duration": 147,
    "start_time": "2023-04-30T09:54:37.726Z"
   },
   {
    "duration": 24,
    "start_time": "2023-04-30T09:54:37.877Z"
   },
   {
    "duration": 43,
    "start_time": "2023-04-30T09:54:37.904Z"
   },
   {
    "duration": 11,
    "start_time": "2023-04-30T09:54:37.949Z"
   },
   {
    "duration": 28,
    "start_time": "2023-04-30T09:54:37.962Z"
   },
   {
    "duration": 38,
    "start_time": "2023-04-30T09:54:37.996Z"
   },
   {
    "duration": 86,
    "start_time": "2023-04-30T09:54:38.035Z"
   },
   {
    "duration": 39,
    "start_time": "2023-04-30T09:54:38.124Z"
   },
   {
    "duration": 7,
    "start_time": "2023-04-30T09:55:22.406Z"
   },
   {
    "duration": 1355,
    "start_time": "2023-04-30T09:57:06.680Z"
   },
   {
    "duration": 96,
    "start_time": "2023-04-30T09:57:08.038Z"
   },
   {
    "duration": 540,
    "start_time": "2023-04-30T09:57:08.137Z"
   },
   {
    "duration": 0,
    "start_time": "2023-04-30T09:57:08.681Z"
   },
   {
    "duration": 0,
    "start_time": "2023-04-30T09:57:08.692Z"
   },
   {
    "duration": 0,
    "start_time": "2023-04-30T09:57:08.697Z"
   },
   {
    "duration": 0,
    "start_time": "2023-04-30T09:57:08.699Z"
   },
   {
    "duration": 0,
    "start_time": "2023-04-30T09:57:08.700Z"
   },
   {
    "duration": 0,
    "start_time": "2023-04-30T09:57:08.702Z"
   },
   {
    "duration": 0,
    "start_time": "2023-04-30T09:57:08.707Z"
   },
   {
    "duration": 0,
    "start_time": "2023-04-30T09:57:08.711Z"
   },
   {
    "duration": 0,
    "start_time": "2023-04-30T09:57:08.712Z"
   },
   {
    "duration": 0,
    "start_time": "2023-04-30T09:57:08.713Z"
   },
   {
    "duration": 0,
    "start_time": "2023-04-30T09:57:08.715Z"
   },
   {
    "duration": 0,
    "start_time": "2023-04-30T09:57:08.716Z"
   },
   {
    "duration": 1,
    "start_time": "2023-04-30T09:57:08.717Z"
   },
   {
    "duration": 0,
    "start_time": "2023-04-30T09:57:08.719Z"
   },
   {
    "duration": 0,
    "start_time": "2023-04-30T09:57:08.722Z"
   },
   {
    "duration": 0,
    "start_time": "2023-04-30T09:57:08.724Z"
   },
   {
    "duration": 0,
    "start_time": "2023-04-30T09:57:08.725Z"
   },
   {
    "duration": 0,
    "start_time": "2023-04-30T09:57:08.727Z"
   },
   {
    "duration": 0,
    "start_time": "2023-04-30T09:57:08.728Z"
   },
   {
    "duration": 0,
    "start_time": "2023-04-30T09:57:08.729Z"
   },
   {
    "duration": 0,
    "start_time": "2023-04-30T09:57:08.731Z"
   },
   {
    "duration": 0,
    "start_time": "2023-04-30T09:57:08.733Z"
   },
   {
    "duration": 0,
    "start_time": "2023-04-30T09:57:08.734Z"
   },
   {
    "duration": 0,
    "start_time": "2023-04-30T09:57:08.736Z"
   },
   {
    "duration": 0,
    "start_time": "2023-04-30T09:57:08.737Z"
   },
   {
    "duration": 0,
    "start_time": "2023-04-30T09:57:08.739Z"
   },
   {
    "duration": 0,
    "start_time": "2023-04-30T09:57:08.740Z"
   },
   {
    "duration": 0,
    "start_time": "2023-04-30T09:57:08.742Z"
   },
   {
    "duration": 0,
    "start_time": "2023-04-30T09:57:08.743Z"
   },
   {
    "duration": 0,
    "start_time": "2023-04-30T09:57:08.745Z"
   },
   {
    "duration": 0,
    "start_time": "2023-04-30T09:57:08.783Z"
   },
   {
    "duration": 0,
    "start_time": "2023-04-30T09:57:08.784Z"
   },
   {
    "duration": 6,
    "start_time": "2023-04-30T09:58:00.603Z"
   },
   {
    "duration": 24,
    "start_time": "2023-04-30T09:58:14.729Z"
   },
   {
    "duration": 18,
    "start_time": "2023-04-30T09:58:16.735Z"
   },
   {
    "duration": 1376,
    "start_time": "2023-04-30T09:58:23.169Z"
   },
   {
    "duration": 92,
    "start_time": "2023-04-30T09:58:24.550Z"
   },
   {
    "duration": 15,
    "start_time": "2023-04-30T09:58:24.644Z"
   },
   {
    "duration": 59,
    "start_time": "2023-04-30T09:58:24.662Z"
   },
   {
    "duration": 99,
    "start_time": "2023-04-30T09:58:24.723Z"
   },
   {
    "duration": 103,
    "start_time": "2023-04-30T09:58:24.824Z"
   },
   {
    "duration": 63,
    "start_time": "2023-04-30T09:58:24.929Z"
   },
   {
    "duration": 62,
    "start_time": "2023-04-30T09:58:24.996Z"
   },
   {
    "duration": 75,
    "start_time": "2023-04-30T09:58:25.060Z"
   },
   {
    "duration": 51,
    "start_time": "2023-04-30T09:58:25.139Z"
   },
   {
    "duration": 57,
    "start_time": "2023-04-30T09:58:25.192Z"
   },
   {
    "duration": 75,
    "start_time": "2023-04-30T09:58:25.251Z"
   },
   {
    "duration": 36,
    "start_time": "2023-04-30T09:58:25.328Z"
   },
   {
    "duration": 46,
    "start_time": "2023-04-30T09:58:25.366Z"
   },
   {
    "duration": 47,
    "start_time": "2023-04-30T09:58:25.415Z"
   },
   {
    "duration": 342,
    "start_time": "2023-04-30T09:58:25.465Z"
   },
   {
    "duration": 404,
    "start_time": "2023-04-30T09:58:25.809Z"
   },
   {
    "duration": 250,
    "start_time": "2023-04-30T09:58:26.216Z"
   },
   {
    "duration": 353,
    "start_time": "2023-04-30T09:58:26.469Z"
   },
   {
    "duration": 238,
    "start_time": "2023-04-30T09:58:26.824Z"
   },
   {
    "duration": 349,
    "start_time": "2023-04-30T09:58:27.064Z"
   },
   {
    "duration": 13,
    "start_time": "2023-04-30T09:58:27.415Z"
   },
   {
    "duration": 203,
    "start_time": "2023-04-30T09:58:27.430Z"
   },
   {
    "duration": 4,
    "start_time": "2023-04-30T09:58:27.636Z"
   },
   {
    "duration": 215,
    "start_time": "2023-04-30T09:58:27.642Z"
   },
   {
    "duration": 6,
    "start_time": "2023-04-30T09:58:27.859Z"
   },
   {
    "duration": 320,
    "start_time": "2023-04-30T09:58:27.867Z"
   },
   {
    "duration": 7,
    "start_time": "2023-04-30T09:58:28.191Z"
   },
   {
    "duration": 250,
    "start_time": "2023-04-30T09:58:28.201Z"
   },
   {
    "duration": 163,
    "start_time": "2023-04-30T09:58:28.453Z"
   },
   {
    "duration": 7,
    "start_time": "2023-04-30T09:58:28.619Z"
   },
   {
    "duration": 54,
    "start_time": "2023-04-30T09:58:28.627Z"
   },
   {
    "duration": 23,
    "start_time": "2023-04-30T09:58:28.682Z"
   },
   {
    "duration": 24,
    "start_time": "2023-04-30T09:58:28.706Z"
   },
   {
    "duration": 14,
    "start_time": "2023-04-30T09:58:28.732Z"
   },
   {
    "duration": 42,
    "start_time": "2023-04-30T09:58:28.749Z"
   },
   {
    "duration": 18,
    "start_time": "2023-04-30T09:58:28.793Z"
   },
   {
    "duration": 12,
    "start_time": "2023-04-30T10:00:11.247Z"
   },
   {
    "duration": 293,
    "start_time": "2023-04-30T10:02:27.263Z"
   },
   {
    "duration": 300,
    "start_time": "2023-04-30T10:02:39.019Z"
   },
   {
    "duration": 226,
    "start_time": "2023-04-30T10:03:15.504Z"
   },
   {
    "duration": 303,
    "start_time": "2023-04-30T10:03:25.815Z"
   },
   {
    "duration": 362,
    "start_time": "2023-04-30T10:03:33.084Z"
   },
   {
    "duration": 270,
    "start_time": "2023-04-30T10:03:38.374Z"
   },
   {
    "duration": 359,
    "start_time": "2023-04-30T10:03:42.518Z"
   },
   {
    "duration": 327,
    "start_time": "2023-04-30T10:03:55.633Z"
   },
   {
    "duration": 193,
    "start_time": "2023-04-30T10:04:06.499Z"
   },
   {
    "duration": 208,
    "start_time": "2023-04-30T10:04:17.717Z"
   },
   {
    "duration": 257,
    "start_time": "2023-04-30T10:04:24.756Z"
   },
   {
    "duration": 15,
    "start_time": "2023-04-30T10:25:56.904Z"
   },
   {
    "duration": 16,
    "start_time": "2023-04-30T10:26:27.626Z"
   },
   {
    "duration": 14,
    "start_time": "2023-04-30T10:26:44.706Z"
   },
   {
    "duration": 12,
    "start_time": "2023-04-30T10:26:55.166Z"
   },
   {
    "duration": 18,
    "start_time": "2023-04-30T10:28:14.807Z"
   },
   {
    "duration": 12,
    "start_time": "2023-04-30T10:29:03.064Z"
   },
   {
    "duration": 15,
    "start_time": "2023-04-30T10:29:13.901Z"
   },
   {
    "duration": 14,
    "start_time": "2023-04-30T10:29:23.115Z"
   },
   {
    "duration": 12,
    "start_time": "2023-04-30T10:29:28.403Z"
   },
   {
    "duration": 13,
    "start_time": "2023-04-30T10:29:45.150Z"
   },
   {
    "duration": 13,
    "start_time": "2023-04-30T10:29:51.838Z"
   },
   {
    "duration": 14,
    "start_time": "2023-04-30T10:30:21.222Z"
   },
   {
    "duration": 14,
    "start_time": "2023-04-30T10:30:25.424Z"
   },
   {
    "duration": 15,
    "start_time": "2023-04-30T10:30:36.427Z"
   },
   {
    "duration": 17,
    "start_time": "2023-04-30T10:30:47.303Z"
   },
   {
    "duration": 1333,
    "start_time": "2023-04-30T10:35:59.510Z"
   },
   {
    "duration": 81,
    "start_time": "2023-04-30T10:36:00.845Z"
   },
   {
    "duration": 9,
    "start_time": "2023-04-30T10:36:00.929Z"
   },
   {
    "duration": 97,
    "start_time": "2023-04-30T10:36:00.940Z"
   },
   {
    "duration": 53,
    "start_time": "2023-04-30T10:36:01.039Z"
   },
   {
    "duration": 118,
    "start_time": "2023-04-30T10:36:01.098Z"
   },
   {
    "duration": 53,
    "start_time": "2023-04-30T10:36:01.218Z"
   },
   {
    "duration": 107,
    "start_time": "2023-04-30T10:36:01.273Z"
   },
   {
    "duration": 68,
    "start_time": "2023-04-30T10:36:01.381Z"
   },
   {
    "duration": 87,
    "start_time": "2023-04-30T10:36:01.453Z"
   },
   {
    "duration": 55,
    "start_time": "2023-04-30T10:36:01.542Z"
   },
   {
    "duration": 65,
    "start_time": "2023-04-30T10:36:01.601Z"
   },
   {
    "duration": 96,
    "start_time": "2023-04-30T10:36:01.669Z"
   },
   {
    "duration": 548,
    "start_time": "2023-04-30T10:36:01.767Z"
   },
   {
    "duration": 356,
    "start_time": "2023-04-30T10:36:02.317Z"
   },
   {
    "duration": 245,
    "start_time": "2023-04-30T10:36:02.675Z"
   },
   {
    "duration": 319,
    "start_time": "2023-04-30T10:36:02.922Z"
   },
   {
    "duration": 319,
    "start_time": "2023-04-30T10:36:03.243Z"
   },
   {
    "duration": 362,
    "start_time": "2023-04-30T10:36:03.564Z"
   },
   {
    "duration": 10,
    "start_time": "2023-04-30T10:36:03.929Z"
   },
   {
    "duration": 173,
    "start_time": "2023-04-30T10:36:03.941Z"
   },
   {
    "duration": 4,
    "start_time": "2023-04-30T10:36:04.116Z"
   },
   {
    "duration": 222,
    "start_time": "2023-04-30T10:36:04.123Z"
   },
   {
    "duration": 6,
    "start_time": "2023-04-30T10:36:04.348Z"
   },
   {
    "duration": 273,
    "start_time": "2023-04-30T10:36:04.355Z"
   },
   {
    "duration": 5,
    "start_time": "2023-04-30T10:36:04.629Z"
   },
   {
    "duration": 296,
    "start_time": "2023-04-30T10:36:04.636Z"
   },
   {
    "duration": 187,
    "start_time": "2023-04-30T10:36:04.936Z"
   },
   {
    "duration": 8,
    "start_time": "2023-04-30T10:36:05.127Z"
   },
   {
    "duration": 44,
    "start_time": "2023-04-30T10:36:05.137Z"
   },
   {
    "duration": 45,
    "start_time": "2023-04-30T10:36:05.183Z"
   },
   {
    "duration": 39,
    "start_time": "2023-04-30T10:36:05.230Z"
   },
   {
    "duration": 13,
    "start_time": "2023-04-30T10:36:05.271Z"
   },
   {
    "duration": 56,
    "start_time": "2023-04-30T10:36:05.291Z"
   },
   {
    "duration": 16,
    "start_time": "2023-04-30T10:36:05.349Z"
   },
   {
    "duration": 1937,
    "start_time": "2023-04-30T19:05:06.264Z"
   },
   {
    "duration": 358,
    "start_time": "2023-04-30T19:05:08.210Z"
   },
   {
    "duration": 4,
    "start_time": "2023-04-30T19:05:08.570Z"
   },
   {
    "duration": 25,
    "start_time": "2023-04-30T19:05:08.576Z"
   },
   {
    "duration": 24,
    "start_time": "2023-04-30T19:05:08.605Z"
   },
   {
    "duration": 22,
    "start_time": "2023-04-30T19:05:08.631Z"
   },
   {
    "duration": 13,
    "start_time": "2023-04-30T19:05:08.659Z"
   },
   {
    "duration": 11,
    "start_time": "2023-04-30T19:05:08.675Z"
   },
   {
    "duration": 28,
    "start_time": "2023-04-30T19:05:08.688Z"
   },
   {
    "duration": 12,
    "start_time": "2023-04-30T19:05:08.720Z"
   },
   {
    "duration": 11,
    "start_time": "2023-04-30T19:05:08.736Z"
   },
   {
    "duration": 6,
    "start_time": "2023-04-30T19:05:08.754Z"
   },
   {
    "duration": 16,
    "start_time": "2023-04-30T19:05:08.762Z"
   },
   {
    "duration": 360,
    "start_time": "2023-04-30T19:05:08.780Z"
   },
   {
    "duration": 434,
    "start_time": "2023-04-30T19:05:09.142Z"
   },
   {
    "duration": 364,
    "start_time": "2023-04-30T19:05:09.578Z"
   },
   {
    "duration": 402,
    "start_time": "2023-04-30T19:05:09.949Z"
   },
   {
    "duration": 316,
    "start_time": "2023-04-30T19:05:10.353Z"
   },
   {
    "duration": 412,
    "start_time": "2023-04-30T19:05:10.674Z"
   },
   {
    "duration": 22,
    "start_time": "2023-04-30T19:05:11.089Z"
   },
   {
    "duration": 226,
    "start_time": "2023-04-30T19:05:11.113Z"
   },
   {
    "duration": 6,
    "start_time": "2023-04-30T19:05:11.341Z"
   },
   {
    "duration": 197,
    "start_time": "2023-04-30T19:05:11.348Z"
   },
   {
    "duration": 9,
    "start_time": "2023-04-30T19:05:11.550Z"
   },
   {
    "duration": 311,
    "start_time": "2023-04-30T19:05:11.561Z"
   },
   {
    "duration": 6,
    "start_time": "2023-04-30T19:05:11.877Z"
   },
   {
    "duration": 300,
    "start_time": "2023-04-30T19:05:11.889Z"
   },
   {
    "duration": 218,
    "start_time": "2023-04-30T19:05:12.193Z"
   },
   {
    "duration": 8,
    "start_time": "2023-04-30T19:05:12.413Z"
   },
   {
    "duration": 33,
    "start_time": "2023-04-30T19:05:12.424Z"
   },
   {
    "duration": 16,
    "start_time": "2023-04-30T19:05:12.459Z"
   },
   {
    "duration": 33,
    "start_time": "2023-04-30T19:05:12.477Z"
   },
   {
    "duration": 28,
    "start_time": "2023-04-30T19:05:12.522Z"
   },
   {
    "duration": 71,
    "start_time": "2023-04-30T19:05:12.552Z"
   },
   {
    "duration": 40,
    "start_time": "2023-04-30T19:05:12.625Z"
   }
  ],
  "kernelspec": {
   "display_name": "Python 3 (ipykernel)",
   "language": "python",
   "name": "python3"
  },
  "language_info": {
   "codemirror_mode": {
    "name": "ipython",
    "version": 3
   },
   "file_extension": ".py",
   "mimetype": "text/x-python",
   "name": "python",
   "nbconvert_exporter": "python",
   "pygments_lexer": "ipython3",
   "version": "3.9.13"
  },
  "toc": {
   "base_numbering": 1,
   "nav_menu": {},
   "number_sections": true,
   "sideBar": true,
   "skip_h1_title": true,
   "title_cell": "Table of Contents",
   "title_sidebar": "Contents",
   "toc_cell": false,
   "toc_position": {
    "height": "calc(100% - 180px)",
    "left": "10px",
    "top": "150px",
    "width": "282.222px"
   },
   "toc_section_display": true,
   "toc_window_display": true
  }
 },
 "nbformat": 4,
 "nbformat_minor": 2
}
