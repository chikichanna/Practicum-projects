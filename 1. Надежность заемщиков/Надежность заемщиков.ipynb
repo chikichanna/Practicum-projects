{
 "cells": [
  {
   "cell_type": "markdown",
   "id": "f674380e",
   "metadata": {
    "deletable": false,
    "editable": false,
    "id": "c81daeeb"
   },
   "source": [
    "# Исследование надежности заемщиков\n"
   ]
  },
  {
   "cell_type": "markdown",
   "id": "9dc6af71",
   "metadata": {
    "id": "744d7639"
   },
   "source": [
    "## Откроем таблицу и изучим общую информацию о данных"
   ]
  },
  {
   "cell_type": "markdown",
   "id": "d7e10f33",
   "metadata": {
    "id": "e7a14c31"
   },
   "source": [
    "Считаем данные из csv-файла в датафрейм и сохраним в переменную `data`"
   ]
  },
  {
   "cell_type": "code",
   "execution_count": 1,
   "id": "872ae57a",
   "metadata": {
    "deletable": false,
    "id": "7bcf75c9"
   },
   "outputs": [],
   "source": [
    "import pandas as pd\n",
    "\n",
    "data = pd.read_csv('/datasets/data.csv')"
   ]
  },
  {
   "cell_type": "markdown",
   "id": "cec1ac12",
   "metadata": {
    "id": "b8038fe3"
   },
   "source": [
    "Выведем первые 20 строчек датафрейма `data` на экран"
   ]
  },
  {
   "cell_type": "code",
   "execution_count": 2,
   "id": "da3b6f67",
   "metadata": {
    "deletable": false,
    "id": "2a7cab99",
    "outputId": "1a8f3ef2-d323-4ec2-ddf7-89670b5944c4"
   },
   "outputs": [
    {
     "data": {
      "text/html": [
       "<div>\n",
       "<style scoped>\n",
       "    .dataframe tbody tr th:only-of-type {\n",
       "        vertical-align: middle;\n",
       "    }\n",
       "\n",
       "    .dataframe tbody tr th {\n",
       "        vertical-align: top;\n",
       "    }\n",
       "\n",
       "    .dataframe thead th {\n",
       "        text-align: right;\n",
       "    }\n",
       "</style>\n",
       "<table border=\"1\" class=\"dataframe\">\n",
       "  <thead>\n",
       "    <tr style=\"text-align: right;\">\n",
       "      <th></th>\n",
       "      <th>children</th>\n",
       "      <th>days_employed</th>\n",
       "      <th>dob_years</th>\n",
       "      <th>education</th>\n",
       "      <th>education_id</th>\n",
       "      <th>family_status</th>\n",
       "      <th>family_status_id</th>\n",
       "      <th>gender</th>\n",
       "      <th>income_type</th>\n",
       "      <th>debt</th>\n",
       "      <th>total_income</th>\n",
       "      <th>purpose</th>\n",
       "    </tr>\n",
       "  </thead>\n",
       "  <tbody>\n",
       "    <tr>\n",
       "      <th>0</th>\n",
       "      <td>1</td>\n",
       "      <td>-8437.673028</td>\n",
       "      <td>42</td>\n",
       "      <td>высшее</td>\n",
       "      <td>0</td>\n",
       "      <td>женат / замужем</td>\n",
       "      <td>0</td>\n",
       "      <td>F</td>\n",
       "      <td>сотрудник</td>\n",
       "      <td>0</td>\n",
       "      <td>253875.639453</td>\n",
       "      <td>покупка жилья</td>\n",
       "    </tr>\n",
       "    <tr>\n",
       "      <th>1</th>\n",
       "      <td>1</td>\n",
       "      <td>-4024.803754</td>\n",
       "      <td>36</td>\n",
       "      <td>среднее</td>\n",
       "      <td>1</td>\n",
       "      <td>женат / замужем</td>\n",
       "      <td>0</td>\n",
       "      <td>F</td>\n",
       "      <td>сотрудник</td>\n",
       "      <td>0</td>\n",
       "      <td>112080.014102</td>\n",
       "      <td>приобретение автомобиля</td>\n",
       "    </tr>\n",
       "    <tr>\n",
       "      <th>2</th>\n",
       "      <td>0</td>\n",
       "      <td>-5623.422610</td>\n",
       "      <td>33</td>\n",
       "      <td>Среднее</td>\n",
       "      <td>1</td>\n",
       "      <td>женат / замужем</td>\n",
       "      <td>0</td>\n",
       "      <td>M</td>\n",
       "      <td>сотрудник</td>\n",
       "      <td>0</td>\n",
       "      <td>145885.952297</td>\n",
       "      <td>покупка жилья</td>\n",
       "    </tr>\n",
       "    <tr>\n",
       "      <th>3</th>\n",
       "      <td>3</td>\n",
       "      <td>-4124.747207</td>\n",
       "      <td>32</td>\n",
       "      <td>среднее</td>\n",
       "      <td>1</td>\n",
       "      <td>женат / замужем</td>\n",
       "      <td>0</td>\n",
       "      <td>M</td>\n",
       "      <td>сотрудник</td>\n",
       "      <td>0</td>\n",
       "      <td>267628.550329</td>\n",
       "      <td>дополнительное образование</td>\n",
       "    </tr>\n",
       "    <tr>\n",
       "      <th>4</th>\n",
       "      <td>0</td>\n",
       "      <td>340266.072047</td>\n",
       "      <td>53</td>\n",
       "      <td>среднее</td>\n",
       "      <td>1</td>\n",
       "      <td>гражданский брак</td>\n",
       "      <td>1</td>\n",
       "      <td>F</td>\n",
       "      <td>пенсионер</td>\n",
       "      <td>0</td>\n",
       "      <td>158616.077870</td>\n",
       "      <td>сыграть свадьбу</td>\n",
       "    </tr>\n",
       "    <tr>\n",
       "      <th>5</th>\n",
       "      <td>0</td>\n",
       "      <td>-926.185831</td>\n",
       "      <td>27</td>\n",
       "      <td>высшее</td>\n",
       "      <td>0</td>\n",
       "      <td>гражданский брак</td>\n",
       "      <td>1</td>\n",
       "      <td>M</td>\n",
       "      <td>компаньон</td>\n",
       "      <td>0</td>\n",
       "      <td>255763.565419</td>\n",
       "      <td>покупка жилья</td>\n",
       "    </tr>\n",
       "    <tr>\n",
       "      <th>6</th>\n",
       "      <td>0</td>\n",
       "      <td>-2879.202052</td>\n",
       "      <td>43</td>\n",
       "      <td>высшее</td>\n",
       "      <td>0</td>\n",
       "      <td>женат / замужем</td>\n",
       "      <td>0</td>\n",
       "      <td>F</td>\n",
       "      <td>компаньон</td>\n",
       "      <td>0</td>\n",
       "      <td>240525.971920</td>\n",
       "      <td>операции с жильем</td>\n",
       "    </tr>\n",
       "    <tr>\n",
       "      <th>7</th>\n",
       "      <td>0</td>\n",
       "      <td>-152.779569</td>\n",
       "      <td>50</td>\n",
       "      <td>СРЕДНЕЕ</td>\n",
       "      <td>1</td>\n",
       "      <td>женат / замужем</td>\n",
       "      <td>0</td>\n",
       "      <td>M</td>\n",
       "      <td>сотрудник</td>\n",
       "      <td>0</td>\n",
       "      <td>135823.934197</td>\n",
       "      <td>образование</td>\n",
       "    </tr>\n",
       "    <tr>\n",
       "      <th>8</th>\n",
       "      <td>2</td>\n",
       "      <td>-6929.865299</td>\n",
       "      <td>35</td>\n",
       "      <td>ВЫСШЕЕ</td>\n",
       "      <td>0</td>\n",
       "      <td>гражданский брак</td>\n",
       "      <td>1</td>\n",
       "      <td>F</td>\n",
       "      <td>сотрудник</td>\n",
       "      <td>0</td>\n",
       "      <td>95856.832424</td>\n",
       "      <td>на проведение свадьбы</td>\n",
       "    </tr>\n",
       "    <tr>\n",
       "      <th>9</th>\n",
       "      <td>0</td>\n",
       "      <td>-2188.756445</td>\n",
       "      <td>41</td>\n",
       "      <td>среднее</td>\n",
       "      <td>1</td>\n",
       "      <td>женат / замужем</td>\n",
       "      <td>0</td>\n",
       "      <td>M</td>\n",
       "      <td>сотрудник</td>\n",
       "      <td>0</td>\n",
       "      <td>144425.938277</td>\n",
       "      <td>покупка жилья для семьи</td>\n",
       "    </tr>\n",
       "    <tr>\n",
       "      <th>10</th>\n",
       "      <td>2</td>\n",
       "      <td>-4171.483647</td>\n",
       "      <td>36</td>\n",
       "      <td>высшее</td>\n",
       "      <td>0</td>\n",
       "      <td>женат / замужем</td>\n",
       "      <td>0</td>\n",
       "      <td>M</td>\n",
       "      <td>компаньон</td>\n",
       "      <td>0</td>\n",
       "      <td>113943.491460</td>\n",
       "      <td>покупка недвижимости</td>\n",
       "    </tr>\n",
       "    <tr>\n",
       "      <th>11</th>\n",
       "      <td>0</td>\n",
       "      <td>-792.701887</td>\n",
       "      <td>40</td>\n",
       "      <td>среднее</td>\n",
       "      <td>1</td>\n",
       "      <td>женат / замужем</td>\n",
       "      <td>0</td>\n",
       "      <td>F</td>\n",
       "      <td>сотрудник</td>\n",
       "      <td>0</td>\n",
       "      <td>77069.234271</td>\n",
       "      <td>покупка коммерческой недвижимости</td>\n",
       "    </tr>\n",
       "    <tr>\n",
       "      <th>12</th>\n",
       "      <td>0</td>\n",
       "      <td>NaN</td>\n",
       "      <td>65</td>\n",
       "      <td>среднее</td>\n",
       "      <td>1</td>\n",
       "      <td>гражданский брак</td>\n",
       "      <td>1</td>\n",
       "      <td>M</td>\n",
       "      <td>пенсионер</td>\n",
       "      <td>0</td>\n",
       "      <td>NaN</td>\n",
       "      <td>сыграть свадьбу</td>\n",
       "    </tr>\n",
       "    <tr>\n",
       "      <th>13</th>\n",
       "      <td>0</td>\n",
       "      <td>-1846.641941</td>\n",
       "      <td>54</td>\n",
       "      <td>неоконченное высшее</td>\n",
       "      <td>2</td>\n",
       "      <td>женат / замужем</td>\n",
       "      <td>0</td>\n",
       "      <td>F</td>\n",
       "      <td>сотрудник</td>\n",
       "      <td>0</td>\n",
       "      <td>130458.228857</td>\n",
       "      <td>приобретение автомобиля</td>\n",
       "    </tr>\n",
       "    <tr>\n",
       "      <th>14</th>\n",
       "      <td>0</td>\n",
       "      <td>-1844.956182</td>\n",
       "      <td>56</td>\n",
       "      <td>высшее</td>\n",
       "      <td>0</td>\n",
       "      <td>гражданский брак</td>\n",
       "      <td>1</td>\n",
       "      <td>F</td>\n",
       "      <td>компаньон</td>\n",
       "      <td>1</td>\n",
       "      <td>165127.911772</td>\n",
       "      <td>покупка жилой недвижимости</td>\n",
       "    </tr>\n",
       "    <tr>\n",
       "      <th>15</th>\n",
       "      <td>1</td>\n",
       "      <td>-972.364419</td>\n",
       "      <td>26</td>\n",
       "      <td>среднее</td>\n",
       "      <td>1</td>\n",
       "      <td>женат / замужем</td>\n",
       "      <td>0</td>\n",
       "      <td>F</td>\n",
       "      <td>сотрудник</td>\n",
       "      <td>0</td>\n",
       "      <td>116820.904450</td>\n",
       "      <td>строительство собственной недвижимости</td>\n",
       "    </tr>\n",
       "    <tr>\n",
       "      <th>16</th>\n",
       "      <td>0</td>\n",
       "      <td>-1719.934226</td>\n",
       "      <td>35</td>\n",
       "      <td>среднее</td>\n",
       "      <td>1</td>\n",
       "      <td>женат / замужем</td>\n",
       "      <td>0</td>\n",
       "      <td>F</td>\n",
       "      <td>сотрудник</td>\n",
       "      <td>0</td>\n",
       "      <td>289202.704229</td>\n",
       "      <td>недвижимость</td>\n",
       "    </tr>\n",
       "    <tr>\n",
       "      <th>17</th>\n",
       "      <td>0</td>\n",
       "      <td>-2369.999720</td>\n",
       "      <td>33</td>\n",
       "      <td>высшее</td>\n",
       "      <td>0</td>\n",
       "      <td>гражданский брак</td>\n",
       "      <td>1</td>\n",
       "      <td>M</td>\n",
       "      <td>сотрудник</td>\n",
       "      <td>0</td>\n",
       "      <td>90410.586745</td>\n",
       "      <td>строительство недвижимости</td>\n",
       "    </tr>\n",
       "    <tr>\n",
       "      <th>18</th>\n",
       "      <td>0</td>\n",
       "      <td>400281.136913</td>\n",
       "      <td>53</td>\n",
       "      <td>среднее</td>\n",
       "      <td>1</td>\n",
       "      <td>вдовец / вдова</td>\n",
       "      <td>2</td>\n",
       "      <td>F</td>\n",
       "      <td>пенсионер</td>\n",
       "      <td>0</td>\n",
       "      <td>56823.777243</td>\n",
       "      <td>на покупку подержанного автомобиля</td>\n",
       "    </tr>\n",
       "    <tr>\n",
       "      <th>19</th>\n",
       "      <td>0</td>\n",
       "      <td>-10038.818549</td>\n",
       "      <td>48</td>\n",
       "      <td>СРЕДНЕЕ</td>\n",
       "      <td>1</td>\n",
       "      <td>в разводе</td>\n",
       "      <td>3</td>\n",
       "      <td>F</td>\n",
       "      <td>сотрудник</td>\n",
       "      <td>0</td>\n",
       "      <td>242831.107982</td>\n",
       "      <td>на покупку своего автомобиля</td>\n",
       "    </tr>\n",
       "  </tbody>\n",
       "</table>\n",
       "</div>"
      ],
      "text/plain": [
       "    children  days_employed  dob_years            education  education_id  \\\n",
       "0          1   -8437.673028         42               высшее             0   \n",
       "1          1   -4024.803754         36              среднее             1   \n",
       "2          0   -5623.422610         33              Среднее             1   \n",
       "3          3   -4124.747207         32              среднее             1   \n",
       "4          0  340266.072047         53              среднее             1   \n",
       "5          0    -926.185831         27               высшее             0   \n",
       "6          0   -2879.202052         43               высшее             0   \n",
       "7          0    -152.779569         50              СРЕДНЕЕ             1   \n",
       "8          2   -6929.865299         35               ВЫСШЕЕ             0   \n",
       "9          0   -2188.756445         41              среднее             1   \n",
       "10         2   -4171.483647         36               высшее             0   \n",
       "11         0    -792.701887         40              среднее             1   \n",
       "12         0            NaN         65              среднее             1   \n",
       "13         0   -1846.641941         54  неоконченное высшее             2   \n",
       "14         0   -1844.956182         56               высшее             0   \n",
       "15         1    -972.364419         26              среднее             1   \n",
       "16         0   -1719.934226         35              среднее             1   \n",
       "17         0   -2369.999720         33               высшее             0   \n",
       "18         0  400281.136913         53              среднее             1   \n",
       "19         0  -10038.818549         48              СРЕДНЕЕ             1   \n",
       "\n",
       "       family_status  family_status_id gender income_type  debt  \\\n",
       "0    женат / замужем                 0      F   сотрудник     0   \n",
       "1    женат / замужем                 0      F   сотрудник     0   \n",
       "2    женат / замужем                 0      M   сотрудник     0   \n",
       "3    женат / замужем                 0      M   сотрудник     0   \n",
       "4   гражданский брак                 1      F   пенсионер     0   \n",
       "5   гражданский брак                 1      M   компаньон     0   \n",
       "6    женат / замужем                 0      F   компаньон     0   \n",
       "7    женат / замужем                 0      M   сотрудник     0   \n",
       "8   гражданский брак                 1      F   сотрудник     0   \n",
       "9    женат / замужем                 0      M   сотрудник     0   \n",
       "10   женат / замужем                 0      M   компаньон     0   \n",
       "11   женат / замужем                 0      F   сотрудник     0   \n",
       "12  гражданский брак                 1      M   пенсионер     0   \n",
       "13   женат / замужем                 0      F   сотрудник     0   \n",
       "14  гражданский брак                 1      F   компаньон     1   \n",
       "15   женат / замужем                 0      F   сотрудник     0   \n",
       "16   женат / замужем                 0      F   сотрудник     0   \n",
       "17  гражданский брак                 1      M   сотрудник     0   \n",
       "18    вдовец / вдова                 2      F   пенсионер     0   \n",
       "19         в разводе                 3      F   сотрудник     0   \n",
       "\n",
       "     total_income                                 purpose  \n",
       "0   253875.639453                           покупка жилья  \n",
       "1   112080.014102                 приобретение автомобиля  \n",
       "2   145885.952297                           покупка жилья  \n",
       "3   267628.550329              дополнительное образование  \n",
       "4   158616.077870                         сыграть свадьбу  \n",
       "5   255763.565419                           покупка жилья  \n",
       "6   240525.971920                       операции с жильем  \n",
       "7   135823.934197                             образование  \n",
       "8    95856.832424                   на проведение свадьбы  \n",
       "9   144425.938277                 покупка жилья для семьи  \n",
       "10  113943.491460                    покупка недвижимости  \n",
       "11   77069.234271       покупка коммерческой недвижимости  \n",
       "12            NaN                         сыграть свадьбу  \n",
       "13  130458.228857                 приобретение автомобиля  \n",
       "14  165127.911772              покупка жилой недвижимости  \n",
       "15  116820.904450  строительство собственной недвижимости  \n",
       "16  289202.704229                            недвижимость  \n",
       "17   90410.586745              строительство недвижимости  \n",
       "18   56823.777243      на покупку подержанного автомобиля  \n",
       "19  242831.107982            на покупку своего автомобиля  "
      ]
     },
     "execution_count": 2,
     "metadata": {},
     "output_type": "execute_result"
    }
   ],
   "source": [
    "data.head(20)"
   ]
  },
  {
   "cell_type": "markdown",
   "id": "25a610d9",
   "metadata": {
    "id": "1c12e233"
   },
   "source": [
    "Выведем основную информацию о датафрейме"
   ]
  },
  {
   "cell_type": "code",
   "execution_count": 3,
   "id": "714442f5",
   "metadata": {
    "deletable": false,
    "id": "2b757bca",
    "outputId": "15376089-8dad-46c9-b520-c05248d43158"
   },
   "outputs": [
    {
     "name": "stdout",
     "output_type": "stream",
     "text": [
      "<class 'pandas.core.frame.DataFrame'>\n",
      "RangeIndex: 21525 entries, 0 to 21524\n",
      "Data columns (total 12 columns):\n",
      " #   Column            Non-Null Count  Dtype  \n",
      "---  ------            --------------  -----  \n",
      " 0   children          21525 non-null  int64  \n",
      " 1   days_employed     19351 non-null  float64\n",
      " 2   dob_years         21525 non-null  int64  \n",
      " 3   education         21525 non-null  object \n",
      " 4   education_id      21525 non-null  int64  \n",
      " 5   family_status     21525 non-null  object \n",
      " 6   family_status_id  21525 non-null  int64  \n",
      " 7   gender            21525 non-null  object \n",
      " 8   income_type       21525 non-null  object \n",
      " 9   debt              21525 non-null  int64  \n",
      " 10  total_income      19351 non-null  float64\n",
      " 11  purpose           21525 non-null  object \n",
      "dtypes: float64(2), int64(5), object(5)\n",
      "memory usage: 2.0+ MB\n"
     ]
    }
   ],
   "source": [
    "data.info()"
   ]
  },
  {
   "cell_type": "markdown",
   "id": "526bf77f",
   "metadata": {
    "deletable": false,
    "editable": false,
    "id": "333ec665"
   },
   "source": [
    "## Предобработка данных"
   ]
  },
  {
   "cell_type": "markdown",
   "id": "974c2309",
   "metadata": {
    "deletable": false,
    "editable": false,
    "id": "02d92d53"
   },
   "source": [
    "### Удаление пропусков"
   ]
  },
  {
   "cell_type": "markdown",
   "id": "140f8ef1",
   "metadata": {
    "id": "cd84967c"
   },
   "source": [
    "Выведем количество пропущенных значений для каждого столбца"
   ]
  },
  {
   "cell_type": "code",
   "execution_count": 4,
   "id": "24f3bbe1",
   "metadata": {
    "deletable": false,
    "id": "7f9b2309",
    "outputId": "81f4d817-781c-465c-ed15-91ce4446810d"
   },
   "outputs": [
    {
     "data": {
      "text/plain": [
       "children               0\n",
       "days_employed       2174\n",
       "dob_years              0\n",
       "education              0\n",
       "education_id           0\n",
       "family_status          0\n",
       "family_status_id       0\n",
       "gender                 0\n",
       "income_type            0\n",
       "debt                   0\n",
       "total_income        2174\n",
       "purpose                0\n",
       "dtype: int64"
      ]
     },
     "execution_count": 4,
     "metadata": {},
     "output_type": "execute_result"
    }
   ],
   "source": [
    "data.isna().sum()"
   ]
  },
  {
   "cell_type": "markdown",
   "id": "9a0d6520",
   "metadata": {
    "deletable": false,
    "id": "db86e27b"
   },
   "source": [
    "В двух столбцах есть пропущенные значения. Один из них — `days_employed`. Пропуски в этом столбце мы обработаем на следующем этапе. Другой столбец с пропущенными значениями — `total_income` — хранит данные о доходах. На сумму дохода сильнее всего влияет тип занятости, поэтому заполним пропуски в этом столбце медианным значением по каждому типу из столбца `income_type`. "
   ]
  },
  {
   "cell_type": "code",
   "execution_count": 5,
   "id": "3149c12b",
   "metadata": {
    "deletable": false,
    "id": "42006a93"
   },
   "outputs": [],
   "source": [
    "for t in data['income_type'].unique():\n",
    "    data.loc[(data['income_type'] == t) & (data['total_income'].isna()), 'total_income'] = \\\n",
    "    data.loc[(data['income_type'] == t), 'total_income'].median()"
   ]
  },
  {
   "cell_type": "markdown",
   "id": "ed937a08",
   "metadata": {
    "id": "89da5ece"
   },
   "source": [
    "### Обработка аномальных значений"
   ]
  },
  {
   "cell_type": "markdown",
   "id": "6fa4937c",
   "metadata": {
    "deletable": false,
    "id": "57964554"
   },
   "source": [
    "В данных могут встречаться артефакты (аномалии) — значения, которые не отражают действительность и появились по какой-то ошибке. таким артефактом будет отрицательное количество дней трудового стажа в столбце `days_employed`. Обработаем значения в этом столбце: заменим все отрицательные значения положительными "
   ]
  },
  {
   "cell_type": "code",
   "execution_count": 6,
   "id": "631324ad",
   "metadata": {
    "deletable": false,
    "id": "f6f055bf"
   },
   "outputs": [],
   "source": [
    "data['days_employed'] = data['days_employed'].abs()"
   ]
  },
  {
   "cell_type": "markdown",
   "id": "580bbf0a",
   "metadata": {
    "id": "6107dd2f"
   },
   "source": [
    "Для каждого типа занятости выведем медианное значение трудового стажа `days_employed` в днях"
   ]
  },
  {
   "cell_type": "code",
   "execution_count": 7,
   "id": "bf23852a",
   "metadata": {
    "deletable": false,
    "id": "85a5faf6",
    "outputId": "801ef80e-522b-4668-f34e-565af7432bcf"
   },
   "outputs": [
    {
     "data": {
      "text/plain": [
       "income_type\n",
       "безработный        366413.652744\n",
       "в декрете            3296.759962\n",
       "госслужащий          2689.368353\n",
       "компаньон            1547.382223\n",
       "пенсионер          365213.306266\n",
       "предприниматель       520.848083\n",
       "сотрудник            1574.202821\n",
       "студент               578.751554\n",
       "Name: days_employed, dtype: float64"
      ]
     },
     "execution_count": 7,
     "metadata": {},
     "output_type": "execute_result"
    }
   ],
   "source": [
    "data.groupby('income_type')['days_employed'].agg('median')"
   ]
  },
  {
   "cell_type": "markdown",
   "id": "c2ff5ef6",
   "metadata": {
    "id": "38d1a030"
   },
   "source": [
    "У двух типов (безработные и пенсионеры) получатся аномально большие значения. Исправить такие значения сложно, поэтому оставим их как есть. Тем более этот столбец не понадобится нам для исследования."
   ]
  },
  {
   "cell_type": "markdown",
   "id": "e8d4e833",
   "metadata": {
    "id": "d8a9f147"
   },
   "source": [
    "Выведем перечень уникальных значений столбца `children`"
   ]
  },
  {
   "cell_type": "code",
   "execution_count": 8,
   "id": "d5499bca",
   "metadata": {
    "deletable": false,
    "id": "ef5056eb",
    "outputId": "6975b15c-7f95-4697-d16d-a0c79b657b03"
   },
   "outputs": [
    {
     "data": {
      "text/plain": [
       "array([ 1,  0,  3,  2, -1,  4, 20,  5], dtype=int64)"
      ]
     },
     "execution_count": 8,
     "metadata": {},
     "output_type": "execute_result"
    }
   ],
   "source": [
    "data['children'].unique()"
   ]
  },
  {
   "cell_type": "markdown",
   "id": "23788b2c",
   "metadata": {
    "id": "40b9ebf2"
   },
   "source": [
    "В столбце `children` есть два аномальных значения. Удалим строки, в которых встречаются такие аномальные значения из датафрейма `data`"
   ]
  },
  {
   "cell_type": "code",
   "execution_count": 9,
   "id": "fce43208",
   "metadata": {
    "deletable": false,
    "id": "3ff9801d"
   },
   "outputs": [],
   "source": [
    "data = data[(data['children'] != -1) & (data['children'] != 20)]"
   ]
  },
  {
   "cell_type": "markdown",
   "id": "3a5007af",
   "metadata": {
    "id": "bbc4d0ce"
   },
   "source": [
    "Ещё раз выведем перечень уникальных значений столбца `children`, чтобы убедиться, что артефакты удалены"
   ]
  },
  {
   "cell_type": "code",
   "execution_count": 10,
   "id": "892fa2c8",
   "metadata": {
    "deletable": false,
    "id": "ad4fa8b7",
    "outputId": "b2097101-d49d-44d9-901b-32a65c9463d1"
   },
   "outputs": [
    {
     "data": {
      "text/plain": [
       "array([1, 0, 3, 2, 4, 5], dtype=int64)"
      ]
     },
     "execution_count": 10,
     "metadata": {},
     "output_type": "execute_result"
    }
   ],
   "source": [
    "data['children'].unique()"
   ]
  },
  {
   "cell_type": "markdown",
   "id": "ea719a95",
   "metadata": {
    "deletable": false,
    "editable": false,
    "id": "75440b63"
   },
   "source": [
    "### Удаление пропусков (продолжение)"
   ]
  },
  {
   "cell_type": "markdown",
   "id": "0e4b77a6",
   "metadata": {
    "id": "f4ea573f"
   },
   "source": [
    "Заполним пропуски в столбце `days_employed` медианными значениями по каждого типа занятости `income_type`"
   ]
  },
  {
   "cell_type": "code",
   "execution_count": 11,
   "id": "e776a295",
   "metadata": {
    "deletable": false,
    "id": "af6b1a7e"
   },
   "outputs": [],
   "source": [
    "for t in data['income_type'].unique():\n",
    "    data.loc[(data['income_type'] == t) & (data['days_employed'].isna()), 'days_employed'] = \\\n",
    "    data.loc[(data['income_type'] == t), 'days_employed'].median()"
   ]
  },
  {
   "cell_type": "markdown",
   "id": "ce39a415",
   "metadata": {
    "id": "2753f40d"
   },
   "source": [
    "Убедимся, что все пропуски заполнены"
   ]
  },
  {
   "cell_type": "code",
   "execution_count": 12,
   "id": "cc3e6e09",
   "metadata": {
    "deletable": false,
    "id": "55f78bc2",
    "outputId": "8da1e4e1-358e-4e87-98c9-f261bce0a7b2"
   },
   "outputs": [
    {
     "data": {
      "text/plain": [
       "children            0\n",
       "days_employed       0\n",
       "dob_years           0\n",
       "education           0\n",
       "education_id        0\n",
       "family_status       0\n",
       "family_status_id    0\n",
       "gender              0\n",
       "income_type         0\n",
       "debt                0\n",
       "total_income        0\n",
       "purpose             0\n",
       "dtype: int64"
      ]
     },
     "execution_count": 12,
     "metadata": {},
     "output_type": "execute_result"
    }
   ],
   "source": [
    "data.isna().sum()"
   ]
  },
  {
   "cell_type": "markdown",
   "id": "baf43cd6",
   "metadata": {
    "deletable": false,
    "editable": false,
    "id": "ddc81e43"
   },
   "source": [
    "### Изменение типов данных"
   ]
  },
  {
   "cell_type": "markdown",
   "id": "e2115a11",
   "metadata": {
    "deletable": false,
    "id": "42d19d24"
   },
   "source": [
    "Заменим вещественный тип данных в столбце `total_income` на целочисленный"
   ]
  },
  {
   "cell_type": "code",
   "execution_count": 13,
   "id": "085669c6",
   "metadata": {
    "deletable": false,
    "id": "920b65ad"
   },
   "outputs": [],
   "source": [
    "data['total_income'] = data['total_income'].astype(int)"
   ]
  },
  {
   "cell_type": "markdown",
   "id": "27b1691d",
   "metadata": {
    "deletable": false,
    "editable": false,
    "id": "80c420ba"
   },
   "source": [
    "### Обработка дубликатов"
   ]
  },
  {
   "cell_type": "markdown",
   "id": "76a2a27b",
   "metadata": {
    "deletable": false
   },
   "source": [
    "Обработаем неявные дубликаты в столбце `education`. В этом столбце есть одни и те же значения, но записанные по-разному: с использованием заглавных и строчных букв. Приведем их к нижнему регистру"
   ]
  },
  {
   "cell_type": "code",
   "execution_count": 14,
   "id": "2a61e24b",
   "metadata": {
    "deletable": false
   },
   "outputs": [],
   "source": [
    "data['education'] = data['education'].str.lower()"
   ]
  },
  {
   "cell_type": "markdown",
   "id": "6eca822e",
   "metadata": {
    "deletable": false,
    "id": "dc587695"
   },
   "source": [
    "Выведем на экран количество строк-дубликатов в данных. Если такие строки присутствуют, удалим их"
   ]
  },
  {
   "cell_type": "code",
   "execution_count": 15,
   "id": "0c5ec901",
   "metadata": {
    "deletable": false,
    "id": "3ee445e4",
    "outputId": "9684deba-1934-42d1-99e1-cda61740f822"
   },
   "outputs": [
    {
     "data": {
      "text/plain": [
       "71"
      ]
     },
     "execution_count": 15,
     "metadata": {},
     "output_type": "execute_result"
    }
   ],
   "source": [
    "data.duplicated().sum()"
   ]
  },
  {
   "cell_type": "code",
   "execution_count": 16,
   "id": "aa298299",
   "metadata": {
    "deletable": false,
    "id": "8575fe05"
   },
   "outputs": [],
   "source": [
    "data = data.drop_duplicates()"
   ]
  },
  {
   "cell_type": "markdown",
   "id": "c77aba15",
   "metadata": {
    "deletable": false,
    "editable": false,
    "id": "9904cf55"
   },
   "source": [
    "### Категоризация данных"
   ]
  },
  {
   "cell_type": "markdown",
   "id": "2b4991b5",
   "metadata": {
    "deletable": false,
    "id": "72fcc8a2"
   },
   "source": [
    "На основании диапазонов, указанных ниже, создадим в датафрейме `data` столбец `total_income_category` с категориями:\n",
    "\n",
    "- 0–30000 — `'E'`;\n",
    "- 30001–50000 — `'D'`;\n",
    "- 50001–200000 — `'C'`;\n",
    "- 200001–1000000 — `'B'`;\n",
    "- 1000001 и выше — `'A'`.\n"
   ]
  },
  {
   "cell_type": "code",
   "execution_count": 17,
   "id": "4bc4096b",
   "metadata": {
    "deletable": false,
    "id": "e1771346"
   },
   "outputs": [],
   "source": [
    "def categorize_income(income):\n",
    "    try:\n",
    "        if 0 <= income <= 30000:\n",
    "            return 'E'\n",
    "        elif 30001 <= income <= 50000:\n",
    "            return 'D'\n",
    "        elif 50001 <= income <= 200000:\n",
    "            return 'C'\n",
    "        elif 200001 <= income <= 1000000:\n",
    "            return 'B'\n",
    "        elif income >= 1000001:\n",
    "            return 'A'\n",
    "    except:\n",
    "        pass"
   ]
  },
  {
   "cell_type": "code",
   "execution_count": 18,
   "id": "052771cb",
   "metadata": {
    "deletable": false,
    "id": "d5f3586d"
   },
   "outputs": [],
   "source": [
    "data['total_income_category'] = data['total_income'].apply(categorize_income)"
   ]
  },
  {
   "cell_type": "markdown",
   "id": "ff30b834",
   "metadata": {
    "deletable": false,
    "id": "dde49b5c"
   },
   "source": [
    "Выведите на экран перечень уникальных целей взятия кредита из столбца `purpose`"
   ]
  },
  {
   "cell_type": "code",
   "execution_count": 19,
   "id": "80fcd117",
   "metadata": {
    "deletable": false,
    "id": "f67ce9b3",
    "outputId": "673c12d9-7d7e-4ae0-9812-c622c89dd244"
   },
   "outputs": [
    {
     "data": {
      "text/plain": [
       "array(['покупка жилья', 'приобретение автомобиля',\n",
       "       'дополнительное образование', 'сыграть свадьбу',\n",
       "       'операции с жильем', 'образование', 'на проведение свадьбы',\n",
       "       'покупка жилья для семьи', 'покупка недвижимости',\n",
       "       'покупка коммерческой недвижимости', 'покупка жилой недвижимости',\n",
       "       'строительство собственной недвижимости', 'недвижимость',\n",
       "       'строительство недвижимости', 'на покупку подержанного автомобиля',\n",
       "       'на покупку своего автомобиля',\n",
       "       'операции с коммерческой недвижимостью',\n",
       "       'строительство жилой недвижимости', 'жилье',\n",
       "       'операции со своей недвижимостью', 'автомобили',\n",
       "       'заняться образованием', 'сделка с подержанным автомобилем',\n",
       "       'получение образования', 'автомобиль', 'свадьба',\n",
       "       'получение дополнительного образования', 'покупка своего жилья',\n",
       "       'операции с недвижимостью', 'получение высшего образования',\n",
       "       'свой автомобиль', 'сделка с автомобилем',\n",
       "       'профильное образование', 'высшее образование',\n",
       "       'покупка жилья для сдачи', 'на покупку автомобиля', 'ремонт жилью',\n",
       "       'заняться высшим образованием'], dtype=object)"
      ]
     },
     "execution_count": 19,
     "metadata": {},
     "output_type": "execute_result"
    }
   ],
   "source": [
    "data['purpose'].unique()"
   ]
  },
  {
   "cell_type": "markdown",
   "id": "d2088146",
   "metadata": {
    "deletable": false,
    "id": "85d0aef0"
   },
   "source": [
    "Создадим функцию, которая на основании данных из столбца `purpose` сформирует новый столбец `purpose_category`, в который войдут следующие категории:\n",
    "\n",
    "- `'операции с автомобилем'`,\n",
    "- `'операции с недвижимостью'`,\n",
    "- `'проведение свадьбы'`,\n",
    "- `'получение образования'`."
   ]
  },
  {
   "cell_type": "code",
   "execution_count": 20,
   "id": "bbd20925",
   "metadata": {
    "deletable": false,
    "id": "e149fab4"
   },
   "outputs": [],
   "source": [
    "def categorize_purpose(row):\n",
    "    try:\n",
    "        if 'автом' in row:\n",
    "            return 'операции с автомобилем'\n",
    "        elif 'жил' in row or 'недвиж' in row:\n",
    "            return 'операции с недвижимостью'\n",
    "        elif 'свад' in row:\n",
    "            return 'проведение свадьбы'\n",
    "        elif 'образов' in row:\n",
    "            return 'получение образования'\n",
    "    except:\n",
    "        return 'нет категории'"
   ]
  },
  {
   "cell_type": "code",
   "execution_count": 21,
   "id": "4a8169c2",
   "metadata": {
    "deletable": false,
    "id": "bf36e69b"
   },
   "outputs": [],
   "source": [
    "data['purpose_category'] = data['purpose'].apply(categorize_purpose)"
   ]
  },
  {
   "cell_type": "markdown",
   "id": "272de7e1",
   "metadata": {
    "deletable": false,
    "id": "09b242bf"
   },
   "source": [
    "## Исследование данных и ответы на вопросы заказчика"
   ]
  },
  {
   "cell_type": "markdown",
   "id": "2a4d2599",
   "metadata": {
    "deletable": false,
    "id": "c5d66278"
   },
   "source": [
    "### Есть ли зависимость между количеством детей и возвратом кредита в срок?"
   ]
  },
  {
   "cell_type": "code",
   "execution_count": 22,
   "id": "f10e56a2",
   "metadata": {
    "deletable": false,
    "id": "2cacfc4a",
    "scrolled": true
   },
   "outputs": [
    {
     "name": "stdout",
     "output_type": "stream",
     "text": [
      "Процент людей в выборке, имеющих долг: 8.12%\n"
     ]
    },
    {
     "data": {
      "text/html": [
       "<div>\n",
       "<style scoped>\n",
       "    .dataframe tbody tr th:only-of-type {\n",
       "        vertical-align: middle;\n",
       "    }\n",
       "\n",
       "    .dataframe tbody tr th {\n",
       "        vertical-align: top;\n",
       "    }\n",
       "\n",
       "    .dataframe thead th {\n",
       "        text-align: right;\n",
       "    }\n",
       "</style>\n",
       "<table border=\"1\" class=\"dataframe\">\n",
       "  <thead>\n",
       "    <tr style=\"text-align: right;\">\n",
       "      <th></th>\n",
       "      <th>Количество детей</th>\n",
       "      <th>Всего кредитополучателей</th>\n",
       "      <th>Всего должников</th>\n",
       "      <th>Процент должников</th>\n",
       "    </tr>\n",
       "  </thead>\n",
       "  <tbody>\n",
       "    <tr>\n",
       "      <th>0</th>\n",
       "      <td>0</td>\n",
       "      <td>14091</td>\n",
       "      <td>1063</td>\n",
       "      <td>7.54%</td>\n",
       "    </tr>\n",
       "    <tr>\n",
       "      <th>1</th>\n",
       "      <td>1</td>\n",
       "      <td>4808</td>\n",
       "      <td>444</td>\n",
       "      <td>9.23%</td>\n",
       "    </tr>\n",
       "    <tr>\n",
       "      <th>2</th>\n",
       "      <td>2</td>\n",
       "      <td>2052</td>\n",
       "      <td>194</td>\n",
       "      <td>9.45%</td>\n",
       "    </tr>\n",
       "    <tr>\n",
       "      <th>3</th>\n",
       "      <td>3</td>\n",
       "      <td>330</td>\n",
       "      <td>27</td>\n",
       "      <td>8.18%</td>\n",
       "    </tr>\n",
       "    <tr>\n",
       "      <th>4</th>\n",
       "      <td>4</td>\n",
       "      <td>41</td>\n",
       "      <td>4</td>\n",
       "      <td>9.76%</td>\n",
       "    </tr>\n",
       "    <tr>\n",
       "      <th>5</th>\n",
       "      <td>5</td>\n",
       "      <td>9</td>\n",
       "      <td>0</td>\n",
       "      <td>0.00%</td>\n",
       "    </tr>\n",
       "  </tbody>\n",
       "</table>\n",
       "</div>"
      ],
      "text/plain": [
       "   Количество детей  Всего кредитополучателей  Всего должников  \\\n",
       "0                 0                     14091             1063   \n",
       "1                 1                      4808              444   \n",
       "2                 2                      2052              194   \n",
       "3                 3                       330               27   \n",
       "4                 4                        41                4   \n",
       "5                 5                         9                0   \n",
       "\n",
       "  Процент должников  \n",
       "0             7.54%  \n",
       "1             9.23%  \n",
       "2             9.45%  \n",
       "3             8.18%  \n",
       "4             9.76%  \n",
       "5             0.00%  "
      ]
     },
     "execution_count": 22,
     "metadata": {},
     "output_type": "execute_result"
    }
   ],
   "source": [
    "mean_percent = data['debt'].mean()\n",
    "print(f'Процент людей в выборке, имеющих долг: {mean_percent:.2%}')\n",
    "data_table = data.groupby('children').agg({'debt':['count','sum','mean']})\n",
    "data_table = data_table.reset_index(drop=False) # выводим из индексов столбец, чтобы его название можно было поменять\n",
    "data_table.columns = ['Количество детей','Всего кредитополучателей', 'Всего должников', 'Процент должников']#заменяем название столбцов для красоты\n",
    "data_table['Процент должников'] = data_table['Процент должников'].apply('{:,.2%}'.format) #переводим в проценты и округляем\n",
    "data_table"
   ]
  },
  {
   "cell_type": "markdown",
   "id": "dfc5092f",
   "metadata": {
    "deletable": false,
    "id": "3a6b99ec"
   },
   "source": [
    "**Вывод:**\n",
    "\n",
    "В среднем процент людей по выборке, имеющих долги около 8%. \n",
    "Можно заметить, что в зависимости от количества детей этот показатель меняется не сильно, но он ниже среднего только среди людей, у которых нет детей. \n",
    "Подвыборка людей с 5 детьми в датасете оказалась такой маленькой, что ее нельзя считать репрезентативной и нельзя сделать выводы из отсутсвия в ней должников. Это может быть случайным совпадением."
   ]
  },
  {
   "cell_type": "markdown",
   "id": "ea435a0b",
   "metadata": {
    "deletable": false,
    "id": "97be82ca"
   },
   "source": [
    "### Есть ли зависимость между семейным положением и возвратом кредита в срок?"
   ]
  },
  {
   "cell_type": "code",
   "execution_count": 23,
   "id": "2d94b1f9",
   "metadata": {
    "deletable": false,
    "id": "dc3f7ee8"
   },
   "outputs": [
    {
     "data": {
      "text/html": [
       "<div>\n",
       "<style scoped>\n",
       "    .dataframe tbody tr th:only-of-type {\n",
       "        vertical-align: middle;\n",
       "    }\n",
       "\n",
       "    .dataframe tbody tr th {\n",
       "        vertical-align: top;\n",
       "    }\n",
       "\n",
       "    .dataframe thead th {\n",
       "        text-align: right;\n",
       "    }\n",
       "</style>\n",
       "<table border=\"1\" class=\"dataframe\">\n",
       "  <thead>\n",
       "    <tr style=\"text-align: right;\">\n",
       "      <th></th>\n",
       "      <th>Семейное положение</th>\n",
       "      <th>Всего кредитополучателей</th>\n",
       "      <th>Всего должников</th>\n",
       "      <th>Процент должников</th>\n",
       "    </tr>\n",
       "  </thead>\n",
       "  <tbody>\n",
       "    <tr>\n",
       "      <th>2</th>\n",
       "      <td>вдовец / вдова</td>\n",
       "      <td>951</td>\n",
       "      <td>63</td>\n",
       "      <td>6.62%</td>\n",
       "    </tr>\n",
       "    <tr>\n",
       "      <th>1</th>\n",
       "      <td>в разводе</td>\n",
       "      <td>1189</td>\n",
       "      <td>84</td>\n",
       "      <td>7.06%</td>\n",
       "    </tr>\n",
       "    <tr>\n",
       "      <th>4</th>\n",
       "      <td>женат / замужем</td>\n",
       "      <td>12261</td>\n",
       "      <td>927</td>\n",
       "      <td>7.56%</td>\n",
       "    </tr>\n",
       "    <tr>\n",
       "      <th>3</th>\n",
       "      <td>гражданский брак</td>\n",
       "      <td>4134</td>\n",
       "      <td>385</td>\n",
       "      <td>9.31%</td>\n",
       "    </tr>\n",
       "    <tr>\n",
       "      <th>0</th>\n",
       "      <td>Не женат / не замужем</td>\n",
       "      <td>2796</td>\n",
       "      <td>273</td>\n",
       "      <td>9.76%</td>\n",
       "    </tr>\n",
       "  </tbody>\n",
       "</table>\n",
       "</div>"
      ],
      "text/plain": [
       "      Семейное положение  Всего кредитополучателей  Всего должников  \\\n",
       "2         вдовец / вдова                       951               63   \n",
       "1              в разводе                      1189               84   \n",
       "4        женат / замужем                     12261              927   \n",
       "3       гражданский брак                      4134              385   \n",
       "0  Не женат / не замужем                      2796              273   \n",
       "\n",
       "  Процент должников  \n",
       "2             6.62%  \n",
       "1             7.06%  \n",
       "4             7.56%  \n",
       "3             9.31%  \n",
       "0             9.76%  "
      ]
     },
     "execution_count": 23,
     "metadata": {},
     "output_type": "execute_result"
    }
   ],
   "source": [
    "data_table = data.groupby('family_status').agg({'debt':['count','sum','mean']})\n",
    "data_table = data_table.reset_index(drop=False)\n",
    "data_table.columns = ['Семейное положение','Всего кредитополучателей', 'Всего должников', 'Процент должников']#заменяем название столбцов для красоты\n",
    "data_table['Процент должников'] = data_table['Процент должников'].apply('{:,.2%}'.format) #переводим в проценты и округляем\n",
    "data_table.sort_values(by='Процент должников', ascending=True) #сортируем"
   ]
  },
  {
   "cell_type": "markdown",
   "id": "a2e84830",
   "metadata": {
    "deletable": false,
    "id": "1cef7837"
   },
   "source": [
    "**Вывод:**\n",
    "\n",
    "Чаще среднего долги имеют люди не вступавшие в официальный брак (не женатые/не замужние люди и в гражданском браке), а все остальные категории реже среднего показателя."
   ]
  },
  {
   "cell_type": "markdown",
   "id": "38458307",
   "metadata": {
    "deletable": false,
    "id": "1e8b2fca"
   },
   "source": [
    "### Есть ли зависимость между уровнем дохода и возвратом кредита в срок?"
   ]
  },
  {
   "cell_type": "code",
   "execution_count": 24,
   "id": "d0b7edb0",
   "metadata": {
    "deletable": false,
    "id": "cd7e3720",
    "scrolled": true
   },
   "outputs": [
    {
     "data": {
      "text/html": [
       "<div>\n",
       "<style scoped>\n",
       "    .dataframe tbody tr th:only-of-type {\n",
       "        vertical-align: middle;\n",
       "    }\n",
       "\n",
       "    .dataframe tbody tr th {\n",
       "        vertical-align: top;\n",
       "    }\n",
       "\n",
       "    .dataframe thead th {\n",
       "        text-align: right;\n",
       "    }\n",
       "</style>\n",
       "<table border=\"1\" class=\"dataframe\">\n",
       "  <thead>\n",
       "    <tr style=\"text-align: right;\">\n",
       "      <th></th>\n",
       "      <th>Уровень дохода</th>\n",
       "      <th>Всего кредитополучателей</th>\n",
       "      <th>Всего должников</th>\n",
       "      <th>Процент должников</th>\n",
       "      <th>Расшифровка уровня доходов</th>\n",
       "    </tr>\n",
       "  </thead>\n",
       "  <tbody>\n",
       "    <tr>\n",
       "      <th>0</th>\n",
       "      <td>A</td>\n",
       "      <td>25</td>\n",
       "      <td>2</td>\n",
       "      <td>8.00%</td>\n",
       "      <td>1000001 и выше</td>\n",
       "    </tr>\n",
       "    <tr>\n",
       "      <th>1</th>\n",
       "      <td>B</td>\n",
       "      <td>5014</td>\n",
       "      <td>354</td>\n",
       "      <td>7.06%</td>\n",
       "      <td>200001–1000000</td>\n",
       "    </tr>\n",
       "    <tr>\n",
       "      <th>2</th>\n",
       "      <td>C</td>\n",
       "      <td>15921</td>\n",
       "      <td>1353</td>\n",
       "      <td>8.50%</td>\n",
       "      <td>50001–200000</td>\n",
       "    </tr>\n",
       "    <tr>\n",
       "      <th>3</th>\n",
       "      <td>D</td>\n",
       "      <td>349</td>\n",
       "      <td>21</td>\n",
       "      <td>6.02%</td>\n",
       "      <td>0–30000</td>\n",
       "    </tr>\n",
       "    <tr>\n",
       "      <th>4</th>\n",
       "      <td>E</td>\n",
       "      <td>22</td>\n",
       "      <td>2</td>\n",
       "      <td>9.09%</td>\n",
       "      <td>30001–50000</td>\n",
       "    </tr>\n",
       "  </tbody>\n",
       "</table>\n",
       "</div>"
      ],
      "text/plain": [
       "  Уровень дохода  Всего кредитополучателей  Всего должников Процент должников  \\\n",
       "0              A                        25                2             8.00%   \n",
       "1              B                      5014              354             7.06%   \n",
       "2              C                     15921             1353             8.50%   \n",
       "3              D                       349               21             6.02%   \n",
       "4              E                        22                2             9.09%   \n",
       "\n",
       "  Расшифровка уровня доходов  \n",
       "0             1000001 и выше  \n",
       "1             200001–1000000  \n",
       "2               50001–200000  \n",
       "3                    0–30000  \n",
       "4                30001–50000  "
      ]
     },
     "execution_count": 24,
     "metadata": {},
     "output_type": "execute_result"
    }
   ],
   "source": [
    "data_table = data.groupby('total_income_category').agg({'debt':['count','sum','mean']})\n",
    "data_table = data_table.reset_index(drop=False)\n",
    "data_table.columns = ['Уровень дохода','Всего кредитополучателей', 'Всего должников', 'Процент должников']#заменяем название столбцов для красоты\n",
    "data_table['Расшифровка уровня доходов'] = ['1000001 и выше','200001–1000000','50001–200000','0–30000','30001–50000']\n",
    "data_table['Процент должников'] = data_table['Процент должников'].apply('{:,.2%}'.format) #переводим в проценты и округляем\n",
    "data_table"
   ]
  },
  {
   "cell_type": "markdown",
   "id": "ce67d1b3",
   "metadata": {
    "deletable": false,
    "id": "e8593def"
   },
   "source": [
    "**Вывод:**\n",
    "\n",
    "На первый взгляд кажется, что люди попавшие в категорию с минимальным доходом, чаще всего не возвращают долги вовремя, но это может быть следствием того, что в эту подвыборку попало всего 22 кредитополучателя. Такая маленькая выборка с большей вероятностью не будет репрезентативной. Так же слишком маленькой будет подвыбока людей с максимальным доходом. Если взглянуть на распределение в остальных данных, четкой закономерности между размерами доходов и возвратом кредита в срок не прослеживается. Если же сравнить две самые большие выборки (категории В и С), то можно проследить что, уменьшение доходов приводит к увеличению процента должников."
   ]
  },
  {
   "cell_type": "markdown",
   "id": "29ea5c1c",
   "metadata": {
    "deletable": false,
    "id": "99ecbd1f"
   },
   "source": [
    "### Как разные цели кредита влияют на его возврат в срок?"
   ]
  },
  {
   "cell_type": "code",
   "execution_count": 25,
   "id": "27efd156",
   "metadata": {
    "deletable": false,
    "id": "2b687290"
   },
   "outputs": [
    {
     "data": {
      "text/html": [
       "<div>\n",
       "<style scoped>\n",
       "    .dataframe tbody tr th:only-of-type {\n",
       "        vertical-align: middle;\n",
       "    }\n",
       "\n",
       "    .dataframe tbody tr th {\n",
       "        vertical-align: top;\n",
       "    }\n",
       "\n",
       "    .dataframe thead th {\n",
       "        text-align: right;\n",
       "    }\n",
       "</style>\n",
       "<table border=\"1\" class=\"dataframe\">\n",
       "  <thead>\n",
       "    <tr style=\"text-align: right;\">\n",
       "      <th></th>\n",
       "      <th>Категория цели</th>\n",
       "      <th>Всего кредитополучателей</th>\n",
       "      <th>Всего должников</th>\n",
       "      <th>Процент должников</th>\n",
       "    </tr>\n",
       "  </thead>\n",
       "  <tbody>\n",
       "    <tr>\n",
       "      <th>1</th>\n",
       "      <td>операции с недвижимостью</td>\n",
       "      <td>10751</td>\n",
       "      <td>780</td>\n",
       "      <td>7.26%</td>\n",
       "    </tr>\n",
       "    <tr>\n",
       "      <th>3</th>\n",
       "      <td>проведение свадьбы</td>\n",
       "      <td>2313</td>\n",
       "      <td>183</td>\n",
       "      <td>7.91%</td>\n",
       "    </tr>\n",
       "    <tr>\n",
       "      <th>2</th>\n",
       "      <td>получение образования</td>\n",
       "      <td>3988</td>\n",
       "      <td>369</td>\n",
       "      <td>9.25%</td>\n",
       "    </tr>\n",
       "    <tr>\n",
       "      <th>0</th>\n",
       "      <td>операции с автомобилем</td>\n",
       "      <td>4279</td>\n",
       "      <td>400</td>\n",
       "      <td>9.35%</td>\n",
       "    </tr>\n",
       "  </tbody>\n",
       "</table>\n",
       "</div>"
      ],
      "text/plain": [
       "             Категория цели  Всего кредитополучателей  Всего должников  \\\n",
       "1  операции с недвижимостью                     10751              780   \n",
       "3        проведение свадьбы                      2313              183   \n",
       "2     получение образования                      3988              369   \n",
       "0    операции с автомобилем                      4279              400   \n",
       "\n",
       "  Процент должников  \n",
       "1             7.26%  \n",
       "3             7.91%  \n",
       "2             9.25%  \n",
       "0             9.35%  "
      ]
     },
     "execution_count": 25,
     "metadata": {},
     "output_type": "execute_result"
    }
   ],
   "source": [
    "data_table = data.groupby('purpose_category').agg({'debt':['count','sum','mean']})\n",
    "data_table = data_table.reset_index(drop=False)\n",
    "data_table.columns = ['Категория цели','Всего кредитополучателей', 'Всего должников', 'Процент должников']#заменяем название столбцов для красоты\n",
    "data_table['Процент должников'] = data_table['Процент должников'].apply('{:,.2%}'.format) #переводим в проценты и округляем\n",
    "data_table.sort_values(by='Процент должников', ascending=True) #сортируем"
   ]
  },
  {
   "cell_type": "markdown",
   "id": "9d400585",
   "metadata": {
    "deletable": false,
    "id": "b4bb2ce6"
   },
   "source": [
    "**Вывод:** \n",
    "\n",
    "Чаще среднего вовремя не отдают долг люди, запрашивающие кредит на покупку автомобиля и получения образования, реже среднего на покупку квартиры и проведения свадьбы."
   ]
  },
  {
   "cell_type": "markdown",
   "id": "2f260459",
   "metadata": {
    "deletable": false,
    "id": "09c3ac4c"
   },
   "source": [
    "### Приведем возможные причины появления пропусков в исходных данных."
   ]
  },
  {
   "cell_type": "code",
   "execution_count": 26,
   "id": "90ca8a27",
   "metadata": {},
   "outputs": [],
   "source": [
    "# загрузим данные еще раз, чтобы посмотреть где были пропуски\n",
    "try:\n",
    "    raw_data = pd.read_csv('/datasets/data.csv')\n",
    "except:\n",
    "    raw_data = pd.read_csv('https://code.s3.yandex.net/datasets/data.csv')"
   ]
  },
  {
   "cell_type": "code",
   "execution_count": 27,
   "id": "4d60123e",
   "metadata": {},
   "outputs": [
    {
     "data": {
      "text/plain": [
       "income_type\n",
       "госслужащий         147\n",
       "компаньон           508\n",
       "пенсионер           413\n",
       "предприниматель       1\n",
       "сотрудник          1105\n",
       "Name: income_type, dtype: int64"
      ]
     },
     "execution_count": 27,
     "metadata": {},
     "output_type": "execute_result"
    }
   ],
   "source": [
    "raw_data[raw_data['total_income'].isna()].groupby('income_type')['income_type'].count()"
   ]
  },
  {
   "cell_type": "markdown",
   "id": "716738c7",
   "metadata": {
    "deletable": false,
    "id": "9da2ceda"
   },
   "source": [
    "**Ответ:**\n",
    "\n",
    "Проверив предположение, что пропуски зависят от типа занятости, было обнаружено, что это не так.\n",
    "В данных не найдена взаимосвязь между пропусками и другими исходными данными, кроме того, что пропуски возникали у заемщиков одновременно в обоих графах и в доходах и в стаже. Возможно, эти графы не были записаны, как обязательные, вследствие чего люди их пропускали. Либо возникла техническая ошибка и часть данных была утеряна."
   ]
  },
  {
   "cell_type": "markdown",
   "id": "f86b1b1a",
   "metadata": {
    "deletable": false,
    "id": "7b0487d6"
   },
   "source": [
    "### Почему заполнить пропуски медианным значением — лучшее решение для количественных переменных?"
   ]
  },
  {
   "cell_type": "markdown",
   "id": "b0957b86",
   "metadata": {
    "deletable": false,
    "id": "7ecf2b8e"
   },
   "source": [
    "**Ответ:**\n",
    "\n",
    "За неимением изначальных данных мы можем вписать в пропуски либо среднее, либо медианное значение. Медианное значение будет более точным, так как не будет искажено экстремально низкими или высокими значениями (выбросами данных). Это значение будет еще точнее за счет того, что мы вписываем среднее не по всей выборке, а по конкретной категории дохода."
   ]
  },
  {
   "cell_type": "markdown",
   "id": "5a9f0f9b",
   "metadata": {},
   "source": [
    "### Есть ли зависимость между образованием и возвратом кредита в срок?"
   ]
  },
  {
   "cell_type": "code",
   "execution_count": 28,
   "id": "21815cc6",
   "metadata": {},
   "outputs": [
    {
     "data": {
      "text/html": [
       "<div>\n",
       "<style scoped>\n",
       "    .dataframe tbody tr th:only-of-type {\n",
       "        vertical-align: middle;\n",
       "    }\n",
       "\n",
       "    .dataframe tbody tr th {\n",
       "        vertical-align: top;\n",
       "    }\n",
       "\n",
       "    .dataframe thead th {\n",
       "        text-align: right;\n",
       "    }\n",
       "</style>\n",
       "<table border=\"1\" class=\"dataframe\">\n",
       "  <thead>\n",
       "    <tr style=\"text-align: right;\">\n",
       "      <th></th>\n",
       "      <th>Образование</th>\n",
       "      <th>Всего кредитополучателей</th>\n",
       "      <th>Всего должников</th>\n",
       "      <th>Доля должников</th>\n",
       "    </tr>\n",
       "  </thead>\n",
       "  <tbody>\n",
       "    <tr>\n",
       "      <th>4</th>\n",
       "      <td>ученая степень</td>\n",
       "      <td>6</td>\n",
       "      <td>0</td>\n",
       "      <td>0.0000</td>\n",
       "    </tr>\n",
       "    <tr>\n",
       "      <th>0</th>\n",
       "      <td>высшее</td>\n",
       "      <td>5227</td>\n",
       "      <td>278</td>\n",
       "      <td>0.0532</td>\n",
       "    </tr>\n",
       "    <tr>\n",
       "      <th>3</th>\n",
       "      <td>среднее</td>\n",
       "      <td>15075</td>\n",
       "      <td>1355</td>\n",
       "      <td>0.0899</td>\n",
       "    </tr>\n",
       "    <tr>\n",
       "      <th>2</th>\n",
       "      <td>неоконченное высшее</td>\n",
       "      <td>741</td>\n",
       "      <td>68</td>\n",
       "      <td>0.0918</td>\n",
       "    </tr>\n",
       "    <tr>\n",
       "      <th>1</th>\n",
       "      <td>начальное</td>\n",
       "      <td>282</td>\n",
       "      <td>31</td>\n",
       "      <td>0.1099</td>\n",
       "    </tr>\n",
       "  </tbody>\n",
       "</table>\n",
       "</div>"
      ],
      "text/plain": [
       "           Образование  Всего кредитополучателей  Всего должников  \\\n",
       "4       ученая степень                         6                0   \n",
       "0               высшее                      5227              278   \n",
       "3              среднее                     15075             1355   \n",
       "2  неоконченное высшее                       741               68   \n",
       "1            начальное                       282               31   \n",
       "\n",
       "  Доля должников  \n",
       "4         0.0000  \n",
       "0         0.0532  \n",
       "3         0.0899  \n",
       "2         0.0918  \n",
       "1         0.1099  "
      ]
     },
     "execution_count": 28,
     "metadata": {},
     "output_type": "execute_result"
    }
   ],
   "source": [
    "data_table = data.groupby('education').agg({'debt':['count','sum','mean']})\n",
    "data_table = data_table.reset_index(drop=False)\n",
    "data_table.columns = ['Образование','Всего кредитополучателей', 'Всего должников', 'Доля должников']#заменяем название столбцов для красоты\n",
    "data_table['Доля должников'] = (data_table['Доля должников']).apply('{:,.4f}'.format) #переводим в проценты и округляем\n",
    "data_table.sort_values(by='Доля должников', ascending=True) #сортируем"
   ]
  },
  {
   "cell_type": "markdown",
   "id": "8d2964db",
   "metadata": {},
   "source": [
    "**Вывод:**\n",
    "\n",
    "Дополним наше исследование поиском зависимости между другими параметрами и возвратом кредита в срок. Наличие высшего образования в нашей выборке значительно увеличивает вероятность возврата долга в срок."
   ]
  },
  {
   "cell_type": "markdown",
   "id": "031415ab",
   "metadata": {},
   "source": [
    "### Есть ли зависимость между типом занятости и возвратом кредита в срок?"
   ]
  },
  {
   "cell_type": "code",
   "execution_count": 29,
   "id": "3ccdef4a",
   "metadata": {},
   "outputs": [
    {
     "data": {
      "text/html": [
       "<div>\n",
       "<style scoped>\n",
       "    .dataframe tbody tr th:only-of-type {\n",
       "        vertical-align: middle;\n",
       "    }\n",
       "\n",
       "    .dataframe tbody tr th {\n",
       "        vertical-align: top;\n",
       "    }\n",
       "\n",
       "    .dataframe thead th {\n",
       "        text-align: right;\n",
       "    }\n",
       "</style>\n",
       "<table border=\"1\" class=\"dataframe\">\n",
       "  <thead>\n",
       "    <tr style=\"text-align: right;\">\n",
       "      <th></th>\n",
       "      <th>Тип занятости</th>\n",
       "      <th>Всего кредитополучателей</th>\n",
       "      <th>Всего должников</th>\n",
       "      <th>Доля должников</th>\n",
       "    </tr>\n",
       "  </thead>\n",
       "  <tbody>\n",
       "    <tr>\n",
       "      <th>5</th>\n",
       "      <td>предприниматель</td>\n",
       "      <td>2</td>\n",
       "      <td>0</td>\n",
       "      <td>0.0000</td>\n",
       "    </tr>\n",
       "    <tr>\n",
       "      <th>7</th>\n",
       "      <td>студент</td>\n",
       "      <td>1</td>\n",
       "      <td>0</td>\n",
       "      <td>0.0000</td>\n",
       "    </tr>\n",
       "    <tr>\n",
       "      <th>4</th>\n",
       "      <td>пенсионер</td>\n",
       "      <td>3812</td>\n",
       "      <td>216</td>\n",
       "      <td>0.0567</td>\n",
       "    </tr>\n",
       "    <tr>\n",
       "      <th>2</th>\n",
       "      <td>госслужащий</td>\n",
       "      <td>1451</td>\n",
       "      <td>86</td>\n",
       "      <td>0.0593</td>\n",
       "    </tr>\n",
       "    <tr>\n",
       "      <th>3</th>\n",
       "      <td>компаньон</td>\n",
       "      <td>5047</td>\n",
       "      <td>374</td>\n",
       "      <td>0.0741</td>\n",
       "    </tr>\n",
       "    <tr>\n",
       "      <th>6</th>\n",
       "      <td>сотрудник</td>\n",
       "      <td>11015</td>\n",
       "      <td>1054</td>\n",
       "      <td>0.0957</td>\n",
       "    </tr>\n",
       "    <tr>\n",
       "      <th>0</th>\n",
       "      <td>безработный</td>\n",
       "      <td>2</td>\n",
       "      <td>1</td>\n",
       "      <td>0.5000</td>\n",
       "    </tr>\n",
       "    <tr>\n",
       "      <th>1</th>\n",
       "      <td>в декрете</td>\n",
       "      <td>1</td>\n",
       "      <td>1</td>\n",
       "      <td>1.0000</td>\n",
       "    </tr>\n",
       "  </tbody>\n",
       "</table>\n",
       "</div>"
      ],
      "text/plain": [
       "     Тип занятости  Всего кредитополучателей  Всего должников Доля должников\n",
       "5  предприниматель                         2                0         0.0000\n",
       "7          студент                         1                0         0.0000\n",
       "4        пенсионер                      3812              216         0.0567\n",
       "2      госслужащий                      1451               86         0.0593\n",
       "3        компаньон                      5047              374         0.0741\n",
       "6        сотрудник                     11015             1054         0.0957\n",
       "0      безработный                         2                1         0.5000\n",
       "1        в декрете                         1                1         1.0000"
      ]
     },
     "execution_count": 29,
     "metadata": {},
     "output_type": "execute_result"
    }
   ],
   "source": [
    "data_table = data.groupby('income_type').agg({'debt':['count','sum','mean']})\n",
    "data_table = data_table.reset_index(drop=False)\n",
    "data_table.columns = ['Тип занятости','Всего кредитополучателей', 'Всего должников', 'Доля должников']#заменяем название столбцов для красоты\n",
    "data_table['Доля должников'] = (data_table['Доля должников']).apply('{:,.4f}'.format) #переводим в проценты и округляем\n",
    "data_table.sort_values(by='Доля должников', ascending=True) #сортируем"
   ]
  },
  {
   "cell_type": "markdown",
   "id": "9e35748e",
   "metadata": {},
   "source": [
    "**Вывод:**\n",
    "\n",
    "Категории в декрете, безработные, предприниматели и студенты оказались слишком маленьким, чтобы сделать из них выводы. Если рассматривать все остальные категории, то сотрудники погашали кредит вовремя реже среднего по выборке, а компаньоны, госслужащие и пенсионеры чаще.\n"
   ]
  },
  {
   "cell_type": "markdown",
   "id": "55aa6876",
   "metadata": {},
   "source": [
    "### Есть ли зависимость между полом и возвратом кредита в срок?"
   ]
  },
  {
   "cell_type": "code",
   "execution_count": 30,
   "id": "57483577",
   "metadata": {
    "scrolled": true
   },
   "outputs": [
    {
     "data": {
      "text/html": [
       "<div>\n",
       "<style scoped>\n",
       "    .dataframe tbody tr th:only-of-type {\n",
       "        vertical-align: middle;\n",
       "    }\n",
       "\n",
       "    .dataframe tbody tr th {\n",
       "        vertical-align: top;\n",
       "    }\n",
       "\n",
       "    .dataframe thead th {\n",
       "        text-align: right;\n",
       "    }\n",
       "</style>\n",
       "<table border=\"1\" class=\"dataframe\">\n",
       "  <thead>\n",
       "    <tr style=\"text-align: right;\">\n",
       "      <th></th>\n",
       "      <th>Пол</th>\n",
       "      <th>Всего кредитополучателей</th>\n",
       "      <th>Всего должников</th>\n",
       "      <th>Доля должников</th>\n",
       "    </tr>\n",
       "  </thead>\n",
       "  <tbody>\n",
       "    <tr>\n",
       "      <th>2</th>\n",
       "      <td>XNA</td>\n",
       "      <td>1</td>\n",
       "      <td>0</td>\n",
       "      <td>0.0000</td>\n",
       "    </tr>\n",
       "    <tr>\n",
       "      <th>0</th>\n",
       "      <td>F</td>\n",
       "      <td>14092</td>\n",
       "      <td>989</td>\n",
       "      <td>0.0702</td>\n",
       "    </tr>\n",
       "    <tr>\n",
       "      <th>1</th>\n",
       "      <td>M</td>\n",
       "      <td>7238</td>\n",
       "      <td>743</td>\n",
       "      <td>0.1027</td>\n",
       "    </tr>\n",
       "  </tbody>\n",
       "</table>\n",
       "</div>"
      ],
      "text/plain": [
       "   Пол  Всего кредитополучателей  Всего должников Доля должников\n",
       "2  XNA                         1                0         0.0000\n",
       "0    F                     14092              989         0.0702\n",
       "1    M                      7238              743         0.1027"
      ]
     },
     "execution_count": 30,
     "metadata": {},
     "output_type": "execute_result"
    }
   ],
   "source": [
    "data_table = data.groupby('gender').agg({'debt':['count','sum','mean']})\n",
    "data_table = data_table.reset_index(drop=False)\n",
    "data_table.columns = ['Пол','Всего кредитополучателей', 'Всего должников', 'Доля должников']#заменяем название столбцов для красоты\n",
    "data_table['Доля должников'] = (data_table['Доля должников']).apply('{:,.4f}'.format) #округляем\n",
    "data_table.sort_values(by='Доля должников', ascending=True) #сортируем"
   ]
  },
  {
   "cell_type": "markdown",
   "id": "00b5fa93",
   "metadata": {},
   "source": [
    "**Вывод:**\n",
    "\n",
    "Женщины в нашей выборке чаще мужчин не имеют долга. Так же присутсвует одно неидентифицируемое значение в этой графе, но оно не влияет на наши выводы."
   ]
  },
  {
   "cell_type": "markdown",
   "id": "420aec43",
   "metadata": {},
   "source": [
    "### Есть ли зависимость между возрастом и возвратом кредита в срок?"
   ]
  },
  {
   "cell_type": "code",
   "execution_count": 31,
   "id": "66e66262",
   "metadata": {
    "scrolled": false
   },
   "outputs": [
    {
     "data": {
      "image/png": "[encoded data removed]",
      "text/plain": [
       "<Figure size 1500x1000 with 1 Axes>"
      ]
     },
     "metadata": {},
     "output_type": "display_data"
    }
   ],
   "source": [
    "import seaborn\n",
    "import matplotlib.pyplot as plt\n",
    "\n",
    "fig, ax = plt.subplots(figsize = ( 15 , 10 )) #меняем размеры графика\n",
    "mean_debt = data.groupby('dob_years')['debt'].mean()*100 #подготавливаем нужные данные\n",
    "\n",
    "seaborn.barplot(x= mean_debt.index, y= mean_debt.values) #выводим график\n",
    "ax.set_xlabel( \"Возраст\" , size = 12 ) #меняем заголовки \n",
    "ax.set_ylabel( \"Процент должников\" , size = 12 )\n",
    "ax.set_title( \"Зависимость процента должников от возраста\" , size = 24 )\n",
    "plt.show()"
   ]
  },
  {
   "cell_type": "markdown",
   "id": "fc7b1efe",
   "metadata": {},
   "source": [
    "**Вывод:**\n",
    "\n",
    "На графике видно, что люди чаще среднего имеют долг в более молодом возрасте. Так же в наших данных 100 человек указало нулевой возраст, это ошибка, но на наши выводы это не повлияло.\n"
   ]
  },
  {
   "cell_type": "markdown",
   "id": "befa5069",
   "metadata": {
    "deletable": false,
    "id": "6db5255a"
   },
   "source": [
    "## Общий вывод."
   ]
  },
  {
   "cell_type": "markdown",
   "id": "02779e38",
   "metadata": {
    "deletable": false,
    "id": "bad65432"
   },
   "source": [
    "Для построении модели кредитного скоринга заказчик запросил исследование влияния ли семейного положения и количества детей клиента на факт погашения кредита в срок. Мы изучали входные данные от банка — статистику о платёжеспособности клиентов. В ходе предобработки данных были выявлены ошибки в данных: пропуски, аномальные значения, дубликаты. Пропуски были заполены медианными значениями по категории, отрицательные значения взяты по модулю, строчки с аномальным количеством детей удалены, дубликаты с разными регистрами в графе education выявлены и удалены. Исследование показало, что количество детей у клиента не влияет, но влияет их наличие или отсутствие. Рекомендуется отдать предпочтение клиентам не имеющим детей. По параметру семейного положения более надежными оказались люди вступавшие в официальный брак, а именно: замужние/женатые, в разводе, вдовы/вдовцы. Эти люди чаще среднего погашали кредит в срок. Две самые большие категории по размеру дохода показали, что люди с бОльшим уровнем дохода чаще не имеют долга.\n",
    "\n",
    "Так же при построении модели, имеет смысл учесть цель кредита, наличие высшего образования, тип занятости, пол и возраст клиента."
   ]
  }
 ],
 "metadata": {
  "ExecuteTimeLog": [
   {
    "duration": 47,
    "start_time": "2023-01-01T16:32:17.245Z"
   },
   {
    "duration": 6,
    "start_time": "2023-01-01T16:32:33.576Z"
   },
   {
    "duration": 435,
    "start_time": "2023-01-01T16:33:19.223Z"
   },
   {
    "duration": 21,
    "start_time": "2023-01-01T16:33:19.660Z"
   },
   {
    "duration": 15,
    "start_time": "2023-01-01T16:33:19.682Z"
   },
   {
    "duration": 11,
    "start_time": "2023-01-01T16:33:19.699Z"
   },
   {
    "duration": 31,
    "start_time": "2023-01-01T16:33:19.711Z"
   },
   {
    "duration": 4,
    "start_time": "2023-01-01T16:33:19.743Z"
   },
   {
    "duration": 10,
    "start_time": "2023-01-01T16:33:19.748Z"
   },
   {
    "duration": 4,
    "start_time": "2023-01-01T16:33:19.759Z"
   },
   {
    "duration": 32,
    "start_time": "2023-01-01T16:33:19.764Z"
   },
   {
    "duration": 4,
    "start_time": "2023-01-01T16:33:19.799Z"
   },
   {
    "duration": 32,
    "start_time": "2023-01-01T16:33:19.805Z"
   },
   {
    "duration": 8,
    "start_time": "2023-01-01T16:33:19.839Z"
   },
   {
    "duration": 4,
    "start_time": "2023-01-01T16:33:19.849Z"
   },
   {
    "duration": 18,
    "start_time": "2023-01-01T16:33:19.854Z"
   },
   {
    "duration": 37,
    "start_time": "2023-01-01T16:33:19.873Z"
   },
   {
    "duration": 18,
    "start_time": "2023-01-01T16:33:19.912Z"
   },
   {
    "duration": 4,
    "start_time": "2023-01-01T16:33:19.932Z"
   },
   {
    "duration": 14,
    "start_time": "2023-01-01T16:33:19.937Z"
   },
   {
    "duration": 6,
    "start_time": "2023-01-01T16:33:19.952Z"
   },
   {
    "duration": 3,
    "start_time": "2023-01-01T16:33:19.959Z"
   },
   {
    "duration": 38,
    "start_time": "2023-01-01T16:33:19.964Z"
   },
   {
    "duration": 16,
    "start_time": "2023-01-01T16:33:20.004Z"
   },
   {
    "duration": 9,
    "start_time": "2023-01-01T16:33:20.022Z"
   },
   {
    "duration": 11,
    "start_time": "2023-01-01T16:33:20.033Z"
   },
   {
    "duration": 6,
    "start_time": "2023-01-01T16:33:20.045Z"
   },
   {
    "duration": 15,
    "start_time": "2023-01-01T16:33:58.041Z"
   },
   {
    "duration": 4,
    "start_time": "2023-01-01T16:34:46.274Z"
   },
   {
    "duration": 4,
    "start_time": "2023-01-01T16:34:56.931Z"
   },
   {
    "duration": 5,
    "start_time": "2023-01-01T16:35:55.909Z"
   },
   {
    "duration": 13,
    "start_time": "2023-01-01T16:36:30.381Z"
   },
   {
    "duration": 12,
    "start_time": "2023-01-01T16:37:18.885Z"
   },
   {
    "duration": 4,
    "start_time": "2023-01-01T16:37:54.910Z"
   },
   {
    "duration": 5,
    "start_time": "2023-01-01T16:38:17.308Z"
   },
   {
    "duration": 5,
    "start_time": "2023-01-01T16:38:40.778Z"
   },
   {
    "duration": 7,
    "start_time": "2023-01-01T16:38:49.973Z"
   },
   {
    "duration": 8,
    "start_time": "2023-01-01T16:42:10.025Z"
   },
   {
    "duration": 6,
    "start_time": "2023-01-01T16:42:30.191Z"
   },
   {
    "duration": 6,
    "start_time": "2023-01-01T16:44:08.717Z"
   },
   {
    "duration": 6,
    "start_time": "2023-01-01T16:44:58.482Z"
   },
   {
    "duration": 7,
    "start_time": "2023-01-01T16:45:48.835Z"
   },
   {
    "duration": 7,
    "start_time": "2023-01-01T16:46:17.061Z"
   },
   {
    "duration": 9,
    "start_time": "2023-01-01T16:46:31.526Z"
   },
   {
    "duration": 7,
    "start_time": "2023-01-01T16:47:15.732Z"
   },
   {
    "duration": 428,
    "start_time": "2023-01-01T16:49:38.000Z"
   },
   {
    "duration": 357,
    "start_time": "2023-01-01T16:50:08.938Z"
   },
   {
    "duration": 8,
    "start_time": "2023-01-01T16:50:26.400Z"
   },
   {
    "duration": 8,
    "start_time": "2023-01-01T16:50:37.685Z"
   },
   {
    "duration": 8,
    "start_time": "2023-01-01T16:50:44.583Z"
   },
   {
    "duration": 10,
    "start_time": "2023-01-01T16:50:58.622Z"
   },
   {
    "duration": 8,
    "start_time": "2023-01-01T16:51:11.487Z"
   },
   {
    "duration": 8,
    "start_time": "2023-01-01T16:51:19.636Z"
   },
   {
    "duration": 8,
    "start_time": "2023-01-01T16:51:53.743Z"
   },
   {
    "duration": 8,
    "start_time": "2023-01-01T16:55:49.666Z"
   },
   {
    "duration": 7,
    "start_time": "2023-01-01T16:56:47.385Z"
   },
   {
    "duration": 8,
    "start_time": "2023-01-01T16:58:24.039Z"
   },
   {
    "duration": 10,
    "start_time": "2023-01-01T17:02:28.398Z"
   },
   {
    "duration": 8,
    "start_time": "2023-01-01T17:14:53.781Z"
   },
   {
    "duration": 10,
    "start_time": "2023-01-01T17:16:23.321Z"
   },
   {
    "duration": 9,
    "start_time": "2023-01-01T17:19:40.475Z"
   },
   {
    "duration": 7,
    "start_time": "2023-01-01T17:23:48.947Z"
   },
   {
    "duration": 9,
    "start_time": "2023-01-01T17:23:59.234Z"
   },
   {
    "duration": 11,
    "start_time": "2023-01-01T17:30:33.044Z"
   },
   {
    "duration": 10,
    "start_time": "2023-01-01T17:34:51.413Z"
   },
   {
    "duration": 9,
    "start_time": "2023-01-01T17:36:09.179Z"
   },
   {
    "duration": 7,
    "start_time": "2023-01-01T17:36:28.120Z"
   },
   {
    "duration": 8,
    "start_time": "2023-01-01T17:36:35.830Z"
   },
   {
    "duration": 8,
    "start_time": "2023-01-01T17:36:48.421Z"
   },
   {
    "duration": 21,
    "start_time": "2023-01-01T17:37:06.368Z"
   },
   {
    "duration": 462,
    "start_time": "2023-01-01T17:37:28.200Z"
   },
   {
    "duration": 22,
    "start_time": "2023-01-01T17:37:28.664Z"
   },
   {
    "duration": 23,
    "start_time": "2023-01-01T17:37:28.687Z"
   },
   {
    "duration": 21,
    "start_time": "2023-01-01T17:37:28.713Z"
   },
   {
    "duration": 31,
    "start_time": "2023-01-01T17:37:28.736Z"
   },
   {
    "duration": 3,
    "start_time": "2023-01-01T17:37:28.769Z"
   },
   {
    "duration": 34,
    "start_time": "2023-01-01T17:37:28.774Z"
   },
   {
    "duration": 6,
    "start_time": "2023-01-01T17:37:28.809Z"
   },
   {
    "duration": 9,
    "start_time": "2023-01-01T17:37:28.817Z"
   },
   {
    "duration": 4,
    "start_time": "2023-01-01T17:37:28.828Z"
   },
   {
    "duration": 30,
    "start_time": "2023-01-01T17:37:28.833Z"
   },
   {
    "duration": 8,
    "start_time": "2023-01-01T17:37:28.865Z"
   },
   {
    "duration": 15,
    "start_time": "2023-01-01T17:37:28.874Z"
   },
   {
    "duration": 31,
    "start_time": "2023-01-01T17:37:28.890Z"
   },
   {
    "duration": 25,
    "start_time": "2023-01-01T17:37:28.923Z"
   },
   {
    "duration": 16,
    "start_time": "2023-01-01T17:37:28.950Z"
   },
   {
    "duration": 3,
    "start_time": "2023-01-01T17:37:28.968Z"
   },
   {
    "duration": 18,
    "start_time": "2023-01-01T17:37:28.973Z"
   },
   {
    "duration": 21,
    "start_time": "2023-01-01T17:37:28.992Z"
   },
   {
    "duration": 8,
    "start_time": "2023-01-01T17:37:29.015Z"
   },
   {
    "duration": 22,
    "start_time": "2023-01-01T17:37:29.024Z"
   },
   {
    "duration": 11,
    "start_time": "2023-01-01T17:37:29.047Z"
   },
   {
    "duration": 16,
    "start_time": "2023-01-01T17:37:29.059Z"
   },
   {
    "duration": 14,
    "start_time": "2023-01-01T17:37:29.077Z"
   },
   {
    "duration": 27,
    "start_time": "2023-01-01T17:37:29.092Z"
   },
   {
    "duration": 12,
    "start_time": "2023-01-01T17:39:12.968Z"
   },
   {
    "duration": 434,
    "start_time": "2023-01-01T17:39:21.130Z"
   },
   {
    "duration": 23,
    "start_time": "2023-01-01T17:39:21.566Z"
   },
   {
    "duration": 22,
    "start_time": "2023-01-01T17:39:21.590Z"
   },
   {
    "duration": 12,
    "start_time": "2023-01-01T17:39:21.614Z"
   },
   {
    "duration": 29,
    "start_time": "2023-01-01T17:39:21.627Z"
   },
   {
    "duration": 3,
    "start_time": "2023-01-01T17:39:21.658Z"
   },
   {
    "duration": 14,
    "start_time": "2023-01-01T17:39:21.662Z"
   },
   {
    "duration": 30,
    "start_time": "2023-01-01T17:39:21.677Z"
   },
   {
    "duration": 13,
    "start_time": "2023-01-01T17:39:21.709Z"
   },
   {
    "duration": 5,
    "start_time": "2023-01-01T17:39:21.725Z"
   },
   {
    "duration": 35,
    "start_time": "2023-01-01T17:39:21.732Z"
   },
   {
    "duration": 10,
    "start_time": "2023-01-01T17:39:21.769Z"
   },
   {
    "duration": 9,
    "start_time": "2023-01-01T17:39:21.801Z"
   },
   {
    "duration": 13,
    "start_time": "2023-01-01T17:39:21.812Z"
   },
   {
    "duration": 19,
    "start_time": "2023-01-01T17:39:21.827Z"
   },
   {
    "duration": 18,
    "start_time": "2023-01-01T17:39:21.848Z"
   },
   {
    "duration": 4,
    "start_time": "2023-01-01T17:39:21.868Z"
   },
   {
    "duration": 39,
    "start_time": "2023-01-01T17:39:21.874Z"
   },
   {
    "duration": 9,
    "start_time": "2023-01-01T17:39:21.915Z"
   },
   {
    "duration": 3,
    "start_time": "2023-01-01T17:39:21.927Z"
   },
   {
    "duration": 15,
    "start_time": "2023-01-01T17:39:21.932Z"
   },
   {
    "duration": 7,
    "start_time": "2023-01-01T17:39:21.948Z"
   },
   {
    "duration": 9,
    "start_time": "2023-01-01T17:39:21.957Z"
   },
   {
    "duration": 41,
    "start_time": "2023-01-01T17:39:21.967Z"
   },
   {
    "duration": 10,
    "start_time": "2023-01-01T17:39:22.010Z"
   },
   {
    "duration": 450,
    "start_time": "2023-01-01T17:40:05.925Z"
   },
   {
    "duration": 32,
    "start_time": "2023-01-01T17:40:06.376Z"
   },
   {
    "duration": 15,
    "start_time": "2023-01-01T17:40:06.410Z"
   },
   {
    "duration": 12,
    "start_time": "2023-01-01T17:40:06.427Z"
   },
   {
    "duration": 31,
    "start_time": "2023-01-01T17:40:06.441Z"
   },
   {
    "duration": 4,
    "start_time": "2023-01-01T17:40:06.473Z"
   },
   {
    "duration": 37,
    "start_time": "2023-01-01T17:40:06.479Z"
   },
   {
    "duration": 4,
    "start_time": "2023-01-01T17:40:06.518Z"
   },
   {
    "duration": 8,
    "start_time": "2023-01-01T17:40:06.523Z"
   },
   {
    "duration": 4,
    "start_time": "2023-01-01T17:40:06.535Z"
   },
   {
    "duration": 31,
    "start_time": "2023-01-01T17:40:06.541Z"
   },
   {
    "duration": 28,
    "start_time": "2023-01-01T17:40:06.574Z"
   },
   {
    "duration": 6,
    "start_time": "2023-01-01T17:40:06.606Z"
   },
   {
    "duration": 14,
    "start_time": "2023-01-01T17:40:06.613Z"
   },
   {
    "duration": 33,
    "start_time": "2023-01-01T17:40:06.628Z"
   },
   {
    "duration": 15,
    "start_time": "2023-01-01T17:40:06.663Z"
   },
   {
    "duration": 3,
    "start_time": "2023-01-01T17:40:06.680Z"
   },
   {
    "duration": 32,
    "start_time": "2023-01-01T17:40:06.684Z"
   },
   {
    "duration": 9,
    "start_time": "2023-01-01T17:40:06.718Z"
   },
   {
    "duration": 6,
    "start_time": "2023-01-01T17:40:06.729Z"
   },
   {
    "duration": 11,
    "start_time": "2023-01-01T17:40:06.736Z"
   },
   {
    "duration": 8,
    "start_time": "2023-01-01T17:40:06.748Z"
   },
   {
    "duration": 10,
    "start_time": "2023-01-01T17:40:06.757Z"
   },
   {
    "duration": 18,
    "start_time": "2023-01-01T17:40:06.769Z"
   },
   {
    "duration": 20,
    "start_time": "2023-01-01T17:40:06.789Z"
   },
   {
    "duration": 453,
    "start_time": "2023-01-01T17:41:34.111Z"
   },
   {
    "duration": 20,
    "start_time": "2023-01-01T17:41:34.566Z"
   },
   {
    "duration": 23,
    "start_time": "2023-01-01T17:41:34.587Z"
   },
   {
    "duration": 12,
    "start_time": "2023-01-01T17:41:34.612Z"
   },
   {
    "duration": 29,
    "start_time": "2023-01-01T17:41:34.626Z"
   },
   {
    "duration": 4,
    "start_time": "2023-01-01T17:41:34.656Z"
   },
   {
    "duration": 10,
    "start_time": "2023-01-01T17:41:34.661Z"
   },
   {
    "duration": 11,
    "start_time": "2023-01-01T17:41:34.673Z"
   },
   {
    "duration": 21,
    "start_time": "2023-01-01T17:41:34.696Z"
   },
   {
    "duration": 5,
    "start_time": "2023-01-01T17:41:34.719Z"
   },
   {
    "duration": 33,
    "start_time": "2023-01-01T17:41:34.726Z"
   },
   {
    "duration": 9,
    "start_time": "2023-01-01T17:41:34.760Z"
   },
   {
    "duration": 4,
    "start_time": "2023-01-01T17:41:34.770Z"
   },
   {
    "duration": 30,
    "start_time": "2023-01-01T17:41:34.775Z"
   },
   {
    "duration": 28,
    "start_time": "2023-01-01T17:41:34.806Z"
   },
   {
    "duration": 16,
    "start_time": "2023-01-01T17:41:34.835Z"
   },
   {
    "duration": 9,
    "start_time": "2023-01-01T17:41:34.853Z"
   },
   {
    "duration": 20,
    "start_time": "2023-01-01T17:41:34.864Z"
   },
   {
    "duration": 5,
    "start_time": "2023-01-01T17:41:34.886Z"
   },
   {
    "duration": 6,
    "start_time": "2023-01-01T17:41:34.895Z"
   },
   {
    "duration": 17,
    "start_time": "2023-01-01T17:41:34.903Z"
   },
   {
    "duration": 11,
    "start_time": "2023-01-01T17:41:34.922Z"
   },
   {
    "duration": 11,
    "start_time": "2023-01-01T17:41:34.934Z"
   },
   {
    "duration": 8,
    "start_time": "2023-01-01T17:41:34.946Z"
   },
   {
    "duration": 12,
    "start_time": "2023-01-01T17:41:34.955Z"
   },
   {
    "duration": 461,
    "start_time": "2023-01-01T17:42:12.117Z"
   },
   {
    "duration": 22,
    "start_time": "2023-01-01T17:42:12.580Z"
   },
   {
    "duration": 21,
    "start_time": "2023-01-01T17:42:12.603Z"
   },
   {
    "duration": 9,
    "start_time": "2023-01-01T17:42:12.625Z"
   },
   {
    "duration": 31,
    "start_time": "2023-01-01T17:42:12.635Z"
   },
   {
    "duration": 3,
    "start_time": "2023-01-01T17:42:12.667Z"
   },
   {
    "duration": 36,
    "start_time": "2023-01-01T17:42:12.671Z"
   },
   {
    "duration": 4,
    "start_time": "2023-01-01T17:42:12.709Z"
   },
   {
    "duration": 13,
    "start_time": "2023-01-01T17:42:12.714Z"
   },
   {
    "duration": 4,
    "start_time": "2023-01-01T17:42:12.730Z"
   },
   {
    "duration": 31,
    "start_time": "2023-01-01T17:42:12.735Z"
   },
   {
    "duration": 8,
    "start_time": "2023-01-01T17:42:12.767Z"
   },
   {
    "duration": 5,
    "start_time": "2023-01-01T17:42:12.777Z"
   },
   {
    "duration": 11,
    "start_time": "2023-01-01T17:42:12.805Z"
   },
   {
    "duration": 20,
    "start_time": "2023-01-01T17:42:12.817Z"
   },
   {
    "duration": 17,
    "start_time": "2023-01-01T17:42:12.839Z"
   },
   {
    "duration": 3,
    "start_time": "2023-01-01T17:42:12.858Z"
   },
   {
    "duration": 12,
    "start_time": "2023-01-01T17:42:12.862Z"
   },
   {
    "duration": 5,
    "start_time": "2023-01-01T17:42:12.875Z"
   },
   {
    "duration": 16,
    "start_time": "2023-01-01T17:42:12.896Z"
   },
   {
    "duration": 12,
    "start_time": "2023-01-01T17:42:12.913Z"
   },
   {
    "duration": 9,
    "start_time": "2023-01-01T17:42:12.926Z"
   },
   {
    "duration": 10,
    "start_time": "2023-01-01T17:42:12.937Z"
   },
   {
    "duration": 7,
    "start_time": "2023-01-01T17:42:12.949Z"
   },
   {
    "duration": 9,
    "start_time": "2023-01-01T17:42:12.958Z"
   },
   {
    "duration": 69,
    "start_time": "2023-01-01T17:47:27.185Z"
   },
   {
    "duration": 21,
    "start_time": "2023-01-01T17:48:08.260Z"
   },
   {
    "duration": 16,
    "start_time": "2023-01-01T17:49:23.905Z"
   },
   {
    "duration": 26,
    "start_time": "2023-01-01T17:49:30.381Z"
   },
   {
    "duration": 24,
    "start_time": "2023-01-01T17:49:52.726Z"
   },
   {
    "duration": 66,
    "start_time": "2023-01-01T17:49:57.108Z"
   },
   {
    "duration": 23,
    "start_time": "2023-01-01T17:49:59.230Z"
   },
   {
    "duration": 26,
    "start_time": "2023-01-01T17:50:24.497Z"
   },
   {
    "duration": 18,
    "start_time": "2023-01-01T17:51:13.725Z"
   },
   {
    "duration": 7,
    "start_time": "2023-01-01T17:51:59.361Z"
   },
   {
    "duration": 18,
    "start_time": "2023-01-01T17:52:05.907Z"
   },
   {
    "duration": 11,
    "start_time": "2023-01-01T17:52:53.955Z"
   },
   {
    "duration": 12,
    "start_time": "2023-01-01T17:53:20.759Z"
   },
   {
    "duration": 16,
    "start_time": "2023-01-01T17:53:54.887Z"
   },
   {
    "duration": 18,
    "start_time": "2023-01-01T17:54:14.744Z"
   },
   {
    "duration": 12,
    "start_time": "2023-01-01T17:55:37.572Z"
   },
   {
    "duration": 12,
    "start_time": "2023-01-01T17:55:52.179Z"
   },
   {
    "duration": 12,
    "start_time": "2023-01-01T17:56:04.131Z"
   },
   {
    "duration": 16,
    "start_time": "2023-01-01T17:56:27.462Z"
   },
   {
    "duration": 12,
    "start_time": "2023-01-01T17:56:57.249Z"
   },
   {
    "duration": 8,
    "start_time": "2023-01-01T17:57:54.149Z"
   },
   {
    "duration": 9,
    "start_time": "2023-01-01T17:58:28.259Z"
   },
   {
    "duration": 24,
    "start_time": "2023-01-01T18:00:03.753Z"
   },
   {
    "duration": 12,
    "start_time": "2023-01-01T18:00:19.922Z"
   },
   {
    "duration": 8,
    "start_time": "2023-01-01T18:00:41.757Z"
   },
   {
    "duration": 8,
    "start_time": "2023-01-01T18:14:37.687Z"
   },
   {
    "duration": 9,
    "start_time": "2023-01-01T18:15:10.757Z"
   },
   {
    "duration": 8,
    "start_time": "2023-01-01T18:15:17.099Z"
   },
   {
    "duration": 10,
    "start_time": "2023-01-01T18:15:25.681Z"
   },
   {
    "duration": 7,
    "start_time": "2023-01-01T18:16:53.884Z"
   },
   {
    "duration": 7,
    "start_time": "2023-01-01T18:17:08.227Z"
   },
   {
    "duration": 62,
    "start_time": "2023-01-11T18:23:01.195Z"
   },
   {
    "duration": 7,
    "start_time": "2023-01-11T18:23:13.683Z"
   },
   {
    "duration": 44,
    "start_time": "2023-01-11T18:24:46.759Z"
   },
   {
    "duration": 1018,
    "start_time": "2023-01-11T18:25:25.175Z"
   },
   {
    "duration": 21,
    "start_time": "2023-01-11T18:25:26.195Z"
   },
   {
    "duration": 21,
    "start_time": "2023-01-11T18:25:26.218Z"
   },
   {
    "duration": 14,
    "start_time": "2023-01-11T18:25:26.241Z"
   },
   {
    "duration": 32,
    "start_time": "2023-01-11T18:25:26.257Z"
   },
   {
    "duration": 3,
    "start_time": "2023-01-11T18:25:26.291Z"
   },
   {
    "duration": 31,
    "start_time": "2023-01-11T18:25:26.295Z"
   },
   {
    "duration": 4,
    "start_time": "2023-01-11T18:25:26.328Z"
   },
   {
    "duration": 10,
    "start_time": "2023-01-11T18:25:26.334Z"
   },
   {
    "duration": 4,
    "start_time": "2023-01-11T18:25:26.348Z"
   },
   {
    "duration": 37,
    "start_time": "2023-01-11T18:25:26.353Z"
   },
   {
    "duration": 9,
    "start_time": "2023-01-11T18:25:26.392Z"
   },
   {
    "duration": 20,
    "start_time": "2023-01-11T18:25:26.402Z"
   },
   {
    "duration": 14,
    "start_time": "2023-01-11T18:25:26.424Z"
   },
   {
    "duration": 24,
    "start_time": "2023-01-11T18:25:26.440Z"
   },
   {
    "duration": 16,
    "start_time": "2023-01-11T18:25:26.465Z"
   },
   {
    "duration": 4,
    "start_time": "2023-01-11T18:25:26.483Z"
   },
   {
    "duration": 32,
    "start_time": "2023-01-11T18:25:26.489Z"
   },
   {
    "duration": 7,
    "start_time": "2023-01-11T18:25:26.523Z"
   },
   {
    "duration": 10,
    "start_time": "2023-01-11T18:25:26.531Z"
   },
   {
    "duration": 12,
    "start_time": "2023-01-11T18:25:26.543Z"
   },
   {
    "duration": 12,
    "start_time": "2023-01-11T18:25:26.556Z"
   },
   {
    "duration": 10,
    "start_time": "2023-01-11T18:25:26.570Z"
   },
   {
    "duration": 15,
    "start_time": "2023-01-11T18:25:26.582Z"
   },
   {
    "duration": 14,
    "start_time": "2023-01-11T18:25:26.622Z"
   },
   {
    "duration": 81,
    "start_time": "2023-01-11T18:25:26.638Z"
   },
   {
    "duration": 8,
    "start_time": "2023-01-11T18:25:26.721Z"
   },
   {
    "duration": 68,
    "start_time": "2023-01-11T18:26:17.990Z"
   },
   {
    "duration": 10,
    "start_time": "2023-01-11T18:26:30.231Z"
   },
   {
    "duration": 8,
    "start_time": "2023-01-11T18:26:40.110Z"
   },
   {
    "duration": 13,
    "start_time": "2023-01-11T18:27:51.991Z"
   },
   {
    "duration": 11,
    "start_time": "2023-01-11T18:28:25.189Z"
   },
   {
    "duration": 5,
    "start_time": "2023-01-11T18:31:04.176Z"
   },
   {
    "duration": 7,
    "start_time": "2023-01-11T18:31:17.106Z"
   },
   {
    "duration": 46,
    "start_time": "2023-01-11T18:34:28.494Z"
   },
   {
    "duration": 10,
    "start_time": "2023-01-11T18:34:46.512Z"
   },
   {
    "duration": 9,
    "start_time": "2023-01-11T18:35:38.024Z"
   },
   {
    "duration": 16,
    "start_time": "2023-01-11T18:43:57.630Z"
   },
   {
    "duration": 12,
    "start_time": "2023-01-11T18:44:04.474Z"
   },
   {
    "duration": 11,
    "start_time": "2023-01-11T18:45:10.253Z"
   },
   {
    "duration": 14,
    "start_time": "2023-01-11T18:45:49.196Z"
   },
   {
    "duration": 50,
    "start_time": "2023-01-11T18:54:02.726Z"
   },
   {
    "duration": 61,
    "start_time": "2023-01-11T18:55:18.117Z"
   },
   {
    "duration": 15,
    "start_time": "2023-01-11T18:55:44.169Z"
   },
   {
    "duration": 9,
    "start_time": "2023-01-11T18:56:13.013Z"
   },
   {
    "duration": 14,
    "start_time": "2023-01-11T18:56:21.852Z"
   },
   {
    "duration": 14,
    "start_time": "2023-01-11T18:57:03.109Z"
   },
   {
    "duration": 12,
    "start_time": "2023-01-11T18:57:35.046Z"
   },
   {
    "duration": 53,
    "start_time": "2023-01-11T19:00:12.922Z"
   },
   {
    "duration": 691,
    "start_time": "2023-01-11T19:00:24.679Z"
   },
   {
    "duration": 13,
    "start_time": "2023-01-11T19:00:53.760Z"
   },
   {
    "duration": 13,
    "start_time": "2023-01-11T19:01:06.028Z"
   },
   {
    "duration": 13,
    "start_time": "2023-01-11T19:01:17.006Z"
   },
   {
    "duration": 13,
    "start_time": "2023-01-11T19:01:22.002Z"
   },
   {
    "duration": 15,
    "start_time": "2023-01-11T19:03:47.989Z"
   },
   {
    "duration": 15,
    "start_time": "2023-01-11T19:04:27.212Z"
   },
   {
    "duration": 12,
    "start_time": "2023-01-11T19:10:33.827Z"
   },
   {
    "duration": 48,
    "start_time": "2023-01-11T19:13:34.237Z"
   },
   {
    "duration": 45,
    "start_time": "2023-01-11T19:13:56.586Z"
   },
   {
    "duration": 42,
    "start_time": "2023-01-11T19:14:56.557Z"
   },
   {
    "duration": 49,
    "start_time": "2023-01-11T19:17:18.585Z"
   },
   {
    "duration": 48,
    "start_time": "2023-01-11T19:17:41.389Z"
   },
   {
    "duration": 46,
    "start_time": "2023-01-11T19:17:51.532Z"
   },
   {
    "duration": 56,
    "start_time": "2023-01-11T19:17:58.714Z"
   },
   {
    "duration": 44,
    "start_time": "2023-01-11T19:18:12.554Z"
   },
   {
    "duration": 46,
    "start_time": "2023-01-11T19:18:41.449Z"
   },
   {
    "duration": 56,
    "start_time": "2023-01-11T19:19:15.737Z"
   },
   {
    "duration": 491,
    "start_time": "2023-01-11T19:30:32.597Z"
   },
   {
    "duration": 22,
    "start_time": "2023-01-11T19:30:33.090Z"
   },
   {
    "duration": 16,
    "start_time": "2023-01-11T19:30:33.114Z"
   },
   {
    "duration": 9,
    "start_time": "2023-01-11T19:30:33.132Z"
   },
   {
    "duration": 33,
    "start_time": "2023-01-11T19:30:33.143Z"
   },
   {
    "duration": 4,
    "start_time": "2023-01-11T19:30:33.177Z"
   },
   {
    "duration": 17,
    "start_time": "2023-01-11T19:30:33.182Z"
   },
   {
    "duration": 21,
    "start_time": "2023-01-11T19:30:33.201Z"
   },
   {
    "duration": 10,
    "start_time": "2023-01-11T19:30:33.224Z"
   },
   {
    "duration": 5,
    "start_time": "2023-01-11T19:30:33.237Z"
   },
   {
    "duration": 45,
    "start_time": "2023-01-11T19:30:33.243Z"
   },
   {
    "duration": 33,
    "start_time": "2023-01-11T19:30:33.289Z"
   },
   {
    "duration": 6,
    "start_time": "2023-01-11T19:30:33.324Z"
   },
   {
    "duration": 20,
    "start_time": "2023-01-11T19:30:33.332Z"
   },
   {
    "duration": 68,
    "start_time": "2023-01-11T19:30:33.355Z"
   },
   {
    "duration": 17,
    "start_time": "2023-01-11T19:30:33.424Z"
   },
   {
    "duration": 4,
    "start_time": "2023-01-11T19:30:33.442Z"
   },
   {
    "duration": 22,
    "start_time": "2023-01-11T19:30:33.447Z"
   },
   {
    "duration": 21,
    "start_time": "2023-01-11T19:30:33.471Z"
   },
   {
    "duration": 9,
    "start_time": "2023-01-11T19:30:33.494Z"
   },
   {
    "duration": 17,
    "start_time": "2023-01-11T19:30:33.504Z"
   },
   {
    "duration": 849,
    "start_time": "2023-01-11T19:30:33.523Z"
   },
   {
    "duration": 0,
    "start_time": "2023-01-11T19:30:34.374Z"
   },
   {
    "duration": 0,
    "start_time": "2023-01-11T19:30:34.376Z"
   },
   {
    "duration": 0,
    "start_time": "2023-01-11T19:30:34.377Z"
   },
   {
    "duration": 0,
    "start_time": "2023-01-11T19:30:34.379Z"
   },
   {
    "duration": 0,
    "start_time": "2023-01-11T19:30:34.380Z"
   },
   {
    "duration": 0,
    "start_time": "2023-01-11T19:30:34.381Z"
   },
   {
    "duration": 17,
    "start_time": "2023-01-11T19:31:11.587Z"
   },
   {
    "duration": 454,
    "start_time": "2023-01-11T19:31:31.787Z"
   },
   {
    "duration": 21,
    "start_time": "2023-01-11T19:31:32.242Z"
   },
   {
    "duration": 20,
    "start_time": "2023-01-11T19:31:32.265Z"
   },
   {
    "duration": 12,
    "start_time": "2023-01-11T19:31:32.287Z"
   },
   {
    "duration": 49,
    "start_time": "2023-01-11T19:31:32.300Z"
   },
   {
    "duration": 3,
    "start_time": "2023-01-11T19:31:32.350Z"
   },
   {
    "duration": 13,
    "start_time": "2023-01-11T19:31:32.355Z"
   },
   {
    "duration": 34,
    "start_time": "2023-01-11T19:31:32.370Z"
   },
   {
    "duration": 9,
    "start_time": "2023-01-11T19:31:32.406Z"
   },
   {
    "duration": 9,
    "start_time": "2023-01-11T19:31:32.419Z"
   },
   {
    "duration": 39,
    "start_time": "2023-01-11T19:31:32.429Z"
   },
   {
    "duration": 10,
    "start_time": "2023-01-11T19:31:32.469Z"
   },
   {
    "duration": 11,
    "start_time": "2023-01-11T19:31:32.480Z"
   },
   {
    "duration": 29,
    "start_time": "2023-01-11T19:31:32.492Z"
   },
   {
    "duration": 32,
    "start_time": "2023-01-11T19:31:32.523Z"
   },
   {
    "duration": 24,
    "start_time": "2023-01-11T19:31:32.558Z"
   },
   {
    "duration": 4,
    "start_time": "2023-01-11T19:31:32.584Z"
   },
   {
    "duration": 37,
    "start_time": "2023-01-11T19:31:32.590Z"
   },
   {
    "duration": 10,
    "start_time": "2023-01-11T19:31:32.629Z"
   },
   {
    "duration": 7,
    "start_time": "2023-01-11T19:31:32.640Z"
   },
   {
    "duration": 32,
    "start_time": "2023-01-11T19:31:32.648Z"
   },
   {
    "duration": 40,
    "start_time": "2023-01-11T19:31:32.682Z"
   },
   {
    "duration": 52,
    "start_time": "2023-01-11T19:31:32.724Z"
   },
   {
    "duration": 0,
    "start_time": "2023-01-11T19:31:32.778Z"
   },
   {
    "duration": 0,
    "start_time": "2023-01-11T19:31:32.780Z"
   },
   {
    "duration": 0,
    "start_time": "2023-01-11T19:31:32.782Z"
   },
   {
    "duration": 0,
    "start_time": "2023-01-11T19:31:32.783Z"
   },
   {
    "duration": 0,
    "start_time": "2023-01-11T19:31:32.784Z"
   },
   {
    "duration": 493,
    "start_time": "2023-01-11T19:33:04.502Z"
   },
   {
    "duration": 21,
    "start_time": "2023-01-11T19:33:04.997Z"
   },
   {
    "duration": 15,
    "start_time": "2023-01-11T19:33:05.019Z"
   },
   {
    "duration": 9,
    "start_time": "2023-01-11T19:33:05.035Z"
   },
   {
    "duration": 44,
    "start_time": "2023-01-11T19:33:05.046Z"
   },
   {
    "duration": 3,
    "start_time": "2023-01-11T19:33:05.091Z"
   },
   {
    "duration": 12,
    "start_time": "2023-01-11T19:33:05.096Z"
   },
   {
    "duration": 15,
    "start_time": "2023-01-11T19:33:05.109Z"
   },
   {
    "duration": 14,
    "start_time": "2023-01-11T19:33:05.126Z"
   },
   {
    "duration": 5,
    "start_time": "2023-01-11T19:33:05.142Z"
   },
   {
    "duration": 33,
    "start_time": "2023-01-11T19:33:05.148Z"
   },
   {
    "duration": 8,
    "start_time": "2023-01-11T19:33:05.183Z"
   },
   {
    "duration": 8,
    "start_time": "2023-01-11T19:33:05.193Z"
   },
   {
    "duration": 25,
    "start_time": "2023-01-11T19:33:05.203Z"
   },
   {
    "duration": 18,
    "start_time": "2023-01-11T19:33:05.229Z"
   },
   {
    "duration": 16,
    "start_time": "2023-01-11T19:33:05.249Z"
   },
   {
    "duration": 3,
    "start_time": "2023-01-11T19:33:05.267Z"
   },
   {
    "duration": 21,
    "start_time": "2023-01-11T19:33:05.272Z"
   },
   {
    "duration": 8,
    "start_time": "2023-01-11T19:33:05.295Z"
   },
   {
    "duration": 4,
    "start_time": "2023-01-11T19:33:05.320Z"
   },
   {
    "duration": 19,
    "start_time": "2023-01-11T19:33:05.326Z"
   },
   {
    "duration": 21,
    "start_time": "2023-01-11T19:33:05.346Z"
   },
   {
    "duration": 48,
    "start_time": "2023-01-11T19:33:05.369Z"
   },
   {
    "duration": 0,
    "start_time": "2023-01-11T19:33:05.419Z"
   },
   {
    "duration": 0,
    "start_time": "2023-01-11T19:33:05.420Z"
   },
   {
    "duration": 0,
    "start_time": "2023-01-11T19:33:05.421Z"
   },
   {
    "duration": 0,
    "start_time": "2023-01-11T19:33:05.422Z"
   },
   {
    "duration": 0,
    "start_time": "2023-01-11T19:33:05.423Z"
   },
   {
    "duration": 439,
    "start_time": "2023-01-11T19:33:59.438Z"
   },
   {
    "duration": 23,
    "start_time": "2023-01-11T19:33:59.879Z"
   },
   {
    "duration": 17,
    "start_time": "2023-01-11T19:33:59.904Z"
   },
   {
    "duration": 9,
    "start_time": "2023-01-11T19:33:59.923Z"
   },
   {
    "duration": 34,
    "start_time": "2023-01-11T19:33:59.934Z"
   },
   {
    "duration": 3,
    "start_time": "2023-01-11T19:33:59.970Z"
   },
   {
    "duration": 11,
    "start_time": "2023-01-11T19:33:59.975Z"
   },
   {
    "duration": 6,
    "start_time": "2023-01-11T19:33:59.988Z"
   },
   {
    "duration": 26,
    "start_time": "2023-01-11T19:33:59.995Z"
   },
   {
    "duration": 10,
    "start_time": "2023-01-11T19:34:00.025Z"
   },
   {
    "duration": 47,
    "start_time": "2023-01-11T19:34:00.037Z"
   },
   {
    "duration": 9,
    "start_time": "2023-01-11T19:34:00.086Z"
   },
   {
    "duration": 15,
    "start_time": "2023-01-11T19:34:00.097Z"
   },
   {
    "duration": 20,
    "start_time": "2023-01-11T19:34:00.113Z"
   },
   {
    "duration": 27,
    "start_time": "2023-01-11T19:34:00.134Z"
   },
   {
    "duration": 16,
    "start_time": "2023-01-11T19:34:00.162Z"
   },
   {
    "duration": 3,
    "start_time": "2023-01-11T19:34:00.180Z"
   },
   {
    "duration": 17,
    "start_time": "2023-01-11T19:34:00.185Z"
   },
   {
    "duration": 14,
    "start_time": "2023-01-11T19:34:00.203Z"
   },
   {
    "duration": 10,
    "start_time": "2023-01-11T19:34:00.218Z"
   },
   {
    "duration": 19,
    "start_time": "2023-01-11T19:34:00.229Z"
   },
   {
    "duration": 271,
    "start_time": "2023-01-11T19:34:00.250Z"
   },
   {
    "duration": 0,
    "start_time": "2023-01-11T19:34:00.523Z"
   },
   {
    "duration": 0,
    "start_time": "2023-01-11T19:34:00.524Z"
   },
   {
    "duration": 0,
    "start_time": "2023-01-11T19:34:00.525Z"
   },
   {
    "duration": 0,
    "start_time": "2023-01-11T19:34:00.525Z"
   },
   {
    "duration": 0,
    "start_time": "2023-01-11T19:34:00.526Z"
   },
   {
    "duration": 0,
    "start_time": "2023-01-11T19:34:00.528Z"
   },
   {
    "duration": 17,
    "start_time": "2023-01-11T19:34:25.648Z"
   },
   {
    "duration": 14,
    "start_time": "2023-01-11T19:34:37.916Z"
   },
   {
    "duration": 438,
    "start_time": "2023-01-11T19:35:04.754Z"
   },
   {
    "duration": 19,
    "start_time": "2023-01-11T19:35:05.194Z"
   },
   {
    "duration": 13,
    "start_time": "2023-01-11T19:35:05.215Z"
   },
   {
    "duration": 8,
    "start_time": "2023-01-11T19:35:05.230Z"
   },
   {
    "duration": 38,
    "start_time": "2023-01-11T19:35:05.240Z"
   },
   {
    "duration": 4,
    "start_time": "2023-01-11T19:35:05.279Z"
   },
   {
    "duration": 21,
    "start_time": "2023-01-11T19:35:05.284Z"
   },
   {
    "duration": 14,
    "start_time": "2023-01-11T19:35:05.307Z"
   },
   {
    "duration": 7,
    "start_time": "2023-01-11T19:35:05.323Z"
   },
   {
    "duration": 4,
    "start_time": "2023-01-11T19:35:05.334Z"
   },
   {
    "duration": 39,
    "start_time": "2023-01-11T19:35:05.339Z"
   },
   {
    "duration": 9,
    "start_time": "2023-01-11T19:35:05.379Z"
   },
   {
    "duration": 9,
    "start_time": "2023-01-11T19:35:05.389Z"
   },
   {
    "duration": 25,
    "start_time": "2023-01-11T19:35:05.399Z"
   },
   {
    "duration": 18,
    "start_time": "2023-01-11T19:35:05.425Z"
   },
   {
    "duration": 15,
    "start_time": "2023-01-11T19:35:05.444Z"
   },
   {
    "duration": 3,
    "start_time": "2023-01-11T19:35:05.461Z"
   },
   {
    "duration": 19,
    "start_time": "2023-01-11T19:35:05.465Z"
   },
   {
    "duration": 19,
    "start_time": "2023-01-11T19:35:05.486Z"
   },
   {
    "duration": 5,
    "start_time": "2023-01-11T19:35:05.506Z"
   },
   {
    "duration": 34,
    "start_time": "2023-01-11T19:35:05.513Z"
   },
   {
    "duration": 32,
    "start_time": "2023-01-11T19:35:05.548Z"
   },
   {
    "duration": 43,
    "start_time": "2023-01-11T19:35:05.581Z"
   },
   {
    "duration": 0,
    "start_time": "2023-01-11T19:35:05.625Z"
   },
   {
    "duration": 0,
    "start_time": "2023-01-11T19:35:05.626Z"
   },
   {
    "duration": 1,
    "start_time": "2023-01-11T19:35:05.627Z"
   },
   {
    "duration": 0,
    "start_time": "2023-01-11T19:35:05.629Z"
   },
   {
    "duration": 0,
    "start_time": "2023-01-11T19:35:05.630Z"
   },
   {
    "duration": 12,
    "start_time": "2023-01-11T19:35:58.455Z"
   },
   {
    "duration": 12,
    "start_time": "2023-01-11T19:36:18.427Z"
   },
   {
    "duration": 12,
    "start_time": "2023-01-11T19:36:29.804Z"
   },
   {
    "duration": 224,
    "start_time": "2023-01-11T19:36:50.860Z"
   },
   {
    "duration": 11,
    "start_time": "2023-01-11T19:37:06.205Z"
   },
   {
    "duration": 12,
    "start_time": "2023-01-11T19:37:26.314Z"
   },
   {
    "duration": 12,
    "start_time": "2023-01-11T19:37:37.761Z"
   },
   {
    "duration": 12,
    "start_time": "2023-01-11T19:37:50.590Z"
   },
   {
    "duration": 12,
    "start_time": "2023-01-11T19:37:57.492Z"
   },
   {
    "duration": 12,
    "start_time": "2023-01-11T19:38:31.599Z"
   },
   {
    "duration": 15,
    "start_time": "2023-01-11T19:41:55.509Z"
   },
   {
    "duration": 9,
    "start_time": "2023-01-11T19:42:25.157Z"
   },
   {
    "duration": 8,
    "start_time": "2023-01-11T19:43:26.405Z"
   },
   {
    "duration": 53,
    "start_time": "2023-01-11T19:48:41.787Z"
   },
   {
    "duration": 42,
    "start_time": "2023-01-11T19:48:55.119Z"
   },
   {
    "duration": 39,
    "start_time": "2023-01-11T19:50:12.279Z"
   },
   {
    "duration": 8,
    "start_time": "2023-01-11T19:50:22.666Z"
   },
   {
    "duration": 41,
    "start_time": "2023-01-11T19:50:35.552Z"
   },
   {
    "duration": 9,
    "start_time": "2023-01-11T19:51:55.503Z"
   },
   {
    "duration": 8,
    "start_time": "2023-01-11T19:52:05.834Z"
   },
   {
    "duration": 7,
    "start_time": "2023-01-11T19:52:13.938Z"
   },
   {
    "duration": 45,
    "start_time": "2023-01-11T19:52:27.288Z"
   },
   {
    "duration": 15,
    "start_time": "2023-01-11T19:52:33.121Z"
   },
   {
    "duration": 13,
    "start_time": "2023-01-11T19:53:05.150Z"
   },
   {
    "duration": 16,
    "start_time": "2023-01-11T19:53:56.553Z"
   },
   {
    "duration": 16,
    "start_time": "2023-01-11T19:54:18.759Z"
   },
   {
    "duration": 15,
    "start_time": "2023-01-11T20:01:01.411Z"
   },
   {
    "duration": 13,
    "start_time": "2023-01-11T20:01:08.300Z"
   },
   {
    "duration": 427,
    "start_time": "2023-01-11T20:04:44.462Z"
   },
   {
    "duration": 21,
    "start_time": "2023-01-11T20:04:44.891Z"
   },
   {
    "duration": 21,
    "start_time": "2023-01-11T20:04:44.913Z"
   },
   {
    "duration": 13,
    "start_time": "2023-01-11T20:04:44.935Z"
   },
   {
    "duration": 37,
    "start_time": "2023-01-11T20:04:44.949Z"
   },
   {
    "duration": 4,
    "start_time": "2023-01-11T20:04:44.987Z"
   },
   {
    "duration": 12,
    "start_time": "2023-01-11T20:04:44.992Z"
   },
   {
    "duration": 20,
    "start_time": "2023-01-11T20:04:45.005Z"
   },
   {
    "duration": 20,
    "start_time": "2023-01-11T20:04:45.026Z"
   },
   {
    "duration": 13,
    "start_time": "2023-01-11T20:04:45.049Z"
   },
   {
    "duration": 52,
    "start_time": "2023-01-11T20:04:45.063Z"
   },
   {
    "duration": 8,
    "start_time": "2023-01-11T20:04:45.117Z"
   },
   {
    "duration": 8,
    "start_time": "2023-01-11T20:04:45.127Z"
   },
   {
    "duration": 12,
    "start_time": "2023-01-11T20:04:45.137Z"
   },
   {
    "duration": 25,
    "start_time": "2023-01-11T20:04:45.151Z"
   },
   {
    "duration": 34,
    "start_time": "2023-01-11T20:04:45.178Z"
   },
   {
    "duration": 4,
    "start_time": "2023-01-11T20:04:45.213Z"
   },
   {
    "duration": 13,
    "start_time": "2023-01-11T20:04:45.219Z"
   },
   {
    "duration": 8,
    "start_time": "2023-01-11T20:04:45.234Z"
   },
   {
    "duration": 16,
    "start_time": "2023-01-11T20:04:45.244Z"
   },
   {
    "duration": 19,
    "start_time": "2023-01-11T20:04:45.262Z"
   },
   {
    "duration": 21,
    "start_time": "2023-01-11T20:04:45.282Z"
   },
   {
    "duration": 22,
    "start_time": "2023-01-11T20:04:45.305Z"
   },
   {
    "duration": 9,
    "start_time": "2023-01-11T20:04:45.328Z"
   },
   {
    "duration": 12,
    "start_time": "2023-01-11T20:04:45.339Z"
   },
   {
    "duration": 71,
    "start_time": "2023-01-11T20:04:45.354Z"
   },
   {
    "duration": 6,
    "start_time": "2023-01-11T20:04:45.427Z"
   },
   {
    "duration": 13,
    "start_time": "2023-01-11T20:05:25.996Z"
   },
   {
    "duration": 9,
    "start_time": "2023-01-11T20:05:38.612Z"
   },
   {
    "duration": 27,
    "start_time": "2023-01-11T20:05:55.527Z"
   },
   {
    "duration": 13,
    "start_time": "2023-01-11T20:06:11.767Z"
   },
   {
    "duration": 16,
    "start_time": "2023-01-11T20:06:24.215Z"
   },
   {
    "duration": 13,
    "start_time": "2023-01-11T20:07:02.478Z"
   },
   {
    "duration": 14,
    "start_time": "2023-01-11T20:10:24.758Z"
   },
   {
    "duration": 12,
    "start_time": "2023-01-11T20:39:23.289Z"
   },
   {
    "duration": 13,
    "start_time": "2023-01-11T20:39:42.130Z"
   },
   {
    "duration": 12,
    "start_time": "2023-01-11T20:39:47.063Z"
   },
   {
    "duration": 12,
    "start_time": "2023-01-11T20:39:50.093Z"
   },
   {
    "duration": 13,
    "start_time": "2023-01-11T20:39:53.648Z"
   },
   {
    "duration": 69,
    "start_time": "2023-01-11T20:40:13.216Z"
   },
   {
    "duration": 12,
    "start_time": "2023-01-11T20:45:27.506Z"
   },
   {
    "duration": 13,
    "start_time": "2023-01-11T20:46:31.134Z"
   },
   {
    "duration": 14,
    "start_time": "2023-01-11T20:46:39.270Z"
   },
   {
    "duration": 14,
    "start_time": "2023-01-11T20:47:18.825Z"
   },
   {
    "duration": 10,
    "start_time": "2023-01-11T21:04:05.730Z"
   },
   {
    "duration": 71,
    "start_time": "2023-01-11T21:04:19.259Z"
   },
   {
    "duration": 15,
    "start_time": "2023-01-11T21:04:44.235Z"
   },
   {
    "duration": 18,
    "start_time": "2023-01-11T21:04:50.851Z"
   },
   {
    "duration": 17,
    "start_time": "2023-01-11T21:05:23.757Z"
   },
   {
    "duration": 13,
    "start_time": "2023-01-11T21:11:52.649Z"
   },
   {
    "duration": 13,
    "start_time": "2023-01-11T21:12:22.481Z"
   },
   {
    "duration": 14,
    "start_time": "2023-01-11T21:12:31.942Z"
   },
   {
    "duration": 14,
    "start_time": "2023-01-11T21:13:05.179Z"
   },
   {
    "duration": 13,
    "start_time": "2023-01-11T21:13:14.965Z"
   },
   {
    "duration": 16,
    "start_time": "2023-01-11T21:16:08.130Z"
   },
   {
    "duration": 14,
    "start_time": "2023-01-11T21:16:19.778Z"
   },
   {
    "duration": 15,
    "start_time": "2023-01-11T21:16:23.405Z"
   },
   {
    "duration": 15,
    "start_time": "2023-01-11T21:16:47.107Z"
   },
   {
    "duration": 15,
    "start_time": "2023-01-11T21:16:54.276Z"
   },
   {
    "duration": 16,
    "start_time": "2023-01-11T21:17:17.869Z"
   },
   {
    "duration": 14,
    "start_time": "2023-01-11T21:17:25.486Z"
   },
   {
    "duration": 17,
    "start_time": "2023-01-11T21:17:37.359Z"
   },
   {
    "duration": 19,
    "start_time": "2023-01-11T21:17:45.436Z"
   },
   {
    "duration": 62,
    "start_time": "2023-01-11T21:22:05.809Z"
   },
   {
    "duration": 15,
    "start_time": "2023-01-11T21:27:57.285Z"
   },
   {
    "duration": 12,
    "start_time": "2023-01-11T21:32:31.545Z"
   },
   {
    "duration": 17,
    "start_time": "2023-01-11T21:32:57.484Z"
   },
   {
    "duration": 14,
    "start_time": "2023-01-11T21:33:33.780Z"
   },
   {
    "duration": 4,
    "start_time": "2023-01-11T21:44:01.544Z"
   },
   {
    "duration": 876,
    "start_time": "2023-01-11T21:44:04.077Z"
   },
   {
    "duration": 7,
    "start_time": "2023-01-11T21:44:24.286Z"
   },
   {
    "duration": 12,
    "start_time": "2023-01-11T21:44:30.091Z"
   },
   {
    "duration": 56,
    "start_time": "2023-01-11T21:48:48.114Z"
   },
   {
    "duration": 44,
    "start_time": "2023-01-11T21:48:54.007Z"
   },
   {
    "duration": 53,
    "start_time": "2023-01-11T21:50:14.929Z"
   },
   {
    "duration": 877,
    "start_time": "2023-01-11T21:51:42.853Z"
   },
   {
    "duration": 20,
    "start_time": "2023-01-11T21:52:10.796Z"
   },
   {
    "duration": 28,
    "start_time": "2023-01-11T21:52:25.499Z"
   },
   {
    "duration": 18,
    "start_time": "2023-01-11T21:52:59.348Z"
   },
   {
    "duration": 17,
    "start_time": "2023-01-11T21:53:03.121Z"
   },
   {
    "duration": 20,
    "start_time": "2023-01-11T21:53:22.506Z"
   },
   {
    "duration": 118,
    "start_time": "2023-01-11T21:53:46.140Z"
   },
   {
    "duration": 101,
    "start_time": "2023-01-11T21:54:49.366Z"
   },
   {
    "duration": 109,
    "start_time": "2023-01-11T21:55:03.412Z"
   },
   {
    "duration": 367,
    "start_time": "2023-01-11T21:55:24.153Z"
   },
   {
    "duration": 4,
    "start_time": "2023-01-11T22:00:36.031Z"
   },
   {
    "duration": 6,
    "start_time": "2023-01-11T22:00:48.866Z"
   },
   {
    "duration": 50,
    "start_time": "2023-01-11T22:01:32.604Z"
   },
   {
    "duration": 7,
    "start_time": "2023-01-11T22:02:33.845Z"
   },
   {
    "duration": 67,
    "start_time": "2023-01-11T22:02:58.777Z"
   },
   {
    "duration": 48,
    "start_time": "2023-01-11T22:03:11.136Z"
   },
   {
    "duration": 7,
    "start_time": "2023-01-11T22:03:27.192Z"
   },
   {
    "duration": 8,
    "start_time": "2023-01-11T22:03:37.414Z"
   },
   {
    "duration": 9,
    "start_time": "2023-01-11T22:04:01.763Z"
   },
   {
    "duration": 8,
    "start_time": "2023-01-11T22:04:45.699Z"
   },
   {
    "duration": 15,
    "start_time": "2023-01-11T22:04:53.015Z"
   },
   {
    "duration": 1157,
    "start_time": "2023-01-11T22:05:02.177Z"
   },
   {
    "duration": 7,
    "start_time": "2023-01-11T22:05:56.413Z"
   },
   {
    "duration": 790,
    "start_time": "2023-01-11T22:07:12.510Z"
   },
   {
    "duration": 1141,
    "start_time": "2023-01-11T22:07:32.994Z"
   },
   {
    "duration": 1081,
    "start_time": "2023-01-11T22:08:17.592Z"
   },
   {
    "duration": 1098,
    "start_time": "2023-01-11T22:09:25.531Z"
   },
   {
    "duration": 52,
    "start_time": "2023-01-11T22:14:36.654Z"
   },
   {
    "duration": 765,
    "start_time": "2023-01-11T22:14:42.655Z"
   },
   {
    "duration": 823,
    "start_time": "2023-01-11T22:17:27.858Z"
   },
   {
    "duration": 763,
    "start_time": "2023-01-11T22:19:51.024Z"
   },
   {
    "duration": 745,
    "start_time": "2023-01-11T22:19:56.198Z"
   },
   {
    "duration": 864,
    "start_time": "2023-01-11T22:20:04.153Z"
   },
   {
    "duration": 774,
    "start_time": "2023-01-11T22:20:13.810Z"
   },
   {
    "duration": 820,
    "start_time": "2023-01-11T22:20:23.736Z"
   },
   {
    "duration": 766,
    "start_time": "2023-01-11T22:20:31.453Z"
   },
   {
    "duration": 899,
    "start_time": "2023-01-11T22:20:39.234Z"
   },
   {
    "duration": 819,
    "start_time": "2023-01-11T22:20:53.790Z"
   },
   {
    "duration": 779,
    "start_time": "2023-01-11T22:24:07.657Z"
   },
   {
    "duration": 785,
    "start_time": "2023-01-11T22:25:08.860Z"
   },
   {
    "duration": 130,
    "start_time": "2023-01-11T22:25:40.280Z"
   },
   {
    "duration": 777,
    "start_time": "2023-01-11T22:26:08.229Z"
   },
   {
    "duration": 978,
    "start_time": "2023-01-11T22:26:29.750Z"
   },
   {
    "duration": 804,
    "start_time": "2023-01-11T22:28:10.021Z"
   },
   {
    "duration": 830,
    "start_time": "2023-01-11T22:30:02.552Z"
   },
   {
    "duration": 13,
    "start_time": "2023-01-11T22:31:32.067Z"
   },
   {
    "duration": 801,
    "start_time": "2023-01-11T22:32:09.516Z"
   },
   {
    "duration": 798,
    "start_time": "2023-01-11T22:32:14.375Z"
   },
   {
    "duration": 52,
    "start_time": "2023-01-15T14:43:10.079Z"
   },
   {
    "duration": 711,
    "start_time": "2023-01-15T14:44:03.006Z"
   },
   {
    "duration": 23,
    "start_time": "2023-01-15T14:44:03.719Z"
   },
   {
    "duration": 15,
    "start_time": "2023-01-15T14:44:03.743Z"
   },
   {
    "duration": 9,
    "start_time": "2023-01-15T14:44:03.760Z"
   },
   {
    "duration": 45,
    "start_time": "2023-01-15T14:44:03.771Z"
   },
   {
    "duration": 3,
    "start_time": "2023-01-15T14:44:03.818Z"
   },
   {
    "duration": 14,
    "start_time": "2023-01-15T14:44:03.823Z"
   },
   {
    "duration": 4,
    "start_time": "2023-01-15T14:44:03.838Z"
   },
   {
    "duration": 9,
    "start_time": "2023-01-15T14:44:03.844Z"
   },
   {
    "duration": 4,
    "start_time": "2023-01-15T14:44:03.857Z"
   },
   {
    "duration": 78,
    "start_time": "2023-01-15T14:44:03.863Z"
   },
   {
    "duration": 9,
    "start_time": "2023-01-15T14:44:03.943Z"
   },
   {
    "duration": 9,
    "start_time": "2023-01-15T14:44:03.954Z"
   },
   {
    "duration": 17,
    "start_time": "2023-01-15T14:44:03.965Z"
   },
   {
    "duration": 29,
    "start_time": "2023-01-15T14:44:03.984Z"
   },
   {
    "duration": 17,
    "start_time": "2023-01-15T14:44:04.014Z"
   },
   {
    "duration": 4,
    "start_time": "2023-01-15T14:44:04.032Z"
   },
   {
    "duration": 14,
    "start_time": "2023-01-15T14:44:04.037Z"
   },
   {
    "duration": 6,
    "start_time": "2023-01-15T14:44:04.052Z"
   },
   {
    "duration": 4,
    "start_time": "2023-01-15T14:44:04.059Z"
   },
   {
    "duration": 10,
    "start_time": "2023-01-15T14:44:04.065Z"
   },
   {
    "duration": 45,
    "start_time": "2023-01-15T14:44:04.076Z"
   },
   {
    "duration": 12,
    "start_time": "2023-01-15T14:44:04.123Z"
   },
   {
    "duration": 12,
    "start_time": "2023-01-15T14:44:04.137Z"
   },
   {
    "duration": 13,
    "start_time": "2023-01-15T14:44:04.151Z"
   },
   {
    "duration": 80,
    "start_time": "2023-01-15T14:44:04.165Z"
   },
   {
    "duration": 6,
    "start_time": "2023-01-15T14:44:04.247Z"
   },
   {
    "duration": 76,
    "start_time": "2023-01-15T14:44:04.255Z"
   },
   {
    "duration": 0,
    "start_time": "2023-01-15T14:44:04.333Z"
   },
   {
    "duration": 0,
    "start_time": "2023-01-15T14:44:04.334Z"
   },
   {
    "duration": 13,
    "start_time": "2023-01-15T14:44:37.963Z"
   },
   {
    "duration": 481,
    "start_time": "2023-01-15T14:44:50.490Z"
   },
   {
    "duration": 22,
    "start_time": "2023-01-15T14:44:50.973Z"
   },
   {
    "duration": 15,
    "start_time": "2023-01-15T14:44:50.997Z"
   },
   {
    "duration": 10,
    "start_time": "2023-01-15T14:44:51.014Z"
   },
   {
    "duration": 45,
    "start_time": "2023-01-15T14:44:51.025Z"
   },
   {
    "duration": 4,
    "start_time": "2023-01-15T14:44:51.072Z"
   },
   {
    "duration": 18,
    "start_time": "2023-01-15T14:44:51.078Z"
   },
   {
    "duration": 5,
    "start_time": "2023-01-15T14:44:51.112Z"
   },
   {
    "duration": 26,
    "start_time": "2023-01-15T14:44:51.119Z"
   },
   {
    "duration": 5,
    "start_time": "2023-01-15T14:44:51.150Z"
   },
   {
    "duration": 58,
    "start_time": "2023-01-15T14:44:51.157Z"
   },
   {
    "duration": 17,
    "start_time": "2023-01-15T14:44:51.217Z"
   },
   {
    "duration": 8,
    "start_time": "2023-01-15T14:44:51.237Z"
   },
   {
    "duration": 16,
    "start_time": "2023-01-15T14:44:51.247Z"
   },
   {
    "duration": 23,
    "start_time": "2023-01-15T14:44:51.265Z"
   },
   {
    "duration": 35,
    "start_time": "2023-01-15T14:44:51.290Z"
   },
   {
    "duration": 4,
    "start_time": "2023-01-15T14:44:51.327Z"
   },
   {
    "duration": 26,
    "start_time": "2023-01-15T14:44:51.333Z"
   },
   {
    "duration": 15,
    "start_time": "2023-01-15T14:44:51.361Z"
   },
   {
    "duration": 5,
    "start_time": "2023-01-15T14:44:51.378Z"
   },
   {
    "duration": 24,
    "start_time": "2023-01-15T14:44:51.384Z"
   },
   {
    "duration": 24,
    "start_time": "2023-01-15T14:44:51.410Z"
   },
   {
    "duration": 21,
    "start_time": "2023-01-15T14:44:51.436Z"
   },
   {
    "duration": 19,
    "start_time": "2023-01-15T14:44:51.459Z"
   },
   {
    "duration": 37,
    "start_time": "2023-01-15T14:44:51.480Z"
   },
   {
    "duration": 48,
    "start_time": "2023-01-15T14:44:51.518Z"
   },
   {
    "duration": 8,
    "start_time": "2023-01-15T14:44:51.568Z"
   },
   {
    "duration": 100,
    "start_time": "2023-01-15T14:44:51.579Z"
   },
   {
    "duration": 0,
    "start_time": "2023-01-15T14:44:51.680Z"
   },
   {
    "duration": 0,
    "start_time": "2023-01-15T14:44:51.682Z"
   },
   {
    "duration": 15,
    "start_time": "2023-01-15T14:45:13.088Z"
   },
   {
    "duration": 18,
    "start_time": "2023-01-15T14:45:20.221Z"
   },
   {
    "duration": 1901,
    "start_time": "2023-01-15T14:45:24.219Z"
   },
   {
    "duration": 16,
    "start_time": "2023-01-15T14:45:35.423Z"
   },
   {
    "duration": 17,
    "start_time": "2023-01-15T14:45:42.282Z"
   },
   {
    "duration": 19,
    "start_time": "2023-01-15T14:45:47.632Z"
   },
   {
    "duration": 19,
    "start_time": "2023-01-15T14:45:53.033Z"
   },
   {
    "duration": 15,
    "start_time": "2023-01-15T14:58:01.331Z"
   },
   {
    "duration": 15,
    "start_time": "2023-01-15T15:14:43.459Z"
   },
   {
    "duration": 20,
    "start_time": "2023-01-15T15:15:29.496Z"
   },
   {
    "duration": 16,
    "start_time": "2023-01-15T15:16:10.392Z"
   },
   {
    "duration": 16,
    "start_time": "2023-01-15T15:16:21.780Z"
   },
   {
    "duration": 20,
    "start_time": "2023-01-15T15:16:34.009Z"
   },
   {
    "duration": 54,
    "start_time": "2023-01-15T15:18:50.332Z"
   },
   {
    "duration": 15,
    "start_time": "2023-01-15T15:19:01.225Z"
   },
   {
    "duration": 16,
    "start_time": "2023-01-15T15:19:41.561Z"
   },
   {
    "duration": 54,
    "start_time": "2023-01-15T15:19:55.315Z"
   },
   {
    "duration": 24,
    "start_time": "2023-01-15T15:20:02.176Z"
   },
   {
    "duration": 17,
    "start_time": "2023-01-15T15:20:13.188Z"
   },
   {
    "duration": 22,
    "start_time": "2023-01-15T15:20:36.532Z"
   },
   {
    "duration": 15,
    "start_time": "2023-01-15T15:21:01.474Z"
   },
   {
    "duration": 905,
    "start_time": "2023-01-15T15:21:15.748Z"
   },
   {
    "duration": 495,
    "start_time": "2023-01-15T16:13:56.758Z"
   },
   {
    "duration": 25,
    "start_time": "2023-01-15T16:13:57.255Z"
   },
   {
    "duration": 37,
    "start_time": "2023-01-15T16:13:57.286Z"
   },
   {
    "duration": 11,
    "start_time": "2023-01-15T16:13:57.324Z"
   },
   {
    "duration": 38,
    "start_time": "2023-01-15T16:13:57.337Z"
   },
   {
    "duration": 4,
    "start_time": "2023-01-15T16:13:57.376Z"
   },
   {
    "duration": 17,
    "start_time": "2023-01-15T16:13:57.382Z"
   },
   {
    "duration": 6,
    "start_time": "2023-01-15T16:13:57.422Z"
   },
   {
    "duration": 13,
    "start_time": "2023-01-15T16:13:57.433Z"
   },
   {
    "duration": 9,
    "start_time": "2023-01-15T16:13:57.448Z"
   },
   {
    "duration": 67,
    "start_time": "2023-01-15T16:13:57.459Z"
   },
   {
    "duration": 13,
    "start_time": "2023-01-15T16:13:57.528Z"
   },
   {
    "duration": 7,
    "start_time": "2023-01-15T16:13:57.544Z"
   },
   {
    "duration": 26,
    "start_time": "2023-01-15T16:13:57.553Z"
   },
   {
    "duration": 43,
    "start_time": "2023-01-15T16:13:57.580Z"
   },
   {
    "duration": 24,
    "start_time": "2023-01-15T16:13:57.625Z"
   },
   {
    "duration": 5,
    "start_time": "2023-01-15T16:13:57.651Z"
   },
   {
    "duration": 33,
    "start_time": "2023-01-15T16:13:57.658Z"
   },
   {
    "duration": 16,
    "start_time": "2023-01-15T16:13:57.693Z"
   },
   {
    "duration": 5,
    "start_time": "2023-01-15T16:13:57.721Z"
   },
   {
    "duration": 20,
    "start_time": "2023-01-15T16:13:57.728Z"
   },
   {
    "duration": 36,
    "start_time": "2023-01-15T16:13:57.750Z"
   },
   {
    "duration": 35,
    "start_time": "2023-01-15T16:13:57.788Z"
   },
   {
    "duration": 25,
    "start_time": "2023-01-15T16:13:57.826Z"
   },
   {
    "duration": 30,
    "start_time": "2023-01-15T16:13:57.853Z"
   },
   {
    "duration": 106,
    "start_time": "2023-01-15T16:13:57.886Z"
   },
   {
    "duration": 16,
    "start_time": "2023-01-15T16:13:57.996Z"
   },
   {
    "duration": 42,
    "start_time": "2023-01-15T16:13:58.015Z"
   },
   {
    "duration": 60,
    "start_time": "2023-01-15T16:13:58.063Z"
   },
   {
    "duration": 25,
    "start_time": "2023-01-15T16:13:58.125Z"
   },
   {
    "duration": 2953,
    "start_time": "2023-01-15T16:13:58.152Z"
   },
   {
    "duration": 45,
    "start_time": "2023-01-15T17:35:56.775Z"
   },
   {
    "duration": 669,
    "start_time": "2023-01-15T17:36:07.770Z"
   },
   {
    "duration": 22,
    "start_time": "2023-01-15T17:36:08.440Z"
   },
   {
    "duration": 15,
    "start_time": "2023-01-15T17:36:08.463Z"
   },
   {
    "duration": 11,
    "start_time": "2023-01-15T17:36:08.479Z"
   },
   {
    "duration": 53,
    "start_time": "2023-01-15T17:36:08.492Z"
   },
   {
    "duration": 3,
    "start_time": "2023-01-15T17:36:08.547Z"
   },
   {
    "duration": 13,
    "start_time": "2023-01-15T17:36:08.552Z"
   },
   {
    "duration": 4,
    "start_time": "2023-01-15T17:36:08.567Z"
   },
   {
    "duration": 14,
    "start_time": "2023-01-15T17:36:08.572Z"
   },
   {
    "duration": 28,
    "start_time": "2023-01-15T17:36:08.588Z"
   },
   {
    "duration": 32,
    "start_time": "2023-01-15T17:36:08.617Z"
   },
   {
    "duration": 9,
    "start_time": "2023-01-15T17:36:08.651Z"
   },
   {
    "duration": 6,
    "start_time": "2023-01-15T17:36:08.662Z"
   },
   {
    "duration": 27,
    "start_time": "2023-01-15T17:36:08.670Z"
   },
   {
    "duration": 32,
    "start_time": "2023-01-15T17:36:08.699Z"
   },
   {
    "duration": 16,
    "start_time": "2023-01-15T17:36:08.733Z"
   },
   {
    "duration": 4,
    "start_time": "2023-01-15T17:36:08.751Z"
   },
   {
    "duration": 33,
    "start_time": "2023-01-15T17:36:08.756Z"
   },
   {
    "duration": 15,
    "start_time": "2023-01-15T17:36:08.790Z"
   },
   {
    "duration": 18,
    "start_time": "2023-01-15T17:36:08.807Z"
   },
   {
    "duration": 19,
    "start_time": "2023-01-15T17:36:08.827Z"
   },
   {
    "duration": 20,
    "start_time": "2023-01-15T17:36:08.847Z"
   },
   {
    "duration": 14,
    "start_time": "2023-01-15T17:36:08.869Z"
   },
   {
    "duration": 14,
    "start_time": "2023-01-15T17:36:08.885Z"
   },
   {
    "duration": 19,
    "start_time": "2023-01-15T17:36:08.901Z"
   },
   {
    "duration": 66,
    "start_time": "2023-01-15T17:36:08.922Z"
   },
   {
    "duration": 9,
    "start_time": "2023-01-15T17:36:08.989Z"
   },
   {
    "duration": 28,
    "start_time": "2023-01-15T17:36:09.000Z"
   },
   {
    "duration": 17,
    "start_time": "2023-01-15T17:36:09.030Z"
   },
   {
    "duration": 24,
    "start_time": "2023-01-15T17:36:09.048Z"
   },
   {
    "duration": 1778,
    "start_time": "2023-01-15T17:36:09.074Z"
   },
   {
    "duration": 501,
    "start_time": "2023-01-15T17:42:27.519Z"
   },
   {
    "duration": 27,
    "start_time": "2023-01-15T17:42:28.023Z"
   },
   {
    "duration": 17,
    "start_time": "2023-01-15T17:42:28.052Z"
   },
   {
    "duration": 12,
    "start_time": "2023-01-15T17:42:28.071Z"
   },
   {
    "duration": 61,
    "start_time": "2023-01-15T17:42:28.084Z"
   },
   {
    "duration": 3,
    "start_time": "2023-01-15T17:42:28.147Z"
   },
   {
    "duration": 14,
    "start_time": "2023-01-15T17:42:28.152Z"
   },
   {
    "duration": 7,
    "start_time": "2023-01-15T17:42:28.168Z"
   },
   {
    "duration": 14,
    "start_time": "2023-01-15T17:42:28.176Z"
   },
   {
    "duration": 4,
    "start_time": "2023-01-15T17:42:28.194Z"
   },
   {
    "duration": 35,
    "start_time": "2023-01-15T17:42:28.215Z"
   },
   {
    "duration": 10,
    "start_time": "2023-01-15T17:42:28.251Z"
   },
   {
    "duration": 8,
    "start_time": "2023-01-15T17:42:28.262Z"
   },
   {
    "duration": 15,
    "start_time": "2023-01-15T17:42:28.272Z"
   },
   {
    "duration": 44,
    "start_time": "2023-01-15T17:42:28.289Z"
   },
   {
    "duration": 17,
    "start_time": "2023-01-15T17:42:28.334Z"
   },
   {
    "duration": 4,
    "start_time": "2023-01-15T17:42:28.352Z"
   },
   {
    "duration": 15,
    "start_time": "2023-01-15T17:42:28.357Z"
   },
   {
    "duration": 9,
    "start_time": "2023-01-15T17:42:28.373Z"
   },
   {
    "duration": 32,
    "start_time": "2023-01-15T17:42:28.383Z"
   },
   {
    "duration": 9,
    "start_time": "2023-01-15T17:42:28.417Z"
   },
   {
    "duration": 21,
    "start_time": "2023-01-15T17:42:28.427Z"
   },
   {
    "duration": 15,
    "start_time": "2023-01-15T17:42:28.449Z"
   },
   {
    "duration": 16,
    "start_time": "2023-01-15T17:42:28.466Z"
   },
   {
    "duration": 79,
    "start_time": "2023-01-15T17:46:48.325Z"
   },
   {
    "duration": 8,
    "start_time": "2023-01-15T17:46:48.407Z"
   },
   {
    "duration": 20,
    "start_time": "2023-01-15T17:46:48.416Z"
   },
   {
    "duration": 17,
    "start_time": "2023-01-15T17:46:48.437Z"
   },
   {
    "duration": 14,
    "start_time": "2023-01-15T17:46:48.456Z"
   },
   {
    "duration": 972,
    "start_time": "2023-01-15T17:46:48.472Z"
   },
   {
    "duration": 262,
    "start_time": "2023-01-15T17:46:49.906Z"
   },
   {
    "duration": 17,
    "start_time": "2023-01-15T17:46:50.170Z"
   },
   {
    "duration": 254,
    "start_time": "2023-01-15T17:48:09.609Z"
   },
   {
    "duration": 198,
    "start_time": "2023-01-15T17:48:23.573Z"
   },
   {
    "duration": 605,
    "start_time": "2023-01-15T17:56:37.909Z"
   },
   {
    "duration": 522,
    "start_time": "2023-01-15T17:56:51.689Z"
   },
   {
    "duration": 520,
    "start_time": "2023-01-15T17:57:05.059Z"
   },
   {
    "duration": 184,
    "start_time": "2023-01-15T17:57:38.209Z"
   },
   {
    "duration": 202,
    "start_time": "2023-01-15T17:57:51.133Z"
   },
   {
    "duration": 175,
    "start_time": "2023-01-15T17:58:54.250Z"
   },
   {
    "duration": 179,
    "start_time": "2023-01-15T17:59:07.782Z"
   },
   {
    "duration": 658,
    "start_time": "2023-01-15T18:06:31.907Z"
   },
   {
    "duration": 732,
    "start_time": "2023-01-15T18:07:22.677Z"
   },
   {
    "duration": 626,
    "start_time": "2023-01-15T18:08:03.340Z"
   },
   {
    "duration": 511,
    "start_time": "2023-01-15T18:08:11.973Z"
   },
   {
    "duration": 658,
    "start_time": "2023-01-15T18:08:50.685Z"
   },
   {
    "duration": 369,
    "start_time": "2023-01-15T18:09:48.864Z"
   },
   {
    "duration": 561,
    "start_time": "2023-01-15T18:11:40.147Z"
   },
   {
    "duration": 32,
    "start_time": "2023-01-15T18:11:40.711Z"
   },
   {
    "duration": 21,
    "start_time": "2023-01-15T18:11:40.745Z"
   },
   {
    "duration": 28,
    "start_time": "2023-01-15T18:11:40.769Z"
   },
   {
    "duration": 68,
    "start_time": "2023-01-15T18:11:40.799Z"
   },
   {
    "duration": 5,
    "start_time": "2023-01-15T18:11:40.870Z"
   },
   {
    "duration": 34,
    "start_time": "2023-01-15T18:11:40.877Z"
   },
   {
    "duration": 35,
    "start_time": "2023-01-15T18:11:40.913Z"
   },
   {
    "duration": 16,
    "start_time": "2023-01-15T18:11:40.950Z"
   },
   {
    "duration": 8,
    "start_time": "2023-01-15T18:11:40.970Z"
   },
   {
    "duration": 70,
    "start_time": "2023-01-15T18:11:40.981Z"
   },
   {
    "duration": 15,
    "start_time": "2023-01-15T18:11:41.053Z"
   },
   {
    "duration": 5,
    "start_time": "2023-01-15T18:11:41.071Z"
   },
   {
    "duration": 38,
    "start_time": "2023-01-15T18:11:41.078Z"
   },
   {
    "duration": 33,
    "start_time": "2023-01-15T18:11:41.120Z"
   },
   {
    "duration": 26,
    "start_time": "2023-01-15T18:11:41.155Z"
   },
   {
    "duration": 4,
    "start_time": "2023-01-15T18:11:41.184Z"
   },
   {
    "duration": 46,
    "start_time": "2023-01-15T18:11:41.191Z"
   },
   {
    "duration": 11,
    "start_time": "2023-01-15T18:11:41.240Z"
   },
   {
    "duration": 4,
    "start_time": "2023-01-15T18:11:41.255Z"
   },
   {
    "duration": 29,
    "start_time": "2023-01-15T18:11:41.261Z"
   },
   {
    "duration": 27,
    "start_time": "2023-01-15T18:11:41.292Z"
   },
   {
    "duration": 23,
    "start_time": "2023-01-15T18:11:41.321Z"
   },
   {
    "duration": 24,
    "start_time": "2023-01-15T18:11:41.346Z"
   },
   {
    "duration": 51,
    "start_time": "2023-01-15T18:11:41.372Z"
   },
   {
    "duration": 73,
    "start_time": "2023-01-15T18:11:41.425Z"
   },
   {
    "duration": 22,
    "start_time": "2023-01-15T18:11:41.501Z"
   },
   {
    "duration": 23,
    "start_time": "2023-01-15T18:11:41.527Z"
   },
   {
    "duration": 24,
    "start_time": "2023-01-15T18:11:41.552Z"
   },
   {
    "duration": 53,
    "start_time": "2023-01-15T18:11:41.579Z"
   },
   {
    "duration": 1974,
    "start_time": "2023-01-15T18:11:41.634Z"
   },
   {
    "duration": 13,
    "start_time": "2023-01-15T18:24:03.044Z"
   },
   {
    "duration": 12,
    "start_time": "2023-01-15T18:24:14.211Z"
   },
   {
    "duration": 489,
    "start_time": "2023-01-15T18:24:28.382Z"
   },
   {
    "duration": 23,
    "start_time": "2023-01-15T18:24:28.873Z"
   },
   {
    "duration": 27,
    "start_time": "2023-01-15T18:24:28.897Z"
   },
   {
    "duration": 16,
    "start_time": "2023-01-15T18:24:28.927Z"
   },
   {
    "duration": 35,
    "start_time": "2023-01-15T18:24:28.944Z"
   },
   {
    "duration": 4,
    "start_time": "2023-01-15T18:24:28.980Z"
   },
   {
    "duration": 31,
    "start_time": "2023-01-15T18:24:28.985Z"
   },
   {
    "duration": 13,
    "start_time": "2023-01-15T18:24:29.018Z"
   },
   {
    "duration": 6,
    "start_time": "2023-01-15T18:24:29.033Z"
   },
   {
    "duration": 10,
    "start_time": "2023-01-15T18:24:29.042Z"
   },
   {
    "duration": 31,
    "start_time": "2023-01-15T18:24:29.054Z"
   },
   {
    "duration": 35,
    "start_time": "2023-01-15T18:24:29.087Z"
   },
   {
    "duration": 6,
    "start_time": "2023-01-15T18:24:29.124Z"
   },
   {
    "duration": 13,
    "start_time": "2023-01-15T18:24:29.131Z"
   },
   {
    "duration": 25,
    "start_time": "2023-01-15T18:24:29.146Z"
   },
   {
    "duration": 17,
    "start_time": "2023-01-15T18:24:29.172Z"
   },
   {
    "duration": 3,
    "start_time": "2023-01-15T18:24:29.216Z"
   },
   {
    "duration": 17,
    "start_time": "2023-01-15T18:24:29.221Z"
   },
   {
    "duration": 6,
    "start_time": "2023-01-15T18:24:29.240Z"
   },
   {
    "duration": 3,
    "start_time": "2023-01-15T18:24:29.248Z"
   },
   {
    "duration": 16,
    "start_time": "2023-01-15T18:24:29.252Z"
   },
   {
    "duration": 22,
    "start_time": "2023-01-15T18:24:29.270Z"
   },
   {
    "duration": 32,
    "start_time": "2023-01-15T18:24:29.294Z"
   },
   {
    "duration": 15,
    "start_time": "2023-01-15T18:24:29.327Z"
   },
   {
    "duration": 16,
    "start_time": "2023-01-15T18:24:29.344Z"
   },
   {
    "duration": 81,
    "start_time": "2023-01-15T18:24:29.362Z"
   },
   {
    "duration": 8,
    "start_time": "2023-01-15T18:24:29.444Z"
   },
   {
    "duration": 15,
    "start_time": "2023-01-15T18:24:29.455Z"
   },
   {
    "duration": 15,
    "start_time": "2023-01-15T18:24:29.471Z"
   },
   {
    "duration": 35,
    "start_time": "2023-01-15T18:24:29.487Z"
   },
   {
    "duration": 1561,
    "start_time": "2023-01-15T18:24:29.523Z"
   },
   {
    "duration": 5,
    "start_time": "2023-01-15T18:24:58.189Z"
   },
   {
    "duration": 6,
    "start_time": "2023-01-15T18:25:03.207Z"
   },
   {
    "duration": 513,
    "start_time": "2023-01-15T18:25:14.434Z"
   },
   {
    "duration": 29,
    "start_time": "2023-01-15T18:25:14.949Z"
   },
   {
    "duration": 17,
    "start_time": "2023-01-15T18:25:14.979Z"
   },
   {
    "duration": 10,
    "start_time": "2023-01-15T18:25:15.016Z"
   },
   {
    "duration": 53,
    "start_time": "2023-01-15T18:25:15.027Z"
   },
   {
    "duration": 3,
    "start_time": "2023-01-15T18:25:15.082Z"
   },
   {
    "duration": 20,
    "start_time": "2023-01-15T18:25:15.087Z"
   },
   {
    "duration": 16,
    "start_time": "2023-01-15T18:25:15.108Z"
   },
   {
    "duration": 9,
    "start_time": "2023-01-15T18:25:15.126Z"
   },
   {
    "duration": 5,
    "start_time": "2023-01-15T18:25:15.138Z"
   },
   {
    "duration": 34,
    "start_time": "2023-01-15T18:25:15.145Z"
   },
   {
    "duration": 14,
    "start_time": "2023-01-15T18:25:15.181Z"
   },
   {
    "duration": 20,
    "start_time": "2023-01-15T18:25:15.197Z"
   },
   {
    "duration": 20,
    "start_time": "2023-01-15T18:25:15.219Z"
   },
   {
    "duration": 28,
    "start_time": "2023-01-15T18:25:15.242Z"
   },
   {
    "duration": 17,
    "start_time": "2023-01-15T18:25:15.272Z"
   },
   {
    "duration": 4,
    "start_time": "2023-01-15T18:25:15.291Z"
   },
   {
    "duration": 28,
    "start_time": "2023-01-15T18:25:15.296Z"
   },
   {
    "duration": 25,
    "start_time": "2023-01-15T18:25:15.326Z"
   },
   {
    "duration": 15,
    "start_time": "2023-01-15T18:25:15.353Z"
   },
   {
    "duration": 13,
    "start_time": "2023-01-15T18:25:15.369Z"
   },
   {
    "duration": 17,
    "start_time": "2023-01-15T18:25:15.384Z"
   },
   {
    "duration": 21,
    "start_time": "2023-01-15T18:25:15.403Z"
   },
   {
    "duration": 14,
    "start_time": "2023-01-15T18:25:15.426Z"
   },
   {
    "duration": 14,
    "start_time": "2023-01-15T18:25:15.442Z"
   },
   {
    "duration": 91,
    "start_time": "2023-01-15T18:25:15.459Z"
   },
   {
    "duration": 9,
    "start_time": "2023-01-15T18:25:15.552Z"
   },
   {
    "duration": 23,
    "start_time": "2023-01-15T18:25:15.565Z"
   },
   {
    "duration": 40,
    "start_time": "2023-01-15T18:25:15.590Z"
   },
   {
    "duration": 22,
    "start_time": "2023-01-15T18:25:15.632Z"
   },
   {
    "duration": 1688,
    "start_time": "2023-01-15T18:25:15.656Z"
   },
   {
    "duration": 46,
    "start_time": "2023-01-15T18:35:54.472Z"
   }
  ],
  "celltoolbar": "Edit Metadata",
  "colab": {
   "name": "dpp_template_part2.ipynb",
   "provenance": []
  },
  "kernelspec": {
   "display_name": "Python 3 (ipykernel)",
   "language": "python",
   "name": "python3"
  },
  "language_info": {
   "codemirror_mode": {
    "name": "ipython",
    "version": 3
   },
   "file_extension": ".py",
   "mimetype": "text/x-python",
   "name": "python",
   "nbconvert_exporter": "python",
   "pygments_lexer": "ipython3",
   "version": "3.9.13"
  },
  "toc": {
   "base_numbering": 1,
   "nav_menu": {},
   "number_sections": true,
   "sideBar": true,
   "skip_h1_title": true,
   "title_cell": "Table of Contents",
   "title_sidebar": "Contents",
   "toc_cell": false,
   "toc_position": {
    "height": "calc(100% - 180px)",
    "left": "10px",
    "top": "150px",
    "width": "303.819px"
   },
   "toc_section_display": true,
   "toc_window_display": true
  }
 },
 "nbformat": 4,
 "nbformat_minor": 5
}
